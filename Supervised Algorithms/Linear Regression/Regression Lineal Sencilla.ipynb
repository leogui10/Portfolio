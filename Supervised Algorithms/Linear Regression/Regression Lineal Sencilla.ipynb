{
 "cells": [
  {
   "cell_type": "markdown",
   "id": "aa6656b3",
   "metadata": {},
   "source": [
    "# Importamos las librerias necesarias"
   ]
  },
  {
   "cell_type": "code",
   "execution_count": 3,
   "id": "83e4dcf3",
   "metadata": {},
   "outputs": [],
   "source": [
    "import pandas as pd"
   ]
  },
  {
   "cell_type": "markdown",
   "id": "d04558f1",
   "metadata": {},
   "source": [
    "# 1. Cargamos la data"
   ]
  },
  {
   "cell_type": "code",
   "execution_count": 4,
   "id": "773b9b7f",
   "metadata": {},
   "outputs": [],
   "source": [
    "#salary = pd.read_csv('https://github.com/ybifoundation/Dataset/raw/main/Salary%20Data.csv')\n",
    "salary = pd.read_csv('SalaryData.csv')"
   ]
  },
  {
   "cell_type": "code",
   "execution_count": 5,
   "id": "8e4e7ecc",
   "metadata": {},
   "outputs": [
    {
     "data": {
      "text/html": [
       "<div>\n",
       "<style scoped>\n",
       "    .dataframe tbody tr th:only-of-type {\n",
       "        vertical-align: middle;\n",
       "    }\n",
       "\n",
       "    .dataframe tbody tr th {\n",
       "        vertical-align: top;\n",
       "    }\n",
       "\n",
       "    .dataframe thead th {\n",
       "        text-align: right;\n",
       "    }\n",
       "</style>\n",
       "<table border=\"1\" class=\"dataframe\">\n",
       "  <thead>\n",
       "    <tr style=\"text-align: right;\">\n",
       "      <th></th>\n",
       "      <th>Experience Years</th>\n",
       "      <th>Salary</th>\n",
       "    </tr>\n",
       "  </thead>\n",
       "  <tbody>\n",
       "    <tr>\n",
       "      <th>0</th>\n",
       "      <td>1.1</td>\n",
       "      <td>39343</td>\n",
       "    </tr>\n",
       "    <tr>\n",
       "      <th>1</th>\n",
       "      <td>1.2</td>\n",
       "      <td>42774</td>\n",
       "    </tr>\n",
       "    <tr>\n",
       "      <th>2</th>\n",
       "      <td>1.3</td>\n",
       "      <td>46205</td>\n",
       "    </tr>\n",
       "    <tr>\n",
       "      <th>3</th>\n",
       "      <td>1.5</td>\n",
       "      <td>37731</td>\n",
       "    </tr>\n",
       "    <tr>\n",
       "      <th>4</th>\n",
       "      <td>2.0</td>\n",
       "      <td>43525</td>\n",
       "    </tr>\n",
       "  </tbody>\n",
       "</table>\n",
       "</div>"
      ],
      "text/plain": [
       "   Experience Years  Salary\n",
       "0               1.1   39343\n",
       "1               1.2   42774\n",
       "2               1.3   46205\n",
       "3               1.5   37731\n",
       "4               2.0   43525"
      ]
     },
     "execution_count": 5,
     "metadata": {},
     "output_type": "execute_result"
    }
   ],
   "source": [
    "salary.head()"
   ]
  },
  {
   "cell_type": "code",
   "execution_count": 6,
   "id": "487d6d45",
   "metadata": {},
   "outputs": [
    {
     "name": "stdout",
     "output_type": "stream",
     "text": [
      "<class 'pandas.core.frame.DataFrame'>\n",
      "RangeIndex: 40 entries, 0 to 39\n",
      "Data columns (total 2 columns):\n",
      " #   Column            Non-Null Count  Dtype  \n",
      "---  ------            --------------  -----  \n",
      " 0   Experience Years  40 non-null     float64\n",
      " 1   Salary            40 non-null     int64  \n",
      "dtypes: float64(1), int64(1)\n",
      "memory usage: 768.0 bytes\n"
     ]
    }
   ],
   "source": [
    "salary.info()\n",
    "\n",
    "#Tenemos 40 registros."
   ]
  },
  {
   "cell_type": "markdown",
   "id": "e87607e2",
   "metadata": {},
   "source": [
    "# 2. Seleccionamos la variable objetivo y caracteristicas."
   ]
  },
  {
   "cell_type": "code",
   "execution_count": 7,
   "id": "f6a76584",
   "metadata": {},
   "outputs": [
    {
     "data": {
      "text/plain": [
       "Index(['Experience Years', 'Salary'], dtype='object')"
      ]
     },
     "execution_count": 7,
     "metadata": {},
     "output_type": "execute_result"
    }
   ],
   "source": [
    "salary.columns"
   ]
  },
  {
   "cell_type": "code",
   "execution_count": 8,
   "id": "833cda33",
   "metadata": {},
   "outputs": [],
   "source": [
    "#Definimos la variable objetivo\n",
    "\n",
    "y = salary['Salary']\n",
    "\n",
    "#Definimos las variables predictoras\n",
    "\n",
    "X = salary[['Experience Years']]"
   ]
  },
  {
   "cell_type": "markdown",
   "id": "db94e49e",
   "metadata": {},
   "source": [
    "# 3. Train Test Split"
   ]
  },
  {
   "cell_type": "code",
   "execution_count": 9,
   "id": "b96c240c",
   "metadata": {},
   "outputs": [],
   "source": [
    "from sklearn.model_selection import train_test_split\n",
    "X_train, X_test, y_train, y_test = train_test_split(X,y, train_size=0.7, random_state=2529)\n",
    "\n",
    "#El random state establece una semila para el generador de numeros aleatorios.\n",
    "#Esto garantiza que los resultados sean reproducibles."
   ]
  },
  {
   "cell_type": "code",
   "execution_count": 10,
   "id": "0a456e3b",
   "metadata": {},
   "outputs": [
    {
     "data": {
      "text/html": [
       "<div>\n",
       "<style scoped>\n",
       "    .dataframe tbody tr th:only-of-type {\n",
       "        vertical-align: middle;\n",
       "    }\n",
       "\n",
       "    .dataframe tbody tr th {\n",
       "        vertical-align: top;\n",
       "    }\n",
       "\n",
       "    .dataframe thead th {\n",
       "        text-align: right;\n",
       "    }\n",
       "</style>\n",
       "<table border=\"1\" class=\"dataframe\">\n",
       "  <thead>\n",
       "    <tr style=\"text-align: right;\">\n",
       "      <th></th>\n",
       "      <th>Experience Years</th>\n",
       "    </tr>\n",
       "  </thead>\n",
       "  <tbody>\n",
       "    <tr>\n",
       "      <th>28</th>\n",
       "      <td>6.5</td>\n",
       "    </tr>\n",
       "    <tr>\n",
       "      <th>31</th>\n",
       "      <td>7.9</td>\n",
       "    </tr>\n",
       "  </tbody>\n",
       "</table>\n",
       "</div>"
      ],
      "text/plain": [
       "    Experience Years\n",
       "28               6.5\n",
       "31               7.9"
      ]
     },
     "execution_count": 10,
     "metadata": {},
     "output_type": "execute_result"
    }
   ],
   "source": [
    "X_train.head(2)"
   ]
  },
  {
   "cell_type": "code",
   "execution_count": 11,
   "id": "2e25527a",
   "metadata": {},
   "outputs": [
    {
     "data": {
      "text/plain": [
       "28     90000\n",
       "31    101302\n",
       "34    109431\n",
       "20     64500\n",
       "4      43525\n",
       "Name: Salary, dtype: int64"
      ]
     },
     "execution_count": 11,
     "metadata": {},
     "output_type": "execute_result"
    }
   ],
   "source": [
    "y_train.head()"
   ]
  },
  {
   "cell_type": "code",
   "execution_count": 12,
   "id": "918ac6af",
   "metadata": {},
   "outputs": [
    {
     "name": "stdout",
     "output_type": "stream",
     "text": [
      "<class 'pandas.core.frame.DataFrame'>\n",
      "<class 'pandas.core.series.Series'>\n"
     ]
    }
   ],
   "source": [
    "print(type(X_train))\n",
    "print(type(y_train))"
   ]
  },
  {
   "cell_type": "code",
   "execution_count": 13,
   "id": "ab84fb8e",
   "metadata": {},
   "outputs": [
    {
     "data": {
      "text/plain": [
       "((28, 1), (12, 1), (28,), (12,))"
      ]
     },
     "execution_count": 13,
     "metadata": {},
     "output_type": "execute_result"
    }
   ],
   "source": [
    "X_train.shape, X_test.shape, y_train.shape, y_test.shape"
   ]
  },
  {
   "cell_type": "markdown",
   "id": "4cc6e7aa",
   "metadata": {},
   "source": [
    "# 4. Seleccionamos el modelo"
   ]
  },
  {
   "cell_type": "code",
   "execution_count": 14,
   "id": "af787bf3",
   "metadata": {},
   "outputs": [],
   "source": [
    "from sklearn.linear_model import LinearRegression\n",
    "model = LinearRegression()"
   ]
  },
  {
   "cell_type": "markdown",
   "id": "b2e019ac",
   "metadata": {},
   "source": [
    "# 5. Entrenamos/Ajustamos el modelo"
   ]
  },
  {
   "cell_type": "code",
   "execution_count": 15,
   "id": "662a7bd3",
   "metadata": {},
   "outputs": [
    {
     "data": {
      "text/html": [
       "<style>#sk-container-id-1 {color: black;background-color: white;}#sk-container-id-1 pre{padding: 0;}#sk-container-id-1 div.sk-toggleable {background-color: white;}#sk-container-id-1 label.sk-toggleable__label {cursor: pointer;display: block;width: 100%;margin-bottom: 0;padding: 0.3em;box-sizing: border-box;text-align: center;}#sk-container-id-1 label.sk-toggleable__label-arrow:before {content: \"▸\";float: left;margin-right: 0.25em;color: #696969;}#sk-container-id-1 label.sk-toggleable__label-arrow:hover:before {color: black;}#sk-container-id-1 div.sk-estimator:hover label.sk-toggleable__label-arrow:before {color: black;}#sk-container-id-1 div.sk-toggleable__content {max-height: 0;max-width: 0;overflow: hidden;text-align: left;background-color: #f0f8ff;}#sk-container-id-1 div.sk-toggleable__content pre {margin: 0.2em;color: black;border-radius: 0.25em;background-color: #f0f8ff;}#sk-container-id-1 input.sk-toggleable__control:checked~div.sk-toggleable__content {max-height: 200px;max-width: 100%;overflow: auto;}#sk-container-id-1 input.sk-toggleable__control:checked~label.sk-toggleable__label-arrow:before {content: \"▾\";}#sk-container-id-1 div.sk-estimator input.sk-toggleable__control:checked~label.sk-toggleable__label {background-color: #d4ebff;}#sk-container-id-1 div.sk-label input.sk-toggleable__control:checked~label.sk-toggleable__label {background-color: #d4ebff;}#sk-container-id-1 input.sk-hidden--visually {border: 0;clip: rect(1px 1px 1px 1px);clip: rect(1px, 1px, 1px, 1px);height: 1px;margin: -1px;overflow: hidden;padding: 0;position: absolute;width: 1px;}#sk-container-id-1 div.sk-estimator {font-family: monospace;background-color: #f0f8ff;border: 1px dotted black;border-radius: 0.25em;box-sizing: border-box;margin-bottom: 0.5em;}#sk-container-id-1 div.sk-estimator:hover {background-color: #d4ebff;}#sk-container-id-1 div.sk-parallel-item::after {content: \"\";width: 100%;border-bottom: 1px solid gray;flex-grow: 1;}#sk-container-id-1 div.sk-label:hover label.sk-toggleable__label {background-color: #d4ebff;}#sk-container-id-1 div.sk-serial::before {content: \"\";position: absolute;border-left: 1px solid gray;box-sizing: border-box;top: 0;bottom: 0;left: 50%;z-index: 0;}#sk-container-id-1 div.sk-serial {display: flex;flex-direction: column;align-items: center;background-color: white;padding-right: 0.2em;padding-left: 0.2em;position: relative;}#sk-container-id-1 div.sk-item {position: relative;z-index: 1;}#sk-container-id-1 div.sk-parallel {display: flex;align-items: stretch;justify-content: center;background-color: white;position: relative;}#sk-container-id-1 div.sk-item::before, #sk-container-id-1 div.sk-parallel-item::before {content: \"\";position: absolute;border-left: 1px solid gray;box-sizing: border-box;top: 0;bottom: 0;left: 50%;z-index: -1;}#sk-container-id-1 div.sk-parallel-item {display: flex;flex-direction: column;z-index: 1;position: relative;background-color: white;}#sk-container-id-1 div.sk-parallel-item:first-child::after {align-self: flex-end;width: 50%;}#sk-container-id-1 div.sk-parallel-item:last-child::after {align-self: flex-start;width: 50%;}#sk-container-id-1 div.sk-parallel-item:only-child::after {width: 0;}#sk-container-id-1 div.sk-dashed-wrapped {border: 1px dashed gray;margin: 0 0.4em 0.5em 0.4em;box-sizing: border-box;padding-bottom: 0.4em;background-color: white;}#sk-container-id-1 div.sk-label label {font-family: monospace;font-weight: bold;display: inline-block;line-height: 1.2em;}#sk-container-id-1 div.sk-label-container {text-align: center;}#sk-container-id-1 div.sk-container {/* jupyter's `normalize.less` sets `[hidden] { display: none; }` but bootstrap.min.css set `[hidden] { display: none !important; }` so we also need the `!important` here to be able to override the default hidden behavior on the sphinx rendered scikit-learn.org. See: https://github.com/scikit-learn/scikit-learn/issues/21755 */display: inline-block !important;position: relative;}#sk-container-id-1 div.sk-text-repr-fallback {display: none;}</style><div id=\"sk-container-id-1\" class=\"sk-top-container\"><div class=\"sk-text-repr-fallback\"><pre>LinearRegression()</pre><b>In a Jupyter environment, please rerun this cell to show the HTML representation or trust the notebook. <br />On GitHub, the HTML representation is unable to render, please try loading this page with nbviewer.org.</b></div><div class=\"sk-container\" hidden><div class=\"sk-item\"><div class=\"sk-estimator sk-toggleable\"><input class=\"sk-toggleable__control sk-hidden--visually\" id=\"sk-estimator-id-1\" type=\"checkbox\" checked><label for=\"sk-estimator-id-1\" class=\"sk-toggleable__label sk-toggleable__label-arrow\">LinearRegression</label><div class=\"sk-toggleable__content\"><pre>LinearRegression()</pre></div></div></div></div></div>"
      ],
      "text/plain": [
       "LinearRegression()"
      ]
     },
     "execution_count": 15,
     "metadata": {},
     "output_type": "execute_result"
    }
   ],
   "source": [
    "model.fit(X_train,y_train)"
   ]
  },
  {
   "cell_type": "code",
   "execution_count": 16,
   "id": "59640712",
   "metadata": {},
   "outputs": [
    {
     "data": {
      "text/plain": [
       "26596.961311068262"
      ]
     },
     "execution_count": 16,
     "metadata": {},
     "output_type": "execute_result"
    }
   ],
   "source": [
    "# Obtenemos el intercepto\n",
    "intercept = model.intercept_\n",
    "intercept"
   ]
  },
  {
   "cell_type": "code",
   "execution_count": 17,
   "id": "e082d81a",
   "metadata": {},
   "outputs": [
    {
     "data": {
      "text/plain": [
       "array([9405.61663234])"
      ]
     },
     "execution_count": 17,
     "metadata": {},
     "output_type": "execute_result"
    }
   ],
   "source": [
    "# Obtenemos los coeficientes\n",
    "coeficientes = model.coef_\n",
    "coeficientes"
   ]
  },
  {
   "cell_type": "markdown",
   "id": "d8c70e31",
   "metadata": {},
   "source": [
    "# 6. Predecimos con el modelo"
   ]
  },
  {
   "cell_type": "code",
   "execution_count": 18,
   "id": "dec0c7d8",
   "metadata": {},
   "outputs": [],
   "source": [
    "y_pred = model.predict(X_test)"
   ]
  },
  {
   "cell_type": "code",
   "execution_count": 19,
   "id": "462a2adf",
   "metadata": {},
   "outputs": [
    {
     "data": {
      "text/plain": [
       "array([ 90555.15441095,  59516.61952424, 106544.70268592,  64219.42784041,\n",
       "        68922.23615658, 123474.81262412,  84911.78443155,  63278.86617718,\n",
       "        65159.98950364,  61397.74285071,  37883.70126987,  50111.00289191])"
      ]
     },
     "execution_count": 19,
     "metadata": {},
     "output_type": "execute_result"
    }
   ],
   "source": [
    "y_pred"
   ]
  },
  {
   "cell_type": "markdown",
   "id": "085a75f0",
   "metadata": {},
   "source": [
    "# 7. Precisión del modelo"
   ]
  },
  {
   "cell_type": "code",
   "execution_count": 20,
   "id": "ae4121ef",
   "metadata": {},
   "outputs": [],
   "source": [
    "from sklearn.metrics import mean_absolute_error, mean_absolute_percentage_error, mean_squared_error"
   ]
  },
  {
   "cell_type": "code",
   "execution_count": 21,
   "id": "fbc7faca",
   "metadata": {},
   "outputs": [
    {
     "data": {
      "text/plain": [
       "4005.9263101681768"
      ]
     },
     "execution_count": 21,
     "metadata": {},
     "output_type": "execute_result"
    }
   ],
   "source": [
    "mae = mean_absolute_error(y_test,y_pred)\n",
    "mae\n",
    "\n",
    "#Error Absoluto medio(MAE) Indica en promedio cuanto difieren las predicciones del modelo con las reales.\n"
   ]
  },
  {
   "cell_type": "code",
   "execution_count": 25,
   "id": "849d3e29",
   "metadata": {},
   "outputs": [
    {
     "data": {
      "text/plain": [
       "0.06384602996141632"
      ]
     },
     "execution_count": 25,
     "metadata": {},
     "output_type": "execute_result"
    }
   ],
   "source": [
    "mape = mean_absolute_percentage_error(y_test,y_pred)\n",
    "mape\n",
    "\n",
    "#Muestra el % del MAE"
   ]
  },
  {
   "cell_type": "code",
   "execution_count": 26,
   "id": "fcf9e0a1",
   "metadata": {},
   "outputs": [
    {
     "data": {
      "text/plain": [
       "24141421.671440993"
      ]
     },
     "execution_count": 26,
     "metadata": {},
     "output_type": "execute_result"
    }
   ],
   "source": [
    "mse = mean_squared_error(y_test,y_pred)\n",
    "mse\n",
    "\n",
    "#Error Cuadratico Medio"
   ]
  },
  {
   "cell_type": "code",
   "execution_count": 27,
   "id": "c98202ea",
   "metadata": {},
   "outputs": [
    {
     "data": {
      "text/plain": [
       "4913.3920738570205"
      ]
     },
     "execution_count": 27,
     "metadata": {},
     "output_type": "execute_result"
    }
   ],
   "source": [
    "# Calcular la Raiz del Error Cuadratico Medio (RMSE) \n",
    "\n",
    "import numpy as np\n",
    "\n",
    "rmse = np.sqrt(mse)\n",
    "\n",
    "rmse\n",
    "\n",
    "#Significa que en promedio, las predicciones se desvian ±4913.39 unidades del valor real\n",
    "\n",
    "#Mas intuitivo\n"
   ]
  },
  {
   "cell_type": "code",
   "execution_count": 28,
   "id": "e7bbb395",
   "metadata": {},
   "outputs": [
    {
     "name": "stdout",
     "output_type": "stream",
     "text": [
      "MEAN ABSOLUTE ERROR (MAE):  4005.9263101681768\n",
      "MEAN SQUARED ERROR (MSE):  24141421.671440993\n",
      "ROOT MEAN SQUARED EROOR (RMSE):  4913.3920738570205\n",
      "MEAN ABSOLUTE PERCENTAGE ERROR (MAPE):  0.06384602996141632\n"
     ]
    }
   ],
   "source": [
    "print(\"MEAN ABSOLUTE ERROR (MAE): \", mae)\n",
    "print(\"MEAN SQUARED ERROR (MSE): \", mse)\n",
    "print(\"ROOT MEAN SQUARED EROOR (RMSE): \", rmse)\n",
    "print(\"MEAN ABSOLUTE PERCENTAGE ERROR (MAPE): \", mape)"
   ]
  },
  {
   "cell_type": "code",
   "execution_count": 29,
   "id": "a9cee342",
   "metadata": {},
   "outputs": [
    {
     "name": "stdout",
     "output_type": "stream",
     "text": [
      "R-squared:  0.960233432146844\n"
     ]
    }
   ],
   "source": [
    "from sklearn.metrics import r2_score\n",
    "\n",
    "# Calcula el R-squared\n",
    "r_squared = r2_score(y_test, y_pred)\n",
    "\n",
    "print(\"R-squared: \", r_squared)\n"
   ]
  },
  {
   "cell_type": "markdown",
   "id": "89727517",
   "metadata": {},
   "source": [
    "# Resultados\n",
    "\n",
    "## Salario = Intercepto + (Coeficiente x AñosDeExperiencia)\n",
    "\n",
    "\n"
   ]
  },
  {
   "cell_type": "code",
   "execution_count": 44,
   "id": "2dcaa8db",
   "metadata": {},
   "outputs": [
    {
     "name": "stdout",
     "output_type": "stream",
     "text": [
      "Años de experiencia laboral3\n"
     ]
    },
    {
     "data": {
      "text/plain": [
       "54813.81120807484"
      ]
     },
     "execution_count": 44,
     "metadata": {},
     "output_type": "execute_result"
    }
   ],
   "source": [
    "anios = float(input(\"Años de experiencia laboral\"))\n",
    "\n",
    "calc_predicc = intercept + (coeficientes[0] * anios)\n",
    "\n",
    "calc_predicc"
   ]
  },
  {
   "cell_type": "code",
   "execution_count": 45,
   "id": "839e6678",
   "metadata": {},
   "outputs": [
    {
     "data": {
      "image/png": "[encoded data removed]",
      "text/plain": [
       "<Figure size 720x432 with 1 Axes>"
      ]
     },
     "metadata": {
      "needs_background": "light"
     },
     "output_type": "display_data"
    }
   ],
   "source": [
    "import matplotlib.pyplot as plt\n",
    "\n",
    "# Generar puntos para la línea de regresión\n",
    "x_range = np.linspace(X_train.min(), X_test.max(), 100)\n",
    "y_line = model.intercept_ + model.coef_[0] * x_range\n",
    "\n",
    "# Graficar los datos de entrenamiento y prueba, y la línea de regresión\n",
    "plt.figure(figsize=(10, 6))\n",
    "plt.scatter(X_train, y_train, color='blue', label='Entrenamiento')\n",
    "plt.scatter(X_test, y_test, color='red', label='Prueba')\n",
    "plt.plot(x_range, y_line, color='green', label='Línea de Regresión')\n",
    "plt.title('Regresión Lineal del Salario vs. Años de Experiencia')\n",
    "plt.xlabel('Años de Experiencia')\n",
    "plt.ylabel('Salario')\n",
    "plt.legend()\n",
    "plt.show()\n"
   ]
  },
  {
   "cell_type": "code",
   "execution_count": null,
   "id": "6a8e7a3f",
   "metadata": {},
   "outputs": [],
   "source": []
  }
 ],
 "metadata": {
  "kernelspec": {
   "display_name": "Python 3 (ipykernel)",
   "language": "python",
   "name": "python3"
  },
  "language_info": {
   "codemirror_mode": {
    "name": "ipython",
    "version": 3
   },
   "file_extension": ".py",
   "mimetype": "text/x-python",
   "name": "python",
   "nbconvert_exporter": "python",
   "pygments_lexer": "ipython3",
   "version": "3.10.5"
  }
 },
 "nbformat": 4,
 "nbformat_minor": 5
}
