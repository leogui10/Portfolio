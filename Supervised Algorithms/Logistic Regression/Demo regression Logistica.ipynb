{
 "cells": [
  {
   "cell_type": "markdown",
   "id": "2c72efe3",
   "metadata": {},
   "source": [
    "# Importamos las librerias necesarias"
   ]
  },
  {
   "cell_type": "code",
   "execution_count": 1,
   "id": "4d7cbd15",
   "metadata": {},
   "outputs": [],
   "source": [
    "import numpy as np #PAra algebra lineal\n",
    "import pandas as pd #Procesamiento de datos\n",
    "import matplotlib.pyplot as plt #Graficar\n",
    "import seaborn as sns #Visualizar datos\n",
    "from collections import Counter"
   ]
  },
  {
   "cell_type": "markdown",
   "id": "bf5a0a53",
   "metadata": {},
   "source": [
    "# Cargamos los datos"
   ]
  },
  {
   "cell_type": "code",
   "execution_count": 2,
   "id": "8921a4ed",
   "metadata": {},
   "outputs": [],
   "source": [
    "df = pd.read_csv(\"Social_Network_Ads.csv\")"
   ]
  },
  {
   "cell_type": "code",
   "execution_count": 3,
   "id": "456e31a1",
   "metadata": {},
   "outputs": [
    {
     "data": {
      "text/html": [
       "<div>\n",
       "<style scoped>\n",
       "    .dataframe tbody tr th:only-of-type {\n",
       "        vertical-align: middle;\n",
       "    }\n",
       "\n",
       "    .dataframe tbody tr th {\n",
       "        vertical-align: top;\n",
       "    }\n",
       "\n",
       "    .dataframe thead th {\n",
       "        text-align: right;\n",
       "    }\n",
       "</style>\n",
       "<table border=\"1\" class=\"dataframe\">\n",
       "  <thead>\n",
       "    <tr style=\"text-align: right;\">\n",
       "      <th></th>\n",
       "      <th>User ID</th>\n",
       "      <th>Gender</th>\n",
       "      <th>Age</th>\n",
       "      <th>EstimatedSalary</th>\n",
       "      <th>Purchased</th>\n",
       "    </tr>\n",
       "  </thead>\n",
       "  <tbody>\n",
       "    <tr>\n",
       "      <th>0</th>\n",
       "      <td>15624510</td>\n",
       "      <td>Male</td>\n",
       "      <td>19</td>\n",
       "      <td>19000</td>\n",
       "      <td>0</td>\n",
       "    </tr>\n",
       "    <tr>\n",
       "      <th>1</th>\n",
       "      <td>15810944</td>\n",
       "      <td>Male</td>\n",
       "      <td>35</td>\n",
       "      <td>20000</td>\n",
       "      <td>0</td>\n",
       "    </tr>\n",
       "    <tr>\n",
       "      <th>2</th>\n",
       "      <td>15668575</td>\n",
       "      <td>Female</td>\n",
       "      <td>26</td>\n",
       "      <td>43000</td>\n",
       "      <td>0</td>\n",
       "    </tr>\n",
       "    <tr>\n",
       "      <th>3</th>\n",
       "      <td>15603246</td>\n",
       "      <td>Female</td>\n",
       "      <td>27</td>\n",
       "      <td>57000</td>\n",
       "      <td>0</td>\n",
       "    </tr>\n",
       "    <tr>\n",
       "      <th>4</th>\n",
       "      <td>15804002</td>\n",
       "      <td>Male</td>\n",
       "      <td>19</td>\n",
       "      <td>76000</td>\n",
       "      <td>0</td>\n",
       "    </tr>\n",
       "  </tbody>\n",
       "</table>\n",
       "</div>"
      ],
      "text/plain": [
       "    User ID  Gender  Age  EstimatedSalary  Purchased\n",
       "0  15624510    Male   19            19000          0\n",
       "1  15810944    Male   35            20000          0\n",
       "2  15668575  Female   26            43000          0\n",
       "3  15603246  Female   27            57000          0\n",
       "4  15804002    Male   19            76000          0"
      ]
     },
     "execution_count": 3,
     "metadata": {},
     "output_type": "execute_result"
    }
   ],
   "source": [
    "df.head()"
   ]
  },
  {
   "cell_type": "markdown",
   "id": "ba9157b3",
   "metadata": {},
   "source": [
    "# Analisis exploratorio. (EDA)"
   ]
  },
  {
   "cell_type": "code",
   "execution_count": 4,
   "id": "9ec84cee",
   "metadata": {},
   "outputs": [
    {
     "name": "stdout",
     "output_type": "stream",
     "text": [
      "<class 'pandas.core.frame.DataFrame'>\n",
      "RangeIndex: 400 entries, 0 to 399\n",
      "Data columns (total 5 columns):\n",
      " #   Column           Non-Null Count  Dtype \n",
      "---  ------           --------------  ----- \n",
      " 0   User ID          400 non-null    int64 \n",
      " 1   Gender           400 non-null    object\n",
      " 2   Age              400 non-null    int64 \n",
      " 3   EstimatedSalary  400 non-null    int64 \n",
      " 4   Purchased        400 non-null    int64 \n",
      "dtypes: int64(4), object(1)\n",
      "memory usage: 15.8+ KB\n"
     ]
    }
   ],
   "source": [
    "df.info()"
   ]
  },
  {
   "cell_type": "code",
   "execution_count": 5,
   "id": "1954f552",
   "metadata": {},
   "outputs": [
    {
     "data": {
      "text/html": [
       "<div>\n",
       "<style scoped>\n",
       "    .dataframe tbody tr th:only-of-type {\n",
       "        vertical-align: middle;\n",
       "    }\n",
       "\n",
       "    .dataframe tbody tr th {\n",
       "        vertical-align: top;\n",
       "    }\n",
       "\n",
       "    .dataframe thead th {\n",
       "        text-align: right;\n",
       "    }\n",
       "</style>\n",
       "<table border=\"1\" class=\"dataframe\">\n",
       "  <thead>\n",
       "    <tr style=\"text-align: right;\">\n",
       "      <th></th>\n",
       "      <th>User ID</th>\n",
       "      <th>Age</th>\n",
       "      <th>EstimatedSalary</th>\n",
       "      <th>Purchased</th>\n",
       "    </tr>\n",
       "  </thead>\n",
       "  <tbody>\n",
       "    <tr>\n",
       "      <th>count</th>\n",
       "      <td>4.000000e+02</td>\n",
       "      <td>400.000000</td>\n",
       "      <td>400.000000</td>\n",
       "      <td>400.000000</td>\n",
       "    </tr>\n",
       "    <tr>\n",
       "      <th>mean</th>\n",
       "      <td>1.569154e+07</td>\n",
       "      <td>37.655000</td>\n",
       "      <td>69742.500000</td>\n",
       "      <td>0.357500</td>\n",
       "    </tr>\n",
       "    <tr>\n",
       "      <th>std</th>\n",
       "      <td>7.165832e+04</td>\n",
       "      <td>10.482877</td>\n",
       "      <td>34096.960282</td>\n",
       "      <td>0.479864</td>\n",
       "    </tr>\n",
       "    <tr>\n",
       "      <th>min</th>\n",
       "      <td>1.556669e+07</td>\n",
       "      <td>18.000000</td>\n",
       "      <td>15000.000000</td>\n",
       "      <td>0.000000</td>\n",
       "    </tr>\n",
       "    <tr>\n",
       "      <th>25%</th>\n",
       "      <td>1.562676e+07</td>\n",
       "      <td>29.750000</td>\n",
       "      <td>43000.000000</td>\n",
       "      <td>0.000000</td>\n",
       "    </tr>\n",
       "    <tr>\n",
       "      <th>50%</th>\n",
       "      <td>1.569434e+07</td>\n",
       "      <td>37.000000</td>\n",
       "      <td>70000.000000</td>\n",
       "      <td>0.000000</td>\n",
       "    </tr>\n",
       "    <tr>\n",
       "      <th>75%</th>\n",
       "      <td>1.575036e+07</td>\n",
       "      <td>46.000000</td>\n",
       "      <td>88000.000000</td>\n",
       "      <td>1.000000</td>\n",
       "    </tr>\n",
       "    <tr>\n",
       "      <th>max</th>\n",
       "      <td>1.581524e+07</td>\n",
       "      <td>60.000000</td>\n",
       "      <td>150000.000000</td>\n",
       "      <td>1.000000</td>\n",
       "    </tr>\n",
       "  </tbody>\n",
       "</table>\n",
       "</div>"
      ],
      "text/plain": [
       "            User ID         Age  EstimatedSalary   Purchased\n",
       "count  4.000000e+02  400.000000       400.000000  400.000000\n",
       "mean   1.569154e+07   37.655000     69742.500000    0.357500\n",
       "std    7.165832e+04   10.482877     34096.960282    0.479864\n",
       "min    1.556669e+07   18.000000     15000.000000    0.000000\n",
       "25%    1.562676e+07   29.750000     43000.000000    0.000000\n",
       "50%    1.569434e+07   37.000000     70000.000000    0.000000\n",
       "75%    1.575036e+07   46.000000     88000.000000    1.000000\n",
       "max    1.581524e+07   60.000000    150000.000000    1.000000"
      ]
     },
     "execution_count": 5,
     "metadata": {},
     "output_type": "execute_result"
    }
   ],
   "source": [
    "df.describe()"
   ]
  },
  {
   "cell_type": "markdown",
   "id": "6592ee30",
   "metadata": {},
   "source": [
    "## Vemos si tenemos valores nulos"
   ]
  },
  {
   "cell_type": "code",
   "execution_count": 6,
   "id": "5489fc07",
   "metadata": {},
   "outputs": [
    {
     "data": {
      "text/plain": [
       "User ID            False\n",
       "Gender             False\n",
       "Age                False\n",
       "EstimatedSalary    False\n",
       "Purchased          False\n",
       "dtype: bool"
      ]
     },
     "execution_count": 6,
     "metadata": {},
     "output_type": "execute_result"
    }
   ],
   "source": [
    "df.isnull().all()"
   ]
  },
  {
   "cell_type": "markdown",
   "id": "a0f48863",
   "metadata": {},
   "source": [
    "## Distribucion de datos"
   ]
  },
  {
   "cell_type": "code",
   "execution_count": 7,
   "id": "b874c344",
   "metadata": {},
   "outputs": [
    {
     "data": {
      "text/plain": [
       "Text(0.5, 1.0, 'Distribución de Salario')"
      ]
     },
     "execution_count": 7,
     "metadata": {},
     "output_type": "execute_result"
    },
    {
     "data": {
      "image/png": "[encoded data removed]",
      "text/plain": [
       "<Figure size 1080x720 with 4 Axes>"
      ]
     },
     "metadata": {
      "needs_background": "light"
     },
     "output_type": "display_data"
    }
   ],
   "source": [
    "#Establemos una figura con 4 parcelas, organizado en 2 filas y 2 columnas\n",
    "\n",
    "fig, axes = plt.subplots(2,2 , figsize = (15,10))\n",
    "\n",
    "#Un diagrama de caja y bigote en la primera parcela sobre la variable AGE\n",
    "\n",
    "sns.boxplot(ax=axes[0,0], x = df[\"Age\"], palette = \"Set1\")\n",
    "axes[0,0].set_title(\"Edad de las Personas\")\n",
    "\n",
    "\n",
    "sns.histplot(ax=axes[0,1], x = 'Age', data=df, color=\"g\")\n",
    "axes[0,1].set_title(\"Distribución de Edades\")\n",
    "\n",
    "sns.boxplot(ax=axes[1,0], data = df[\"EstimatedSalary\"])\n",
    "axes[1,0].set_title(\"Salario Estimado de los Usuarios\")\n",
    "\n",
    "sns.histplot(ax=axes[1,1], x = \"EstimatedSalary\", data=df, color= \"y\")\n",
    "axes[1,1].set_title(\"Distribución de Salario\")"
   ]
  },
  {
   "cell_type": "markdown",
   "id": "015a2924",
   "metadata": {},
   "source": [
    "## Comparamos entre dos variables"
   ]
  },
  {
   "cell_type": "code",
   "execution_count": 10,
   "id": "d1e53afa",
   "metadata": {},
   "outputs": [
    {
     "data": {
      "text/plain": [
       "Text(0, 0.5, 'Cantidad')"
      ]
     },
     "execution_count": 10,
     "metadata": {},
     "output_type": "execute_result"
    },
    {
     "data": {
      "image/png": "[encoded data removed]",
      "text/plain": [
       "<Figure size 1080x360 with 2 Axes>"
      ]
     },
     "metadata": {
      "needs_background": "light"
     },
     "output_type": "display_data"
    }
   ],
   "source": [
    "#Crea espacio para graficar\n",
    "\n",
    "fig, axes = plt.subplots(1,2 , figsize = (15,5))\n",
    "\n",
    "#Vemos la frecuencia de los valores de compra y venta\n",
    "\n",
    "sns.countplot(ax=axes[0], x = \"Purchased\", data = df)\n",
    "axes[0].set_title(\"Frecuencia de Personas que Compraron\")\n",
    "axes[0].set_xlabel(\"Comprado\") \n",
    "axes[0].set_ylabel(\"Cantidad\")\n",
    "\n",
    "#Vemos Frecuencia de venta por genero\n",
    "\n",
    "sns.countplot(ax=axes[1], x = \"Purchased\", hue = 'Gender', data = df, palette=\"magma\")\n",
    "axes[1].set_title(\"Frecuencias de Personas que Compraron por Género\")\n",
    "axes[1].set_xlabel(\"Comprado\") \n",
    "axes[1].set_ylabel(\"Cantidad\")\n",
    "\n"
   ]
  },
  {
   "cell_type": "markdown",
   "id": "4a4757b3",
   "metadata": {},
   "source": [
    "## Vemos Correlacion de variables"
   ]
  },
  {
   "cell_type": "code",
   "execution_count": 11,
   "id": "41abfc0b",
   "metadata": {},
   "outputs": [
    {
     "name": "stderr",
     "output_type": "stream",
     "text": [
      "/var/folders/qb/0cqcyv8x37j3w9cbm4fq9dw40000gn/T/ipykernel_7243/1134722465.py:1: FutureWarning: The default value of numeric_only in DataFrame.corr is deprecated. In a future version, it will default to False. Select only valid columns or specify the value of numeric_only to silence this warning.\n",
      "  df.corr()\n"
     ]
    },
    {
     "data": {
      "text/html": [
       "<div>\n",
       "<style scoped>\n",
       "    .dataframe tbody tr th:only-of-type {\n",
       "        vertical-align: middle;\n",
       "    }\n",
       "\n",
       "    .dataframe tbody tr th {\n",
       "        vertical-align: top;\n",
       "    }\n",
       "\n",
       "    .dataframe thead th {\n",
       "        text-align: right;\n",
       "    }\n",
       "</style>\n",
       "<table border=\"1\" class=\"dataframe\">\n",
       "  <thead>\n",
       "    <tr style=\"text-align: right;\">\n",
       "      <th></th>\n",
       "      <th>User ID</th>\n",
       "      <th>Age</th>\n",
       "      <th>EstimatedSalary</th>\n",
       "      <th>Purchased</th>\n",
       "    </tr>\n",
       "  </thead>\n",
       "  <tbody>\n",
       "    <tr>\n",
       "      <th>User ID</th>\n",
       "      <td>1.000000</td>\n",
       "      <td>-0.000721</td>\n",
       "      <td>0.071097</td>\n",
       "      <td>0.007120</td>\n",
       "    </tr>\n",
       "    <tr>\n",
       "      <th>Age</th>\n",
       "      <td>-0.000721</td>\n",
       "      <td>1.000000</td>\n",
       "      <td>0.155238</td>\n",
       "      <td>0.622454</td>\n",
       "    </tr>\n",
       "    <tr>\n",
       "      <th>EstimatedSalary</th>\n",
       "      <td>0.071097</td>\n",
       "      <td>0.155238</td>\n",
       "      <td>1.000000</td>\n",
       "      <td>0.362083</td>\n",
       "    </tr>\n",
       "    <tr>\n",
       "      <th>Purchased</th>\n",
       "      <td>0.007120</td>\n",
       "      <td>0.622454</td>\n",
       "      <td>0.362083</td>\n",
       "      <td>1.000000</td>\n",
       "    </tr>\n",
       "  </tbody>\n",
       "</table>\n",
       "</div>"
      ],
      "text/plain": [
       "                  User ID       Age  EstimatedSalary  Purchased\n",
       "User ID          1.000000 -0.000721         0.071097   0.007120\n",
       "Age             -0.000721  1.000000         0.155238   0.622454\n",
       "EstimatedSalary  0.071097  0.155238         1.000000   0.362083\n",
       "Purchased        0.007120  0.622454         0.362083   1.000000"
      ]
     },
     "execution_count": 11,
     "metadata": {},
     "output_type": "execute_result"
    }
   ],
   "source": [
    "df.corr()"
   ]
  },
  {
   "cell_type": "markdown",
   "id": "befd29be",
   "metadata": {},
   "source": [
    "## Preparar la data"
   ]
  },
  {
   "cell_type": "code",
   "execution_count": 12,
   "id": "d1502d08",
   "metadata": {},
   "outputs": [],
   "source": [
    "df.drop('User ID', axis=1 , inplace = True)\n",
    "label = {'Male': 0, 'Female': 1}\n",
    "df[\"Gender\"].replace(label, inplace = True)"
   ]
  },
  {
   "cell_type": "code",
   "execution_count": 13,
   "id": "c6d921eb",
   "metadata": {},
   "outputs": [
    {
     "data": {
      "text/html": [
       "<div>\n",
       "<style scoped>\n",
       "    .dataframe tbody tr th:only-of-type {\n",
       "        vertical-align: middle;\n",
       "    }\n",
       "\n",
       "    .dataframe tbody tr th {\n",
       "        vertical-align: top;\n",
       "    }\n",
       "\n",
       "    .dataframe thead th {\n",
       "        text-align: right;\n",
       "    }\n",
       "</style>\n",
       "<table border=\"1\" class=\"dataframe\">\n",
       "  <thead>\n",
       "    <tr style=\"text-align: right;\">\n",
       "      <th></th>\n",
       "      <th>Gender</th>\n",
       "      <th>Age</th>\n",
       "      <th>EstimatedSalary</th>\n",
       "    </tr>\n",
       "  </thead>\n",
       "  <tbody>\n",
       "    <tr>\n",
       "      <th>0</th>\n",
       "      <td>0</td>\n",
       "      <td>19</td>\n",
       "      <td>19000</td>\n",
       "    </tr>\n",
       "    <tr>\n",
       "      <th>1</th>\n",
       "      <td>0</td>\n",
       "      <td>35</td>\n",
       "      <td>20000</td>\n",
       "    </tr>\n",
       "    <tr>\n",
       "      <th>2</th>\n",
       "      <td>1</td>\n",
       "      <td>26</td>\n",
       "      <td>43000</td>\n",
       "    </tr>\n",
       "    <tr>\n",
       "      <th>3</th>\n",
       "      <td>1</td>\n",
       "      <td>27</td>\n",
       "      <td>57000</td>\n",
       "    </tr>\n",
       "    <tr>\n",
       "      <th>4</th>\n",
       "      <td>0</td>\n",
       "      <td>19</td>\n",
       "      <td>76000</td>\n",
       "    </tr>\n",
       "    <tr>\n",
       "      <th>...</th>\n",
       "      <td>...</td>\n",
       "      <td>...</td>\n",
       "      <td>...</td>\n",
       "    </tr>\n",
       "    <tr>\n",
       "      <th>395</th>\n",
       "      <td>1</td>\n",
       "      <td>46</td>\n",
       "      <td>41000</td>\n",
       "    </tr>\n",
       "    <tr>\n",
       "      <th>396</th>\n",
       "      <td>0</td>\n",
       "      <td>51</td>\n",
       "      <td>23000</td>\n",
       "    </tr>\n",
       "    <tr>\n",
       "      <th>397</th>\n",
       "      <td>1</td>\n",
       "      <td>50</td>\n",
       "      <td>20000</td>\n",
       "    </tr>\n",
       "    <tr>\n",
       "      <th>398</th>\n",
       "      <td>0</td>\n",
       "      <td>36</td>\n",
       "      <td>33000</td>\n",
       "    </tr>\n",
       "    <tr>\n",
       "      <th>399</th>\n",
       "      <td>1</td>\n",
       "      <td>49</td>\n",
       "      <td>36000</td>\n",
       "    </tr>\n",
       "  </tbody>\n",
       "</table>\n",
       "<p>400 rows × 3 columns</p>\n",
       "</div>"
      ],
      "text/plain": [
       "     Gender  Age  EstimatedSalary\n",
       "0         0   19            19000\n",
       "1         0   35            20000\n",
       "2         1   26            43000\n",
       "3         1   27            57000\n",
       "4         0   19            76000\n",
       "..      ...  ...              ...\n",
       "395       1   46            41000\n",
       "396       0   51            23000\n",
       "397       1   50            20000\n",
       "398       0   36            33000\n",
       "399       1   49            36000\n",
       "\n",
       "[400 rows x 3 columns]"
      ]
     },
     "execution_count": 13,
     "metadata": {},
     "output_type": "execute_result"
    }
   ],
   "source": [
    "#Dividimos en input/output\n",
    "\n",
    "X = df.drop('Purchased', axis = 1)\n",
    "Y = df[\"Purchased\"]\n",
    "\n",
    "X\n"
   ]
  },
  {
   "cell_type": "code",
   "execution_count": 14,
   "id": "bcb5139e",
   "metadata": {},
   "outputs": [
    {
     "data": {
      "text/html": [
       "<div>\n",
       "<style scoped>\n",
       "    .dataframe tbody tr th:only-of-type {\n",
       "        vertical-align: middle;\n",
       "    }\n",
       "\n",
       "    .dataframe tbody tr th {\n",
       "        vertical-align: top;\n",
       "    }\n",
       "\n",
       "    .dataframe thead th {\n",
       "        text-align: right;\n",
       "    }\n",
       "</style>\n",
       "<table border=\"1\" class=\"dataframe\">\n",
       "  <thead>\n",
       "    <tr style=\"text-align: right;\">\n",
       "      <th></th>\n",
       "      <th>0</th>\n",
       "      <th>1</th>\n",
       "      <th>2</th>\n",
       "    </tr>\n",
       "  </thead>\n",
       "  <tbody>\n",
       "    <tr>\n",
       "      <th>0</th>\n",
       "      <td>-1.020204</td>\n",
       "      <td>-1.781797</td>\n",
       "      <td>-1.490046</td>\n",
       "    </tr>\n",
       "    <tr>\n",
       "      <th>1</th>\n",
       "      <td>-1.020204</td>\n",
       "      <td>-0.253587</td>\n",
       "      <td>-1.460681</td>\n",
       "    </tr>\n",
       "    <tr>\n",
       "      <th>2</th>\n",
       "      <td>0.980196</td>\n",
       "      <td>-1.113206</td>\n",
       "      <td>-0.785290</td>\n",
       "    </tr>\n",
       "    <tr>\n",
       "      <th>3</th>\n",
       "      <td>0.980196</td>\n",
       "      <td>-1.017692</td>\n",
       "      <td>-0.374182</td>\n",
       "    </tr>\n",
       "    <tr>\n",
       "      <th>4</th>\n",
       "      <td>-1.020204</td>\n",
       "      <td>-1.781797</td>\n",
       "      <td>0.183751</td>\n",
       "    </tr>\n",
       "  </tbody>\n",
       "</table>\n",
       "</div>"
      ],
      "text/plain": [
       "          0         1         2\n",
       "0 -1.020204 -1.781797 -1.490046\n",
       "1 -1.020204 -0.253587 -1.460681\n",
       "2  0.980196 -1.113206 -0.785290\n",
       "3  0.980196 -1.017692 -0.374182\n",
       "4 -1.020204 -1.781797  0.183751"
      ]
     },
     "execution_count": 14,
     "metadata": {},
     "output_type": "execute_result"
    }
   ],
   "source": [
    "# Vamos a Escalar la data para pasarla al modelo\n",
    "\n",
    "from sklearn.preprocessing import StandardScaler #Se usa para estandarizar datos\n",
    "\n",
    "\n",
    "#StandardScaler escala cada caracteristica de tal manera que tenga una media de 0 y una desviación estandar de 1\n",
    "#Cada caracteristica tendra una distribución normal estandar.\n",
    "\n",
    "scaler = StandardScaler()\n",
    "\n",
    "#La estandarizacion nos sirve porque muchos modelos asumen que las caracteristicas estan centradas alrededor de 0.\n",
    "#Si las caracteristicas tienen distintos rnagos , podria ser muy snesible para el algoritmo.\n",
    "\n",
    "\n",
    "#Estandirazar los datos de X y los almacenare en una variable que se llame d_scaled. \n",
    "#Ajustar y transformar los datos de una vez\n",
    "\n",
    "d_scaled = scaler.fit_transform(X)\n",
    "\n",
    "data_scaled1 = pd.DataFrame(d_scaled)\n",
    "data_scaled1.head()"
   ]
  },
  {
   "cell_type": "markdown",
   "id": "bed50b87",
   "metadata": {},
   "source": [
    "## Empezamos con la regresion\n"
   ]
  },
  {
   "cell_type": "code",
   "execution_count": 15,
   "id": "5fa2c169",
   "metadata": {},
   "outputs": [],
   "source": [
    "from sklearn.model_selection import train_test_split\n",
    "\n",
    "#Divide los datos en conjunto de entrenamiento y Prueba\n",
    "\n",
    "#d_scaled Es el DF con las caracteristicas ya normalizadas\n",
    "\n",
    "#test_size - Le indicamos que queremos un 20% de los datos para testear\n",
    "\n",
    "#Random_state - Nos garantiza que los mismo conjuntos de entrenamiento y testeo se generan en cada corrida\n",
    "\n",
    "X_train, X_test, y_train, y_test = train_test_split(d_scaled, Y, test_size = 0.20, random_state = 42)"
   ]
  },
  {
   "cell_type": "code",
   "execution_count": 16,
   "id": "3ea846b9",
   "metadata": {},
   "outputs": [],
   "source": [
    "from sklearn.linear_model import LogisticRegression\n",
    "\n",
    "# C- controla la regularizacion del modelo, \n",
    "# Sirve para prevenir el sobreajuste del modelo al agregar una penalización a la magnitud de los coeficientes.\n",
    "\n",
    "#Valores pequeños de C → mayor regularización.\n",
    "#Valores grandes de C → menor regularización.\n",
    "\n",
    "model = LogisticRegression(C = 0.1, max_iter = 500)\n",
    "\n",
    "model.fit(X_train, y_train)\n",
    "\n",
    "y_pred = model.predict(X_test)"
   ]
  },
  {
   "cell_type": "code",
   "execution_count": 17,
   "id": "0c78761a",
   "metadata": {},
   "outputs": [
    {
     "data": {
      "text/plain": [
       "array([[ 0.98019606,  0.79705706, -1.40195167],\n",
       "       [ 0.98019606,  2.03872775,  0.53612887],\n",
       "       [ 0.98019606, -0.92217926, -0.75592482],\n",
       "       [ 0.98019606,  0.98808332,  0.77104772],\n",
       "       [ 0.98019606, -0.82666613, -1.22576253],\n",
       "       [ 0.98019606, -0.73115301, -0.2273574 ],\n",
       "       [ 0.98019606,  0.89257019,  1.09406114],\n",
       "       [ 0.98019606, -0.82666613,  0.38930459],\n",
       "       [-1.02020406,  0.22397829,  0.15438573],\n",
       "       [-1.02020406,  0.41500455, -0.13926283],\n",
       "       [ 0.98019606, -0.25358736, -0.13926283],\n",
       "       [ 0.98019606,  1.46564897, -1.04957339],\n",
       "       [ 0.98019606, -1.39974491, -0.63846539],\n",
       "       [ 0.98019606, -1.6862843 , -1.37258681],\n",
       "       [-1.02020406, -0.73115301,  0.50676401],\n",
       "       [-1.02020406, -0.25358736,  1.123426  ],\n",
       "       [ 0.98019606,  1.37013584, -0.93211396],\n",
       "       [ 0.98019606,  0.79705706,  0.12502088],\n",
       "       [-1.02020406,  0.12846516, -0.81465453],\n",
       "       [-1.02020406,  1.75218836, -0.28608712],\n",
       "       [ 0.98019606, -1.49525804, -1.25512738],\n",
       "       [-1.02020406, -0.82666613,  0.30121002],\n",
       "       [-1.02020406,  0.89257019, -1.37258681],\n",
       "       [ 0.98019606,  2.03872775,  0.18375059],\n",
       "       [-1.02020406, -1.78179743, -1.49004624],\n",
       "       [-1.02020406,  1.27462271, -1.37258681],\n",
       "       [-1.02020406,  0.41500455,  0.30121002],\n",
       "       [-1.02020406, -0.0625611 , -0.49164111],\n",
       "       [ 0.98019606,  1.65667523,  1.62262856],\n",
       "       [ 0.98019606, -1.78179743, -1.43131652],\n",
       "       [ 0.98019606,  0.79705706, -0.84401939],\n",
       "       [-1.02020406, -1.78179743,  0.00756145],\n",
       "       [-1.02020406, -0.15807423,  2.18056084],\n",
       "       [-1.02020406, -0.92217926,  0.27184516],\n",
       "       [-1.02020406,  0.22397829,  1.09406114],\n",
       "       [-1.02020406, -0.25358736,  0.15438573],\n",
       "       [-1.02020406, -0.0625611 , -0.4329114 ],\n",
       "       [ 0.98019606,  0.03295203, -0.13926283],\n",
       "       [-1.02020406, -1.11320552, -1.16703281],\n",
       "       [ 0.98019606, -1.87731056, -0.05116826],\n",
       "       [-1.02020406,  0.98808332, -1.07893824],\n",
       "       [ 0.98019606, -1.30423178, -0.4329114 ],\n",
       "       [-1.02020406, -1.87731056, -0.52100597],\n",
       "       [-1.02020406,  0.89257019, -1.46068138],\n",
       "       [-1.02020406, -1.6862843 , -0.60910054],\n",
       "       [ 0.98019606,  0.60603081,  2.03373655],\n",
       "       [-1.02020406, -0.82666613, -0.25672226],\n",
       "       [ 0.98019606, -0.63563988,  0.03692631],\n",
       "       [-1.02020406,  0.98808332, -0.84401939],\n",
       "       [ 0.98019606, -0.34910049, -0.78528968],\n",
       "       [-1.02020406, -1.20871865,  0.27184516],\n",
       "       [ 0.98019606,  1.46564897,  0.35993973],\n",
       "       [ 0.98019606,  0.03295203, -0.4329114 ],\n",
       "       [-1.02020406, -1.20871865,  0.30121002],\n",
       "       [ 0.98019606, -0.0625611 ,  0.30121002],\n",
       "       [ 0.98019606, -1.01769239, -1.13766796],\n",
       "       [-1.02020406,  2.13424088,  0.94723686],\n",
       "       [ 0.98019606, -1.11320552,  1.41707457],\n",
       "       [-1.02020406, -0.63563988,  0.12502088],\n",
       "       [-1.02020406, -0.63563988,  0.18375059],\n",
       "       [ 0.98019606,  0.31949142, -0.55037082],\n",
       "       [ 0.98019606, -0.25358736, -0.37418169],\n",
       "       [ 0.98019606,  1.37013584,  0.59485858],\n",
       "       [ 0.98019606, -0.92217926,  0.50676401],\n",
       "       [-1.02020406, -0.92217926, -0.31545197],\n",
       "       [ 0.98019606, -1.01769239,  1.97500684],\n",
       "       [ 0.98019606,  0.41500455,  0.59485858],\n",
       "       [ 0.98019606,  0.89257019,  2.18056084],\n",
       "       [ 0.98019606,  0.12846516, -0.31545197],\n",
       "       [ 0.98019606, -0.44461362,  1.27025028],\n",
       "       [ 0.98019606,  1.37013584,  2.0043717 ],\n",
       "       [-1.02020406, -1.78179743,  0.4480343 ],\n",
       "       [-1.02020406, -1.01769239, -0.34481683],\n",
       "       [-1.02020406, -1.39974491, -1.46068138],\n",
       "       [-1.02020406,  0.89257019, -1.04957339],\n",
       "       [ 0.98019606, -0.25358736, -0.57973568],\n",
       "       [-1.02020406,  1.75218836,  1.85754742],\n",
       "       [ 0.98019606,  1.5611621 , -1.28449224],\n",
       "       [ 0.98019606, -0.25358736, -0.66783025],\n",
       "       [ 0.98019606, -0.0625611 ,  0.2424803 ]])"
      ]
     },
     "execution_count": 17,
     "metadata": {},
     "output_type": "execute_result"
    }
   ],
   "source": [
    "X_test"
   ]
  },
  {
   "cell_type": "code",
   "execution_count": 18,
   "id": "0c73d217",
   "metadata": {},
   "outputs": [
    {
     "data": {
      "text/plain": [
       "array([0, 1, 0, 1, 0, 0, 1, 0, 0, 0, 0, 1, 0, 0, 0, 0, 1, 1, 0, 1, 0, 0,\n",
       "       0, 1, 0, 0, 1, 0, 1, 0, 0, 0, 1, 0, 1, 0, 0, 0, 0, 0, 0, 0, 0, 0,\n",
       "       0, 1, 0, 0, 0, 0, 0, 1, 0, 0, 0, 0, 1, 0, 0, 0, 0, 0, 1, 0, 0, 0,\n",
       "       1, 1, 0, 0, 1, 0, 0, 0, 0, 0, 1, 1, 0, 0])"
      ]
     },
     "execution_count": 18,
     "metadata": {},
     "output_type": "execute_result"
    }
   ],
   "source": [
    "y_pred"
   ]
  },
  {
   "cell_type": "code",
   "execution_count": 19,
   "id": "49e21c19",
   "metadata": {},
   "outputs": [
    {
     "data": {
      "text/plain": [
       "array([0.28230329, 0.91136465, 0.05672128, 0.7418995 , 0.04517357,\n",
       "       0.10655563, 0.76480919, 0.14552103, 0.40820491, 0.41613435,\n",
       "       0.19900437, 0.56857159, 0.03286011, 0.01258356, 0.19466449,\n",
       "       0.43366651, 0.55881972, 0.56903541, 0.21879479, 0.80284373,\n",
       "       0.01791677, 0.15241255, 0.34237243, 0.88604407, 0.0113803 ,\n",
       "       0.46965719, 0.50266471, 0.2171855 , 0.93467679, 0.01053896,\n",
       "       0.37975436, 0.03637811, 0.6691337 , 0.1333225 , 0.59238374,\n",
       "       0.26203564, 0.22520843, 0.27010017, 0.03631187, 0.02711061,\n",
       "       0.42872531, 0.04367749, 0.0212749 , 0.32681983, 0.02575642,\n",
       "       0.82142537, 0.10356028, 0.14380757, 0.47483407, 0.115304  ,\n",
       "       0.09361189, 0.80120696, 0.22670771, 0.09560664, 0.31483792,\n",
       "       0.03744339, 0.94850895, 0.20529848, 0.16939485, 0.1760494 ,\n",
       "       0.28460478, 0.17096074, 0.80959105, 0.14065945, 0.08805178,\n",
       "       0.31470305, 0.52979154, 0.8850238 , 0.26873733, 0.36811574,\n",
       "       0.92858702, 0.0508151 , 0.07629742, 0.01964834, 0.40213662,\n",
       "       0.14907806, 0.95706548, 0.55540294, 0.14043102, 0.30487842])"
      ]
     },
     "execution_count": 19,
     "metadata": {},
     "output_type": "execute_result"
    }
   ],
   "source": [
    "predicted_proba = model.predict_proba(X_test)\n",
    "\n",
    "positive_proba = predicted_proba[:, 1]\n",
    "positive_proba"
   ]
  },
  {
   "cell_type": "code",
   "execution_count": 20,
   "id": "4463650d",
   "metadata": {},
   "outputs": [
    {
     "name": "stdout",
     "output_type": "stream",
     "text": [
      "Weight Coefficient :  [[-0.06210386  1.39043467  0.79306064]]\n",
      "Bias :  [-0.8686142]\n"
     ]
    }
   ],
   "source": [
    "print('Weight Coefficient : ', model.coef_)\n",
    "print('Bias : ', model.intercept_)\n",
    "      \n",
    "#y = B + w1 * C1 + w2 * C2 + ...\n",
    "\n",
    "#y = -0.8686142 + -0.06210386 * Genero + 1.39043467 *  Age + 0.79306064 * Estimated Salary\n"
   ]
  },
  {
   "cell_type": "markdown",
   "id": "9e4b22a0",
   "metadata": {},
   "source": [
    "## Resultados de la prediccion"
   ]
  },
  {
   "cell_type": "code",
   "execution_count": 21,
   "id": "22446983",
   "metadata": {},
   "outputs": [
    {
     "name": "stdout",
     "output_type": "stream",
     "text": [
      "Test accuracy:  0.8625\n",
      "Train accuracy:  0.8125\n"
     ]
    }
   ],
   "source": [
    "print('Test accuracy: ', model.score(X_test, y_test))\n",
    "print('Train accuracy: ', model.score(X_train, y_train))"
   ]
  },
  {
   "cell_type": "markdown",
   "id": "fd24dfe5",
   "metadata": {},
   "source": [
    "## Aplicamos Matriz de confusion"
   ]
  },
  {
   "cell_type": "code",
   "execution_count": 30,
   "id": "288aa980",
   "metadata": {},
   "outputs": [
    {
     "data": {
      "text/html": [
       "<div>\n",
       "<style scoped>\n",
       "    .dataframe tbody tr th:only-of-type {\n",
       "        vertical-align: middle;\n",
       "    }\n",
       "\n",
       "    .dataframe tbody tr th {\n",
       "        vertical-align: top;\n",
       "    }\n",
       "\n",
       "    .dataframe thead th {\n",
       "        text-align: right;\n",
       "    }\n",
       "</style>\n",
       "<table border=\"1\" class=\"dataframe\">\n",
       "  <thead>\n",
       "    <tr style=\"text-align: right;\">\n",
       "      <th></th>\n",
       "      <th>Venta</th>\n",
       "      <th>No Venta</th>\n",
       "    </tr>\n",
       "  </thead>\n",
       "  <tbody>\n",
       "    <tr>\n",
       "      <th>Venta Verdadera</th>\n",
       "      <td>50</td>\n",
       "      <td>2</td>\n",
       "    </tr>\n",
       "    <tr>\n",
       "      <th>No Venta Verdadera</th>\n",
       "      <td>9</td>\n",
       "      <td>19</td>\n",
       "    </tr>\n",
       "  </tbody>\n",
       "</table>\n",
       "</div>"
      ],
      "text/plain": [
       "                    Venta  No Venta\n",
       "Venta Verdadera        50         2\n",
       "No Venta Verdadera      9        19"
      ]
     },
     "execution_count": 30,
     "metadata": {},
     "output_type": "execute_result"
    }
   ],
   "source": [
    "from sklearn.metrics import confusion_matrix\n",
    "\n",
    "df = pd.DataFrame(confusion_matrix(y_test, y_pred), columns = ['Venta', 'No Venta'],\n",
    "                 index= ['Venta Verdadera', 'No Venta Verdadera'])\n",
    "\n",
    "df"
   ]
  },
  {
   "cell_type": "code",
   "execution_count": 31,
   "id": "9719a297",
   "metadata": {},
   "outputs": [
    {
     "data": {
      "image/png": "[encoded data removed]",
      "text/plain": [
       "<Figure size 720x504 with 2 Axes>"
      ]
     },
     "metadata": {
      "needs_background": "light"
     },
     "output_type": "display_data"
    }
   ],
   "source": [
    "plt.figure(figsize=(10, 7))\n",
    "sns.heatmap(df, annot=True, fmt=\"d\", cmap=\"Blues\")\n",
    "plt.title('Matriz de Confusión')\n",
    "plt.ylabel('Verdadero')\n",
    "plt.xlabel('Predicción')\n",
    "plt.show()"
   ]
  },
  {
   "cell_type": "code",
   "execution_count": 23,
   "id": "c5954c35",
   "metadata": {},
   "outputs": [
    {
     "name": "stdout",
     "output_type": "stream",
     "text": [
      "Accuracy :  0.8625\n"
     ]
    }
   ],
   "source": [
    "from sklearn.metrics import accuracy_score, precision_score\n",
    "\n",
    "print(\"Accuracy : \", accuracy_score(y_test, y_pred) )\n"
   ]
  },
  {
   "cell_type": "code",
   "execution_count": 24,
   "id": "cf1f3da6",
   "metadata": {},
   "outputs": [
    {
     "data": {
      "text/plain": [
       "array([0.0113803 , 0.08978514, 0.04310272, 0.06652901, 0.04160646,\n",
       "       0.07629742, 0.1178975 , 0.54699749, 0.03417252, 0.19900437,\n",
       "       0.09635042, 0.05262434, 0.05889396, 0.05945433, 0.04188343,\n",
       "       0.15241255, 0.35293487, 0.2997508 , 0.33869754, 0.37649811,\n",
       "       0.28056974, 0.45723442, 0.47483407, 0.25618932, 0.31312617,\n",
       "       0.32681983, 0.43273782, 0.35115744, 0.07060301, 0.05244816,\n",
       "       0.16939485, 0.31470305, 0.01221364, 0.05672128, 0.14823252,\n",
       "       0.10402844, 0.07448184, 0.0907155 , 0.08130439, 0.03744339,\n",
       "       0.02731043, 0.12087482, 0.43366651, 0.04324253, 0.13242472,\n",
       "       0.01964834, 0.09361189, 0.06231943, 0.42503147, 0.20345592,\n",
       "       0.02603614, 0.01568471, 0.14552103, 0.08543995, 0.06798996,\n",
       "       0.04367749, 0.03286011, 0.1333225 , 0.01647499, 0.35894153,\n",
       "       0.03296784, 0.11066117, 0.04913045, 0.40471329, 0.90149718,\n",
       "       0.05254222, 0.02187268, 0.06976609, 0.04048226, 0.13541758,\n",
       "       0.09560664, 0.02324083, 0.01258356, 0.36811574, 0.05945433,\n",
       "       0.42395472, 0.0212749 , 0.01791677, 0.14065945, 0.0239955 ,\n",
       "       0.17037127, 0.21879479, 0.02575642, 0.32460919, 0.10655563,\n",
       "       0.33414925, 0.04917103, 0.13512323, 0.10998158, 0.16553367,\n",
       "       0.06772653, 0.29549182, 0.02588301, 0.04517357, 0.14552103,\n",
       "       0.13220761, 0.08915038, 0.30001657, 0.25312938, 0.04860379,\n",
       "       0.14244765, 0.08805178, 0.21384666, 0.57396898, 0.01053896,\n",
       "       0.04905351, 0.03604019, 0.1453162 , 0.12190758, 0.34416395,\n",
       "       0.32704494, 0.27146737, 0.2762711 , 0.22520843, 0.50266471,\n",
       "       0.31204475, 0.26203564, 0.19181854, 0.32212987, 0.35178638,\n",
       "       0.26369665, 0.30160433, 0.37856966, 0.17541098, 0.28460478,\n",
       "       0.27798835, 0.41613435, 0.0379774 , 0.04521103, 0.10477148,\n",
       "       0.12319329, 0.08901663, 0.19466449, 0.03985138, 0.07208841,\n",
       "       0.05173352, 0.04793888, 0.27803709, 0.07857334, 0.01306462,\n",
       "       0.0508151 , 0.02711061, 0.19654579, 0.20207023, 0.07893849,\n",
       "       0.09158229, 0.15019974, 0.19611043, 0.10356028, 0.04518404,\n",
       "       0.02292854, 0.28146026, 0.1760494 , 0.16672116, 0.26435431,\n",
       "       0.04359857, 0.51320384, 0.13797121, 0.03631187, 0.45989257,\n",
       "       0.29909178, 0.11772619, 0.13329445, 0.13043987, 0.17293238,\n",
       "       0.04065381, 0.03383392, 0.22221582, 0.46699521, 0.06859061,\n",
       "       0.0696592 , 0.44110091, 0.20529848, 0.115304  , 0.20386404,\n",
       "       0.02088034, 0.14043102, 0.02665576, 0.02395693, 0.06625582,\n",
       "       0.0264767 , 0.14380757, 0.35894153, 0.11443244, 0.14497384,\n",
       "       0.14476964, 0.04793888, 0.09822955, 0.24875201, 0.04896537,\n",
       "       0.09223261, 0.01182503, 0.07060301, 0.03637811, 0.16259917,\n",
       "       0.12859495, 0.15052121, 0.01695728, 0.10772263, 0.09366496,\n",
       "       0.13310414, 0.69009503, 0.67821268, 0.38794195, 0.92416656,\n",
       "       0.44570061, 0.94143643, 0.8814538 , 0.74358384, 0.28230329,\n",
       "       0.7418995 , 0.951148  , 0.77888132, 0.1928942 , 0.45339136,\n",
       "       0.94926053, 0.64358782, 0.42518428, 0.68788613, 0.97669465,\n",
       "       0.43871509, 0.34010974, 0.69784867, 0.94850895, 0.1810916 ,\n",
       "       0.2171855 , 0.54012625, 0.95706548, 0.36227858, 0.47163707,\n",
       "       0.62646858, 0.21879479, 0.59238374, 0.74649795, 0.52508564,\n",
       "       0.62681798, 0.31204475, 0.31483792, 0.61401519, 0.94345062,\n",
       "       0.8344554 , 0.26705609, 0.75679163, 0.90925793, 0.39348576,\n",
       "       0.93205445, 0.14907806, 0.94565877, 0.31556846, 0.34359618,\n",
       "       0.30943187, 0.21325223, 0.87444143, 0.68122734, 0.52759504,\n",
       "       0.80959105, 0.39348576, 0.31204475, 0.91377501, 0.81344229,\n",
       "       0.24729874, 0.6691337 , 0.93467679, 0.22626686, 0.73892113,\n",
       "       0.6314619 , 0.40820491, 0.31150481, 0.8850238 , 0.33238345,\n",
       "       0.77790532, 0.88604407, 0.81997771, 0.55421985, 0.65043226,\n",
       "       0.86564644, 0.32516112, 0.75521038, 0.55881972, 0.48105596,\n",
       "       0.91136465, 0.20400497, 0.29188512, 0.46020321, 0.90274137,\n",
       "       0.38346848, 0.23204791, 0.88431736, 0.46370546, 0.30487842,\n",
       "       0.70470464, 0.75948997, 0.68617739, 0.32668228, 0.17096074,\n",
       "       0.21310662, 0.46198405, 0.68231925, 0.59526764, 0.80274474,\n",
       "       0.73753618, 0.66100115, 0.63409497, 0.33700872, 0.30049424,\n",
       "       0.35552694, 0.91207414, 0.78900827, 0.56507758, 0.20694557,\n",
       "       0.41424239, 0.49621368, 0.20694557, 0.90349141, 0.36928717,\n",
       "       0.34786695, 0.88483122, 0.18225001, 0.32987374, 0.2223659 ,\n",
       "       0.92858702, 0.80120696, 0.31556846, 0.38198045, 0.86656801,\n",
       "       0.32912601, 0.42349294, 0.44274864, 0.52467459, 0.76480919,\n",
       "       0.23220264, 0.83082582, 0.41613435, 0.35336687, 0.82302356,\n",
       "       0.18006707, 0.97406727, 0.28044355, 0.22670771, 0.64344438,\n",
       "       0.8705909 , 0.26203564, 0.27010017, 0.46881427, 0.77848951,\n",
       "       0.34473216, 0.78333473, 0.89398901, 0.38755065, 0.2762711 ,\n",
       "       0.53088936, 0.31652119, 0.52979154, 0.21194784, 0.41491207,\n",
       "       0.7908227 , 0.7976119 , 0.39348576, 0.38590851, 0.35552694,\n",
       "       0.78322859, 0.56857159, 0.46301936, 0.46583787, 0.63866478,\n",
       "       0.72240319, 0.77605013, 0.67440639, 0.32516112, 0.55540294,\n",
       "       0.81534413, 0.92208429, 0.33737711, 0.96871239, 0.31483792,\n",
       "       0.33177144, 0.56903541, 0.32248989, 0.51021632, 0.66460417,\n",
       "       0.4104874 , 0.42872531, 0.82142537, 0.43273782, 0.68653222,\n",
       "       0.80284373, 0.46536733, 0.35495058, 0.40213662, 0.40981987,\n",
       "       0.42872531, 0.34237243, 0.37046015, 0.81997771, 0.26873733,\n",
       "       0.37975436, 0.46965719, 0.38973596, 0.13230724, 0.44803403])"
      ]
     },
     "execution_count": 24,
     "metadata": {},
     "output_type": "execute_result"
    }
   ],
   "source": [
    "final_prov = model.predict_proba(data_scaled1)\n",
    "\n",
    "final_positiv_proba = final_prov[:,1]\n",
    "final_positiv_proba\n",
    "\n",
    "\n"
   ]
  },
  {
   "cell_type": "code",
   "execution_count": 25,
   "id": "1f7a0724",
   "metadata": {},
   "outputs": [
    {
     "data": {
      "text/plain": [
       "array([0, 0, 0, 0, 0, 0, 0, 1, 0, 0, 0, 0, 0, 0, 0, 0, 0, 0, 0, 0, 0, 0,\n",
       "       0, 0, 0, 0, 0, 0, 0, 0, 0, 0, 0, 0, 0, 0, 0, 0, 0, 0, 0, 0, 0, 0,\n",
       "       0, 0, 0, 0, 0, 0, 0, 0, 0, 0, 0, 0, 0, 0, 0, 0, 0, 0, 0, 0, 1, 0,\n",
       "       0, 0, 0, 0, 0, 0, 0, 0, 0, 0, 0, 0, 0, 0, 0, 0, 0, 0, 0, 0, 0, 0,\n",
       "       0, 0, 0, 0, 0, 0, 0, 0, 0, 0, 0, 0, 0, 0, 0, 1, 0, 0, 0, 0, 0, 0,\n",
       "       0, 0, 0, 0, 1, 0, 0, 0, 0, 0, 0, 0, 0, 0, 0, 0, 0, 0, 0, 0, 0, 0,\n",
       "       0, 0, 0, 0, 0, 0, 0, 0, 0, 0, 0, 0, 0, 0, 0, 0, 0, 0, 0, 0, 0, 0,\n",
       "       0, 0, 1, 0, 0, 0, 0, 0, 0, 0, 0, 0, 0, 0, 0, 0, 0, 0, 0, 0, 0, 0,\n",
       "       0, 0, 0, 0, 0, 0, 0, 0, 0, 0, 0, 0, 0, 0, 0, 0, 0, 0, 0, 0, 0, 0,\n",
       "       0, 0, 0, 1, 1, 0, 1, 0, 1, 1, 1, 0, 1, 1, 1, 0, 0, 1, 1, 0, 1, 1,\n",
       "       0, 0, 1, 1, 0, 0, 1, 1, 0, 0, 1, 0, 1, 1, 1, 1, 0, 0, 1, 1, 1, 0,\n",
       "       1, 1, 0, 1, 0, 1, 0, 0, 0, 0, 1, 1, 1, 1, 0, 0, 1, 1, 0, 1, 1, 0,\n",
       "       1, 1, 0, 0, 1, 0, 1, 1, 1, 1, 1, 1, 0, 1, 1, 0, 1, 0, 0, 0, 1, 0,\n",
       "       0, 1, 0, 0, 1, 1, 1, 0, 0, 0, 0, 1, 1, 1, 1, 1, 1, 0, 0, 0, 1, 1,\n",
       "       1, 0, 0, 0, 0, 1, 0, 0, 1, 0, 0, 0, 1, 1, 0, 0, 1, 0, 0, 0, 1, 1,\n",
       "       0, 1, 0, 0, 1, 0, 1, 0, 0, 1, 1, 0, 0, 0, 1, 0, 1, 1, 0, 0, 1, 0,\n",
       "       1, 0, 0, 1, 1, 0, 0, 0, 1, 1, 0, 0, 1, 1, 1, 1, 0, 1, 1, 1, 0, 1,\n",
       "       0, 0, 1, 0, 1, 1, 0, 0, 1, 0, 1, 1, 0, 0, 0, 0, 0, 0, 0, 1, 0, 0,\n",
       "       0, 0, 0, 0])"
      ]
     },
     "execution_count": 25,
     "metadata": {},
     "output_type": "execute_result"
    }
   ],
   "source": [
    "final_tags = model.predict(data_scaled1)\n",
    "final_tags"
   ]
  },
  {
   "cell_type": "markdown",
   "id": "ae325140",
   "metadata": {},
   "source": [
    "# Agregamos las columnas a nuestro DF Original"
   ]
  },
  {
   "cell_type": "code",
   "execution_count": 34,
   "id": "e65cf012",
   "metadata": {},
   "outputs": [],
   "source": [
    "df = pd.read_csv(\"Social_Network_Ads.csv\")"
   ]
  },
  {
   "cell_type": "code",
   "execution_count": 35,
   "id": "89cde608",
   "metadata": {},
   "outputs": [],
   "source": [
    "df[\"Prediction\"] = final_tags\n",
    "df[\"Prediction_proba\"] = final_positiv_proba"
   ]
  },
  {
   "cell_type": "code",
   "execution_count": 36,
   "id": "91813f3d",
   "metadata": {},
   "outputs": [
    {
     "data": {
      "text/html": [
       "<div>\n",
       "<style scoped>\n",
       "    .dataframe tbody tr th:only-of-type {\n",
       "        vertical-align: middle;\n",
       "    }\n",
       "\n",
       "    .dataframe tbody tr th {\n",
       "        vertical-align: top;\n",
       "    }\n",
       "\n",
       "    .dataframe thead th {\n",
       "        text-align: right;\n",
       "    }\n",
       "</style>\n",
       "<table border=\"1\" class=\"dataframe\">\n",
       "  <thead>\n",
       "    <tr style=\"text-align: right;\">\n",
       "      <th></th>\n",
       "      <th>User ID</th>\n",
       "      <th>Gender</th>\n",
       "      <th>Age</th>\n",
       "      <th>EstimatedSalary</th>\n",
       "      <th>Purchased</th>\n",
       "      <th>Prediction</th>\n",
       "      <th>Prediction_proba</th>\n",
       "    </tr>\n",
       "  </thead>\n",
       "  <tbody>\n",
       "    <tr>\n",
       "      <th>390</th>\n",
       "      <td>15807837</td>\n",
       "      <td>Male</td>\n",
       "      <td>48</td>\n",
       "      <td>33000</td>\n",
       "      <td>1</td>\n",
       "      <td>0</td>\n",
       "      <td>0.428725</td>\n",
       "    </tr>\n",
       "    <tr>\n",
       "      <th>391</th>\n",
       "      <td>15592570</td>\n",
       "      <td>Male</td>\n",
       "      <td>47</td>\n",
       "      <td>23000</td>\n",
       "      <td>1</td>\n",
       "      <td>0</td>\n",
       "      <td>0.342372</td>\n",
       "    </tr>\n",
       "    <tr>\n",
       "      <th>392</th>\n",
       "      <td>15748589</td>\n",
       "      <td>Female</td>\n",
       "      <td>45</td>\n",
       "      <td>45000</td>\n",
       "      <td>1</td>\n",
       "      <td>0</td>\n",
       "      <td>0.370460</td>\n",
       "    </tr>\n",
       "    <tr>\n",
       "      <th>393</th>\n",
       "      <td>15635893</td>\n",
       "      <td>Male</td>\n",
       "      <td>60</td>\n",
       "      <td>42000</td>\n",
       "      <td>1</td>\n",
       "      <td>1</td>\n",
       "      <td>0.819978</td>\n",
       "    </tr>\n",
       "    <tr>\n",
       "      <th>394</th>\n",
       "      <td>15757632</td>\n",
       "      <td>Female</td>\n",
       "      <td>39</td>\n",
       "      <td>59000</td>\n",
       "      <td>0</td>\n",
       "      <td>0</td>\n",
       "      <td>0.268737</td>\n",
       "    </tr>\n",
       "    <tr>\n",
       "      <th>395</th>\n",
       "      <td>15691863</td>\n",
       "      <td>Female</td>\n",
       "      <td>46</td>\n",
       "      <td>41000</td>\n",
       "      <td>1</td>\n",
       "      <td>0</td>\n",
       "      <td>0.379754</td>\n",
       "    </tr>\n",
       "    <tr>\n",
       "      <th>396</th>\n",
       "      <td>15706071</td>\n",
       "      <td>Male</td>\n",
       "      <td>51</td>\n",
       "      <td>23000</td>\n",
       "      <td>1</td>\n",
       "      <td>0</td>\n",
       "      <td>0.469657</td>\n",
       "    </tr>\n",
       "    <tr>\n",
       "      <th>397</th>\n",
       "      <td>15654296</td>\n",
       "      <td>Female</td>\n",
       "      <td>50</td>\n",
       "      <td>20000</td>\n",
       "      <td>1</td>\n",
       "      <td>0</td>\n",
       "      <td>0.389736</td>\n",
       "    </tr>\n",
       "    <tr>\n",
       "      <th>398</th>\n",
       "      <td>15755018</td>\n",
       "      <td>Male</td>\n",
       "      <td>36</td>\n",
       "      <td>33000</td>\n",
       "      <td>0</td>\n",
       "      <td>0</td>\n",
       "      <td>0.132307</td>\n",
       "    </tr>\n",
       "    <tr>\n",
       "      <th>399</th>\n",
       "      <td>15594041</td>\n",
       "      <td>Female</td>\n",
       "      <td>49</td>\n",
       "      <td>36000</td>\n",
       "      <td>1</td>\n",
       "      <td>0</td>\n",
       "      <td>0.448034</td>\n",
       "    </tr>\n",
       "  </tbody>\n",
       "</table>\n",
       "</div>"
      ],
      "text/plain": [
       "      User ID  Gender  Age  EstimatedSalary  Purchased  Prediction  \\\n",
       "390  15807837    Male   48            33000          1           0   \n",
       "391  15592570    Male   47            23000          1           0   \n",
       "392  15748589  Female   45            45000          1           0   \n",
       "393  15635893    Male   60            42000          1           1   \n",
       "394  15757632  Female   39            59000          0           0   \n",
       "395  15691863  Female   46            41000          1           0   \n",
       "396  15706071    Male   51            23000          1           0   \n",
       "397  15654296  Female   50            20000          1           0   \n",
       "398  15755018    Male   36            33000          0           0   \n",
       "399  15594041  Female   49            36000          1           0   \n",
       "\n",
       "     Prediction_proba  \n",
       "390          0.428725  \n",
       "391          0.342372  \n",
       "392          0.370460  \n",
       "393          0.819978  \n",
       "394          0.268737  \n",
       "395          0.379754  \n",
       "396          0.469657  \n",
       "397          0.389736  \n",
       "398          0.132307  \n",
       "399          0.448034  "
      ]
     },
     "execution_count": 36,
     "metadata": {},
     "output_type": "execute_result"
    }
   ],
   "source": [
    "df.tail(10)"
   ]
  },
  {
   "cell_type": "code",
   "execution_count": 37,
   "id": "23512875",
   "metadata": {},
   "outputs": [],
   "source": [
    "df_sorted = df.sort_values(by='Prediction_proba', ascending=False)\n",
    "# Dividimos los datos en deciles\n",
    "df_sorted['Decile'] = pd.qcut(df_sorted['Prediction_proba'], 10, labels=False)"
   ]
  },
  {
   "cell_type": "code",
   "execution_count": null,
   "id": "38cd0ed2",
   "metadata": {},
   "outputs": [],
   "source": []
  },
  {
   "cell_type": "code",
   "execution_count": 38,
   "id": "d6146233",
   "metadata": {},
   "outputs": [],
   "source": [
    "df_sorted.to_csv(\"NetworkFinalDecil.csv\")"
   ]
  },
  {
   "cell_type": "code",
   "execution_count": null,
   "id": "72899383",
   "metadata": {},
   "outputs": [],
   "source": []
  }
 ],
 "metadata": {
  "kernelspec": {
   "display_name": "Python 3 (ipykernel)",
   "language": "python",
   "name": "python3"
  },
  "language_info": {
   "codemirror_mode": {
    "name": "ipython",
    "version": 3
   },
   "file_extension": ".py",
   "mimetype": "text/x-python",
   "name": "python",
   "nbconvert_exporter": "python",
   "pygments_lexer": "ipython3",
   "version": "3.10.5"
  }
 },
 "nbformat": 4,
 "nbformat_minor": 5
}
