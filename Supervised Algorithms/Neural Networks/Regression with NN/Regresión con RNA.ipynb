{
 "cells": [
  {
   "cell_type": "markdown",
   "id": "48ac5bcb",
   "metadata": {},
   "source": [
    "# 1. Importamos las librerias necesarias"
   ]
  },
  {
   "cell_type": "code",
   "execution_count": 35,
   "id": "8762a05e",
   "metadata": {},
   "outputs": [],
   "source": [
    "#Analisis de datos y graficas.\n",
    "import pandas as pd\n",
    "import matplotlib.pyplot as plt\n",
    "import numpy as np\n",
    "\n",
    "#Preprocesamiento de datos.\n",
    "from sklearn.preprocessing import MinMaxScaler\n",
    "from sklearn.model_selection import train_test_split\n",
    "\n",
    "#Librerias de Redes Neuronales\n",
    "from keras.models import Sequential\n",
    "from keras.layers import Dense, Dropout\n",
    "from keras.callbacks import EarlyStopping\n",
    "\n",
    "#Métricas de Validación\n",
    "\n",
    "from sklearn.metrics import mean_absolute_error, mean_squared_error, r2_score"
   ]
  },
  {
   "cell_type": "markdown",
   "id": "92919323",
   "metadata": {},
   "source": [
    "# 2. Cargamos la Data y empezamos a preparar"
   ]
  },
  {
   "cell_type": "code",
   "execution_count": 2,
   "id": "75ace431",
   "metadata": {},
   "outputs": [
    {
     "name": "stdout",
     "output_type": "stream",
     "text": [
      "<class 'pandas.core.frame.DataFrame'>\n",
      "RangeIndex: 20640 entries, 0 to 20639\n",
      "Data columns (total 10 columns):\n",
      " #   Column              Non-Null Count  Dtype  \n",
      "---  ------              --------------  -----  \n",
      " 0   longitude           20640 non-null  float64\n",
      " 1   latitude            20640 non-null  float64\n",
      " 2   housing_median_age  20640 non-null  float64\n",
      " 3   total_rooms         20640 non-null  float64\n",
      " 4   total_bedrooms      20433 non-null  float64\n",
      " 5   population          20640 non-null  float64\n",
      " 6   households          20640 non-null  float64\n",
      " 7   median_income       20640 non-null  float64\n",
      " 8   median_house_value  20640 non-null  float64\n",
      " 9   ocean_proximity     20640 non-null  object \n",
      "dtypes: float64(9), object(1)\n",
      "memory usage: 1.6+ MB\n"
     ]
    }
   ],
   "source": [
    "df = pd.read_csv(\"housing.csv\")\n",
    "df.info()"
   ]
  },
  {
   "cell_type": "code",
   "execution_count": 3,
   "id": "519a0b18",
   "metadata": {},
   "outputs": [
    {
     "data": {
      "text/html": [
       "<div>\n",
       "<style scoped>\n",
       "    .dataframe tbody tr th:only-of-type {\n",
       "        vertical-align: middle;\n",
       "    }\n",
       "\n",
       "    .dataframe tbody tr th {\n",
       "        vertical-align: top;\n",
       "    }\n",
       "\n",
       "    .dataframe thead th {\n",
       "        text-align: right;\n",
       "    }\n",
       "</style>\n",
       "<table border=\"1\" class=\"dataframe\">\n",
       "  <thead>\n",
       "    <tr style=\"text-align: right;\">\n",
       "      <th></th>\n",
       "      <th>longitude</th>\n",
       "      <th>latitude</th>\n",
       "      <th>housing_median_age</th>\n",
       "      <th>total_rooms</th>\n",
       "      <th>total_bedrooms</th>\n",
       "      <th>population</th>\n",
       "      <th>households</th>\n",
       "      <th>median_income</th>\n",
       "      <th>median_house_value</th>\n",
       "      <th>ocean_proximity</th>\n",
       "    </tr>\n",
       "  </thead>\n",
       "  <tbody>\n",
       "    <tr>\n",
       "      <th>0</th>\n",
       "      <td>-122.23</td>\n",
       "      <td>37.88</td>\n",
       "      <td>41.0</td>\n",
       "      <td>880.0</td>\n",
       "      <td>129.0</td>\n",
       "      <td>322.0</td>\n",
       "      <td>126.0</td>\n",
       "      <td>8.3252</td>\n",
       "      <td>452600.0</td>\n",
       "      <td>NEAR BAY</td>\n",
       "    </tr>\n",
       "    <tr>\n",
       "      <th>1</th>\n",
       "      <td>-122.22</td>\n",
       "      <td>37.86</td>\n",
       "      <td>21.0</td>\n",
       "      <td>7099.0</td>\n",
       "      <td>1106.0</td>\n",
       "      <td>2401.0</td>\n",
       "      <td>1138.0</td>\n",
       "      <td>8.3014</td>\n",
       "      <td>358500.0</td>\n",
       "      <td>NEAR BAY</td>\n",
       "    </tr>\n",
       "    <tr>\n",
       "      <th>2</th>\n",
       "      <td>-122.24</td>\n",
       "      <td>37.85</td>\n",
       "      <td>52.0</td>\n",
       "      <td>1467.0</td>\n",
       "      <td>190.0</td>\n",
       "      <td>496.0</td>\n",
       "      <td>177.0</td>\n",
       "      <td>7.2574</td>\n",
       "      <td>352100.0</td>\n",
       "      <td>NEAR BAY</td>\n",
       "    </tr>\n",
       "    <tr>\n",
       "      <th>3</th>\n",
       "      <td>-122.25</td>\n",
       "      <td>37.85</td>\n",
       "      <td>52.0</td>\n",
       "      <td>1274.0</td>\n",
       "      <td>235.0</td>\n",
       "      <td>558.0</td>\n",
       "      <td>219.0</td>\n",
       "      <td>5.6431</td>\n",
       "      <td>341300.0</td>\n",
       "      <td>NEAR BAY</td>\n",
       "    </tr>\n",
       "    <tr>\n",
       "      <th>4</th>\n",
       "      <td>-122.25</td>\n",
       "      <td>37.85</td>\n",
       "      <td>52.0</td>\n",
       "      <td>1627.0</td>\n",
       "      <td>280.0</td>\n",
       "      <td>565.0</td>\n",
       "      <td>259.0</td>\n",
       "      <td>3.8462</td>\n",
       "      <td>342200.0</td>\n",
       "      <td>NEAR BAY</td>\n",
       "    </tr>\n",
       "  </tbody>\n",
       "</table>\n",
       "</div>"
      ],
      "text/plain": [
       "   longitude  latitude  housing_median_age  total_rooms  total_bedrooms  \\\n",
       "0    -122.23     37.88                41.0        880.0           129.0   \n",
       "1    -122.22     37.86                21.0       7099.0          1106.0   \n",
       "2    -122.24     37.85                52.0       1467.0           190.0   \n",
       "3    -122.25     37.85                52.0       1274.0           235.0   \n",
       "4    -122.25     37.85                52.0       1627.0           280.0   \n",
       "\n",
       "   population  households  median_income  median_house_value ocean_proximity  \n",
       "0       322.0       126.0         8.3252            452600.0        NEAR BAY  \n",
       "1      2401.0      1138.0         8.3014            358500.0        NEAR BAY  \n",
       "2       496.0       177.0         7.2574            352100.0        NEAR BAY  \n",
       "3       558.0       219.0         5.6431            341300.0        NEAR BAY  \n",
       "4       565.0       259.0         3.8462            342200.0        NEAR BAY  "
      ]
     },
     "execution_count": 3,
     "metadata": {},
     "output_type": "execute_result"
    }
   ],
   "source": [
    "df.head()"
   ]
  },
  {
   "cell_type": "code",
   "execution_count": 3,
   "id": "3c226a98",
   "metadata": {},
   "outputs": [
    {
     "name": "stdout",
     "output_type": "stream",
     "text": [
      "<class 'pandas.core.frame.DataFrame'>\n",
      "Int64Index: 20433 entries, 0 to 20639\n",
      "Data columns (total 10 columns):\n",
      " #   Column              Non-Null Count  Dtype  \n",
      "---  ------              --------------  -----  \n",
      " 0   longitude           20433 non-null  float64\n",
      " 1   latitude            20433 non-null  float64\n",
      " 2   housing_median_age  20433 non-null  float64\n",
      " 3   total_rooms         20433 non-null  float64\n",
      " 4   total_bedrooms      20433 non-null  float64\n",
      " 5   population          20433 non-null  float64\n",
      " 6   households          20433 non-null  float64\n",
      " 7   median_income       20433 non-null  float64\n",
      " 8   median_house_value  20433 non-null  float64\n",
      " 9   ocean_proximity     20433 non-null  object \n",
      "dtypes: float64(9), object(1)\n",
      "memory usage: 1.7+ MB\n"
     ]
    }
   ],
   "source": [
    "#Quitamos los valores nulos. Vemos que en 'total_bedrooms' faltan datos\n",
    "\n",
    "df.dropna(axis=0, inplace=True)\n",
    "df.info()"
   ]
  },
  {
   "cell_type": "code",
   "execution_count": 4,
   "id": "b8eead05",
   "metadata": {},
   "outputs": [
    {
     "data": {
      "text/plain": [
       "<1H OCEAN     9034\n",
       "INLAND        6496\n",
       "NEAR OCEAN    2628\n",
       "NEAR BAY      2270\n",
       "ISLAND           5\n",
       "Name: ocean_proximity, dtype: int64"
      ]
     },
     "execution_count": 4,
     "metadata": {},
     "output_type": "execute_result"
    }
   ],
   "source": [
    "\n",
    "df[\"ocean_proximity\"].value_counts()"
   ]
  },
  {
   "cell_type": "code",
   "execution_count": 5,
   "id": "d8fea061",
   "metadata": {},
   "outputs": [
    {
     "name": "stdout",
     "output_type": "stream",
     "text": [
      "<class 'pandas.core.frame.DataFrame'>\n",
      "Int64Index: 20433 entries, 0 to 20639\n",
      "Data columns (total 14 columns):\n",
      " #   Column                      Non-Null Count  Dtype  \n",
      "---  ------                      --------------  -----  \n",
      " 0   longitude                   20433 non-null  float64\n",
      " 1   latitude                    20433 non-null  float64\n",
      " 2   housing_median_age          20433 non-null  float64\n",
      " 3   total_rooms                 20433 non-null  float64\n",
      " 4   total_bedrooms              20433 non-null  float64\n",
      " 5   population                  20433 non-null  float64\n",
      " 6   households                  20433 non-null  float64\n",
      " 7   median_income               20433 non-null  float64\n",
      " 8   median_house_value          20433 non-null  float64\n",
      " 9   ocean_proximity_<1H OCEAN   20433 non-null  uint8  \n",
      " 10  ocean_proximity_INLAND      20433 non-null  uint8  \n",
      " 11  ocean_proximity_ISLAND      20433 non-null  uint8  \n",
      " 12  ocean_proximity_NEAR BAY    20433 non-null  uint8  \n",
      " 13  ocean_proximity_NEAR OCEAN  20433 non-null  uint8  \n",
      "dtypes: float64(9), uint8(5)\n",
      "memory usage: 1.7 MB\n"
     ]
    }
   ],
   "source": [
    "#Convertimos la variable categorica \"Ocean Proximity\" a variables Dummy\n",
    "df = pd.get_dummies(df, columns=['ocean_proximity'])\n",
    "df.info()"
   ]
  },
  {
   "cell_type": "markdown",
   "id": "7cbc6bbd",
   "metadata": {},
   "source": [
    "### Separamos la data"
   ]
  },
  {
   "cell_type": "code",
   "execution_count": 6,
   "id": "caa90fb0",
   "metadata": {},
   "outputs": [
    {
     "name": "stdout",
     "output_type": "stream",
     "text": [
      "(20433, 13) (20433,)\n"
     ]
    }
   ],
   "source": [
    "X = df.drop('median_house_value', axis = 1)\n",
    "y = df[\"median_house_value\"]\n",
    "\n",
    "print(X.shape, y.shape)\n"
   ]
  },
  {
   "cell_type": "code",
   "execution_count": 8,
   "id": "e8801a93",
   "metadata": {},
   "outputs": [],
   "source": [
    "#Lo convertimos en un lista de numpy\n",
    "X = np.array(X)\n",
    "y = np.array(y)"
   ]
  },
  {
   "cell_type": "markdown",
   "id": "edd4c52b",
   "metadata": {},
   "source": [
    "### Dividimos en entrenamiento y prueba"
   ]
  },
  {
   "cell_type": "code",
   "execution_count": 13,
   "id": "913ac646",
   "metadata": {},
   "outputs": [],
   "source": [
    "X_train, X_test, y_train, y_test = train_test_split(X, y, test_size=0.2, random_state=123)"
   ]
  },
  {
   "cell_type": "code",
   "execution_count": 14,
   "id": "0442087d",
   "metadata": {},
   "outputs": [
    {
     "name": "stdout",
     "output_type": "stream",
     "text": [
      "(16346, 13) (4087, 13) (16346,) (4087,)\n"
     ]
    }
   ],
   "source": [
    "print(X_train.shape, X_test.shape, y_train.shape, y_test.shape)"
   ]
  },
  {
   "cell_type": "markdown",
   "id": "05d4c905",
   "metadata": {},
   "source": [
    "### Escalamos la data"
   ]
  },
  {
   "cell_type": "code",
   "execution_count": 15,
   "id": "0b7be747",
   "metadata": {},
   "outputs": [],
   "source": [
    "min_max_scaler = MinMaxScaler()\n",
    "X_train = min_max_scaler.fit_transform(X_train)\n",
    "X_test = min_max_scaler.transform(X_test)"
   ]
  },
  {
   "cell_type": "markdown",
   "id": "06b4bff1",
   "metadata": {},
   "source": [
    "# 3. Construimos, compilamos y ajustamos el modelo"
   ]
  },
  {
   "cell_type": "markdown",
   "id": "3ecfd397",
   "metadata": {},
   "source": [
    "##### Para construirlo usaremos el método Secuencial de Keras\n",
    "##### Especificamos el optimizador (rmsprop o Adam) (Ayudan a ajustar el peso de la red durante entrenamiento y minimiza la función de perdida)\n",
    "##### Definimos funcion de perdida (MSE o MAE)\n",
    "##### Ajustamos el modelo (Crearemos una nueva variable para evaluar las curvas de aprendizaje)\n",
    "##### EarlyStopping para prevenir el SobreAjuste "
   ]
  },
  {
   "cell_type": "markdown",
   "id": "649076b7",
   "metadata": {},
   "source": [
    "### Empezamos a construir"
   ]
  },
  {
   "cell_type": "code",
   "execution_count": 16,
   "id": "c9206710",
   "metadata": {},
   "outputs": [
    {
     "name": "stderr",
     "output_type": "stream",
     "text": [
      "/Users/lguillen/Library/Python/3.10/lib/python/site-packages/keras/src/layers/core/dense.py:87: UserWarning: Do not pass an `input_shape`/`input_dim` argument to a layer. When using Sequential models, prefer using an `Input(shape)` object as the first layer in the model instead.\n",
      "  super().__init__(activity_regularizer=activity_regularizer, **kwargs)\n"
     ]
    },
    {
     "data": {
      "text/html": [
       "<pre style=\"white-space:pre;overflow-x:auto;line-height:normal;font-family:Menlo,'DejaVu Sans Mono',consolas,'Courier New',monospace\"><span style=\"font-weight: bold\">Model: \"sequential\"</span>\n",
       "</pre>\n"
      ],
      "text/plain": [
       "\u001b[1mModel: \"sequential\"\u001b[0m\n"
      ]
     },
     "metadata": {},
     "output_type": "display_data"
    },
    {
     "data": {
      "text/html": [
       "<pre style=\"white-space:pre;overflow-x:auto;line-height:normal;font-family:Menlo,'DejaVu Sans Mono',consolas,'Courier New',monospace\">┏━━━━━━━━━━━━━━━━━━━━━━━━━━━━━━━━━┳━━━━━━━━━━━━━━━━━━━━━━━━┳━━━━━━━━━━━━━━━┓\n",
       "┃<span style=\"font-weight: bold\"> Layer (type)                    </span>┃<span style=\"font-weight: bold\"> Output Shape           </span>┃<span style=\"font-weight: bold\">       Param # </span>┃\n",
       "┡━━━━━━━━━━━━━━━━━━━━━━━━━━━━━━━━━╇━━━━━━━━━━━━━━━━━━━━━━━━╇━━━━━━━━━━━━━━━┩\n",
       "│ dense (<span style=\"color: #0087ff; text-decoration-color: #0087ff\">Dense</span>)                   │ (<span style=\"color: #00d7ff; text-decoration-color: #00d7ff\">None</span>, <span style=\"color: #00af00; text-decoration-color: #00af00\">1000</span>)           │        <span style=\"color: #00af00; text-decoration-color: #00af00\">14,000</span> │\n",
       "├─────────────────────────────────┼────────────────────────┼───────────────┤\n",
       "│ dense_1 (<span style=\"color: #0087ff; text-decoration-color: #0087ff\">Dense</span>)                 │ (<span style=\"color: #00d7ff; text-decoration-color: #00d7ff\">None</span>, <span style=\"color: #00af00; text-decoration-color: #00af00\">500</span>)            │       <span style=\"color: #00af00; text-decoration-color: #00af00\">500,500</span> │\n",
       "├─────────────────────────────────┼────────────────────────┼───────────────┤\n",
       "│ dense_2 (<span style=\"color: #0087ff; text-decoration-color: #0087ff\">Dense</span>)                 │ (<span style=\"color: #00d7ff; text-decoration-color: #00d7ff\">None</span>, <span style=\"color: #00af00; text-decoration-color: #00af00\">250</span>)            │       <span style=\"color: #00af00; text-decoration-color: #00af00\">125,250</span> │\n",
       "├─────────────────────────────────┼────────────────────────┼───────────────┤\n",
       "│ dense_3 (<span style=\"color: #0087ff; text-decoration-color: #0087ff\">Dense</span>)                 │ (<span style=\"color: #00d7ff; text-decoration-color: #00d7ff\">None</span>, <span style=\"color: #00af00; text-decoration-color: #00af00\">1</span>)              │           <span style=\"color: #00af00; text-decoration-color: #00af00\">251</span> │\n",
       "└─────────────────────────────────┴────────────────────────┴───────────────┘\n",
       "</pre>\n"
      ],
      "text/plain": [
       "┏━━━━━━━━━━━━━━━━━━━━━━━━━━━━━━━━━┳━━━━━━━━━━━━━━━━━━━━━━━━┳━━━━━━━━━━━━━━━┓\n",
       "┃\u001b[1m \u001b[0m\u001b[1mLayer (type)                   \u001b[0m\u001b[1m \u001b[0m┃\u001b[1m \u001b[0m\u001b[1mOutput Shape          \u001b[0m\u001b[1m \u001b[0m┃\u001b[1m \u001b[0m\u001b[1m      Param #\u001b[0m\u001b[1m \u001b[0m┃\n",
       "┡━━━━━━━━━━━━━━━━━━━━━━━━━━━━━━━━━╇━━━━━━━━━━━━━━━━━━━━━━━━╇━━━━━━━━━━━━━━━┩\n",
       "│ dense (\u001b[38;5;33mDense\u001b[0m)                   │ (\u001b[38;5;45mNone\u001b[0m, \u001b[38;5;34m1000\u001b[0m)           │        \u001b[38;5;34m14,000\u001b[0m │\n",
       "├─────────────────────────────────┼────────────────────────┼───────────────┤\n",
       "│ dense_1 (\u001b[38;5;33mDense\u001b[0m)                 │ (\u001b[38;5;45mNone\u001b[0m, \u001b[38;5;34m500\u001b[0m)            │       \u001b[38;5;34m500,500\u001b[0m │\n",
       "├─────────────────────────────────┼────────────────────────┼───────────────┤\n",
       "│ dense_2 (\u001b[38;5;33mDense\u001b[0m)                 │ (\u001b[38;5;45mNone\u001b[0m, \u001b[38;5;34m250\u001b[0m)            │       \u001b[38;5;34m125,250\u001b[0m │\n",
       "├─────────────────────────────────┼────────────────────────┼───────────────┤\n",
       "│ dense_3 (\u001b[38;5;33mDense\u001b[0m)                 │ (\u001b[38;5;45mNone\u001b[0m, \u001b[38;5;34m1\u001b[0m)              │           \u001b[38;5;34m251\u001b[0m │\n",
       "└─────────────────────────────────┴────────────────────────┴───────────────┘\n"
      ]
     },
     "metadata": {},
     "output_type": "display_data"
    },
    {
     "data": {
      "text/html": [
       "<pre style=\"white-space:pre;overflow-x:auto;line-height:normal;font-family:Menlo,'DejaVu Sans Mono',consolas,'Courier New',monospace\"><span style=\"font-weight: bold\"> Total params: </span><span style=\"color: #00af00; text-decoration-color: #00af00\">640,001</span> (2.44 MB)\n",
       "</pre>\n"
      ],
      "text/plain": [
       "\u001b[1m Total params: \u001b[0m\u001b[38;5;34m640,001\u001b[0m (2.44 MB)\n"
      ]
     },
     "metadata": {},
     "output_type": "display_data"
    },
    {
     "data": {
      "text/html": [
       "<pre style=\"white-space:pre;overflow-x:auto;line-height:normal;font-family:Menlo,'DejaVu Sans Mono',consolas,'Courier New',monospace\"><span style=\"font-weight: bold\"> Trainable params: </span><span style=\"color: #00af00; text-decoration-color: #00af00\">640,001</span> (2.44 MB)\n",
       "</pre>\n"
      ],
      "text/plain": [
       "\u001b[1m Trainable params: \u001b[0m\u001b[38;5;34m640,001\u001b[0m (2.44 MB)\n"
      ]
     },
     "metadata": {},
     "output_type": "display_data"
    },
    {
     "data": {
      "text/html": [
       "<pre style=\"white-space:pre;overflow-x:auto;line-height:normal;font-family:Menlo,'DejaVu Sans Mono',consolas,'Courier New',monospace\"><span style=\"font-weight: bold\"> Non-trainable params: </span><span style=\"color: #00af00; text-decoration-color: #00af00\">0</span> (0.00 B)\n",
       "</pre>\n"
      ],
      "text/plain": [
       "\u001b[1m Non-trainable params: \u001b[0m\u001b[38;5;34m0\u001b[0m (0.00 B)\n"
      ]
     },
     "metadata": {},
     "output_type": "display_data"
    }
   ],
   "source": [
    "model = Sequential() #Para construir la red de manera simple.\n",
    "model.add(Dense(1000, input_shape=(X_train.shape[1],), activation='relu')) #1000 neuronas, \n",
    "model.add(Dense(500, activation='relu'))\n",
    "model.add(Dense(250, activation='relu'))\n",
    "model.add(Dense(1, activation='linear')) #Nodo de salida\n",
    "model.summary() # Ver la arquitectura del modelo"
   ]
  },
  {
   "cell_type": "markdown",
   "id": "b85e6d74",
   "metadata": {},
   "source": [
    "### Compilamos el modelo"
   ]
  },
  {
   "cell_type": "code",
   "execution_count": 17,
   "id": "707d2dd1",
   "metadata": {},
   "outputs": [],
   "source": [
    "model.compile(optimizer='rmsprop', loss='mse', metrics=['mae'])"
   ]
  },
  {
   "cell_type": "code",
   "execution_count": 18,
   "id": "08c634ad",
   "metadata": {},
   "outputs": [],
   "source": [
    "es = EarlyStopping(monitor='val_loss',\n",
    "                   mode='min',\n",
    "                   patience=50,\n",
    "                   restore_best_weights = True)"
   ]
  },
  {
   "cell_type": "markdown",
   "id": "001e5fec",
   "metadata": {},
   "source": [
    "### Ajsutamos el modelo"
   ]
  },
  {
   "cell_type": "code",
   "execution_count": 19,
   "id": "7d9d6df0",
   "metadata": {},
   "outputs": [
    {
     "name": "stdout",
     "output_type": "stream",
     "text": [
      "Epoch 1/5000\n",
      "\u001b[1m327/327\u001b[0m \u001b[32m━━━━━━━━━━━━━━━━━━━━\u001b[0m\u001b[37m\u001b[0m \u001b[1m1s\u001b[0m 3ms/step - loss: 38391123968.0000 - mae: 156456.0781 - val_loss: 8082553344.0000 - val_mae: 69896.0391\n",
      "Epoch 2/5000\n",
      "\u001b[1m327/327\u001b[0m \u001b[32m━━━━━━━━━━━━━━━━━━━━\u001b[0m\u001b[37m\u001b[0m \u001b[1m1s\u001b[0m 3ms/step - loss: 7804338176.0000 - mae: 67852.5547 - val_loss: 5972967936.0000 - val_mae: 57366.4844\n",
      "Epoch 3/5000\n",
      "\u001b[1m327/327\u001b[0m \u001b[32m━━━━━━━━━━━━━━━━━━━━\u001b[0m\u001b[37m\u001b[0m \u001b[1m1s\u001b[0m 3ms/step - loss: 6094240256.0000 - mae: 57667.5547 - val_loss: 5089219584.0000 - val_mae: 51626.4688\n",
      "Epoch 4/5000\n",
      "\u001b[1m327/327\u001b[0m \u001b[32m━━━━━━━━━━━━━━━━━━━━\u001b[0m\u001b[37m\u001b[0m \u001b[1m1s\u001b[0m 3ms/step - loss: 5247760384.0000 - mae: 52466.8516 - val_loss: 4956732416.0000 - val_mae: 50266.6758\n",
      "Epoch 5/5000\n",
      "\u001b[1m327/327\u001b[0m \u001b[32m━━━━━━━━━━━━━━━━━━━━\u001b[0m\u001b[37m\u001b[0m \u001b[1m1s\u001b[0m 3ms/step - loss: 5235079680.0000 - mae: 52322.5664 - val_loss: 4889319936.0000 - val_mae: 49645.7695\n",
      "Epoch 6/5000\n",
      "\u001b[1m327/327\u001b[0m \u001b[32m━━━━━━━━━━━━━━━━━━━━\u001b[0m\u001b[37m\u001b[0m \u001b[1m1s\u001b[0m 4ms/step - loss: 5252243968.0000 - mae: 51935.4883 - val_loss: 4855705600.0000 - val_mae: 51262.7656\n",
      "Epoch 7/5000\n",
      "\u001b[1m327/327\u001b[0m \u001b[32m━━━━━━━━━━━━━━━━━━━━\u001b[0m\u001b[37m\u001b[0m \u001b[1m1s\u001b[0m 4ms/step - loss: 4903256576.0000 - mae: 50442.4297 - val_loss: 4771315200.0000 - val_mae: 50623.5781\n",
      "Epoch 8/5000\n",
      "\u001b[1m327/327\u001b[0m \u001b[32m━━━━━━━━━━━━━━━━━━━━\u001b[0m\u001b[37m\u001b[0m \u001b[1m1s\u001b[0m 4ms/step - loss: 5043081728.0000 - mae: 51300.5586 - val_loss: 4686563328.0000 - val_mae: 49113.6680\n",
      "Epoch 9/5000\n",
      "\u001b[1m327/327\u001b[0m \u001b[32m━━━━━━━━━━━━━━━━━━━━\u001b[0m\u001b[37m\u001b[0m \u001b[1m1s\u001b[0m 4ms/step - loss: 4956796928.0000 - mae: 50374.2812 - val_loss: 4662819840.0000 - val_mae: 48195.9570\n",
      "Epoch 10/5000\n",
      "\u001b[1m327/327\u001b[0m \u001b[32m━━━━━━━━━━━━━━━━━━━━\u001b[0m\u001b[37m\u001b[0m \u001b[1m1s\u001b[0m 4ms/step - loss: 5072493056.0000 - mae: 50636.2227 - val_loss: 4576473088.0000 - val_mae: 48117.9297\n",
      "Epoch 11/5000\n",
      "\u001b[1m327/327\u001b[0m \u001b[32m━━━━━━━━━━━━━━━━━━━━\u001b[0m\u001b[37m\u001b[0m \u001b[1m1s\u001b[0m 4ms/step - loss: 4694789120.0000 - mae: 48810.0898 - val_loss: 4850556928.0000 - val_mae: 52849.1602\n",
      "Epoch 12/5000\n",
      "\u001b[1m327/327\u001b[0m \u001b[32m━━━━━━━━━━━━━━━━━━━━\u001b[0m\u001b[37m\u001b[0m \u001b[1m1s\u001b[0m 4ms/step - loss: 4753627648.0000 - mae: 49372.9219 - val_loss: 4476004352.0000 - val_mae: 48479.8867\n",
      "Epoch 13/5000\n",
      "\u001b[1m327/327\u001b[0m \u001b[32m━━━━━━━━━━━━━━━━━━━━\u001b[0m\u001b[37m\u001b[0m \u001b[1m1s\u001b[0m 4ms/step - loss: 4851006976.0000 - mae: 49361.3711 - val_loss: 4413229056.0000 - val_mae: 47492.2773\n",
      "Epoch 14/5000\n",
      "\u001b[1m327/327\u001b[0m \u001b[32m━━━━━━━━━━━━━━━━━━━━\u001b[0m\u001b[37m\u001b[0m \u001b[1m1s\u001b[0m 4ms/step - loss: 4746853888.0000 - mae: 48784.2422 - val_loss: 4386001408.0000 - val_mae: 46679.8438\n",
      "Epoch 15/5000\n",
      "\u001b[1m327/327\u001b[0m \u001b[32m━━━━━━━━━━━━━━━━━━━━\u001b[0m\u001b[37m\u001b[0m \u001b[1m1s\u001b[0m 4ms/step - loss: 4776049664.0000 - mae: 48834.0664 - val_loss: 4335252480.0000 - val_mae: 46775.9844\n",
      "Epoch 16/5000\n",
      "\u001b[1m327/327\u001b[0m \u001b[32m━━━━━━━━━━━━━━━━━━━━\u001b[0m\u001b[37m\u001b[0m \u001b[1m2s\u001b[0m 5ms/step - loss: 4476093440.0000 - mae: 47412.2344 - val_loss: 4347268608.0000 - val_mae: 46068.2461\n",
      "Epoch 17/5000\n",
      "\u001b[1m327/327\u001b[0m \u001b[32m━━━━━━━━━━━━━━━━━━━━\u001b[0m\u001b[37m\u001b[0m \u001b[1m2s\u001b[0m 5ms/step - loss: 4628662272.0000 - mae: 48221.6797 - val_loss: 4393752064.0000 - val_mae: 45677.8984\n",
      "Epoch 18/5000\n",
      "\u001b[1m327/327\u001b[0m \u001b[32m━━━━━━━━━━━━━━━━━━━━\u001b[0m\u001b[37m\u001b[0m \u001b[1m2s\u001b[0m 5ms/step - loss: 4421718016.0000 - mae: 47358.4492 - val_loss: 4284345088.0000 - val_mae: 46366.1445\n",
      "Epoch 19/5000\n",
      "\u001b[1m327/327\u001b[0m \u001b[32m━━━━━━━━━━━━━━━━━━━━\u001b[0m\u001b[37m\u001b[0m \u001b[1m2s\u001b[0m 5ms/step - loss: 4411041280.0000 - mae: 47351.5742 - val_loss: 4252556800.0000 - val_mae: 45601.4727\n",
      "Epoch 20/5000\n",
      "\u001b[1m327/327\u001b[0m \u001b[32m━━━━━━━━━━━━━━━━━━━━\u001b[0m\u001b[37m\u001b[0m \u001b[1m2s\u001b[0m 5ms/step - loss: 4515860992.0000 - mae: 47850.7227 - val_loss: 4324149760.0000 - val_mae: 45401.8945\n",
      "Epoch 21/5000\n",
      "\u001b[1m327/327\u001b[0m \u001b[32m━━━━━━━━━━━━━━━━━━━━\u001b[0m\u001b[37m\u001b[0m \u001b[1m2s\u001b[0m 5ms/step - loss: 4548722176.0000 - mae: 47492.2148 - val_loss: 4221588480.0000 - val_mae: 45519.7617\n",
      "Epoch 22/5000\n",
      "\u001b[1m327/327\u001b[0m \u001b[32m━━━━━━━━━━━━━━━━━━━━\u001b[0m\u001b[37m\u001b[0m \u001b[1m2s\u001b[0m 5ms/step - loss: 4450612224.0000 - mae: 47180.3906 - val_loss: 4213486592.0000 - val_mae: 46127.1211\n",
      "Epoch 23/5000\n",
      "\u001b[1m327/327\u001b[0m \u001b[32m━━━━━━━━━━━━━━━━━━━━\u001b[0m\u001b[37m\u001b[0m \u001b[1m2s\u001b[0m 5ms/step - loss: 4380758528.0000 - mae: 47195.6094 - val_loss: 4239543808.0000 - val_mae: 45067.4180\n",
      "Epoch 24/5000\n",
      "\u001b[1m327/327\u001b[0m \u001b[32m━━━━━━━━━━━━━━━━━━━━\u001b[0m\u001b[37m\u001b[0m \u001b[1m2s\u001b[0m 5ms/step - loss: 4464525824.0000 - mae: 47039.5664 - val_loss: 4262471680.0000 - val_mae: 46524.3828\n",
      "Epoch 25/5000\n",
      "\u001b[1m327/327\u001b[0m \u001b[32m━━━━━━━━━━━━━━━━━━━━\u001b[0m\u001b[37m\u001b[0m \u001b[1m2s\u001b[0m 5ms/step - loss: 4351325696.0000 - mae: 46539.4023 - val_loss: 4171290368.0000 - val_mae: 45579.1250\n",
      "Epoch 26/5000\n",
      "\u001b[1m327/327\u001b[0m \u001b[32m━━━━━━━━━━━━━━━━━━━━\u001b[0m\u001b[37m\u001b[0m \u001b[1m2s\u001b[0m 5ms/step - loss: 4369779712.0000 - mae: 46878.3672 - val_loss: 4170887936.0000 - val_mae: 45381.6016\n",
      "Epoch 27/5000\n",
      "\u001b[1m327/327\u001b[0m \u001b[32m━━━━━━━━━━━━━━━━━━━━\u001b[0m\u001b[37m\u001b[0m \u001b[1m2s\u001b[0m 6ms/step - loss: 4333511168.0000 - mae: 46337.0820 - val_loss: 4269165824.0000 - val_mae: 47212.0547\n",
      "Epoch 28/5000\n",
      "\u001b[1m327/327\u001b[0m \u001b[32m━━━━━━━━━━━━━━━━━━━━\u001b[0m\u001b[37m\u001b[0m \u001b[1m2s\u001b[0m 5ms/step - loss: 4365711360.0000 - mae: 46677.5234 - val_loss: 4306514432.0000 - val_mae: 47635.9336\n",
      "Epoch 29/5000\n",
      "\u001b[1m327/327\u001b[0m \u001b[32m━━━━━━━━━━━━━━━━━━━━\u001b[0m\u001b[37m\u001b[0m \u001b[1m2s\u001b[0m 6ms/step - loss: 4301647360.0000 - mae: 46366.3438 - val_loss: 4180637184.0000 - val_mae: 45661.2930\n",
      "Epoch 30/5000\n",
      "\u001b[1m327/327\u001b[0m \u001b[32m━━━━━━━━━━━━━━━━━━━━\u001b[0m\u001b[37m\u001b[0m \u001b[1m2s\u001b[0m 6ms/step - loss: 4435337728.0000 - mae: 46798.3438 - val_loss: 4137895680.0000 - val_mae: 44808.6875\n",
      "Epoch 31/5000\n",
      "\u001b[1m327/327\u001b[0m \u001b[32m━━━━━━━━━━━━━━━━━━━━\u001b[0m\u001b[37m\u001b[0m \u001b[1m2s\u001b[0m 6ms/step - loss: 4420410368.0000 - mae: 46847.1445 - val_loss: 4161370624.0000 - val_mae: 44903.3359\n",
      "Epoch 32/5000\n",
      "\u001b[1m327/327\u001b[0m \u001b[32m━━━━━━━━━━━━━━━━━━━━\u001b[0m\u001b[37m\u001b[0m \u001b[1m2s\u001b[0m 6ms/step - loss: 4294878976.0000 - mae: 46360.6797 - val_loss: 4144900352.0000 - val_mae: 45282.5117\n",
      "Epoch 33/5000\n",
      "\u001b[1m327/327\u001b[0m \u001b[32m━━━━━━━━━━━━━━━━━━━━\u001b[0m\u001b[37m\u001b[0m \u001b[1m2s\u001b[0m 6ms/step - loss: 4295737344.0000 - mae: 46055.3945 - val_loss: 4124355328.0000 - val_mae: 45464.4414\n",
      "Epoch 34/5000\n",
      "\u001b[1m327/327\u001b[0m \u001b[32m━━━━━━━━━━━━━━━━━━━━\u001b[0m\u001b[37m\u001b[0m \u001b[1m2s\u001b[0m 6ms/step - loss: 4393337344.0000 - mae: 46764.4570 - val_loss: 4176256256.0000 - val_mae: 44406.5469\n",
      "Epoch 35/5000\n",
      "\u001b[1m327/327\u001b[0m \u001b[32m━━━━━━━━━━━━━━━━━━━━\u001b[0m\u001b[37m\u001b[0m \u001b[1m2s\u001b[0m 5ms/step - loss: 4319425024.0000 - mae: 46325.7188 - val_loss: 4124233728.0000 - val_mae: 44727.2422\n",
      "Epoch 36/5000\n",
      "\u001b[1m327/327\u001b[0m \u001b[32m━━━━━━━━━━━━━━━━━━━━\u001b[0m\u001b[37m\u001b[0m \u001b[1m2s\u001b[0m 6ms/step - loss: 4335080960.0000 - mae: 46366.3828 - val_loss: 4252843776.0000 - val_mae: 47108.8945\n",
      "Epoch 37/5000\n",
      "\u001b[1m327/327\u001b[0m \u001b[32m━━━━━━━━━━━━━━━━━━━━\u001b[0m\u001b[37m\u001b[0m \u001b[1m2s\u001b[0m 6ms/step - loss: 4229176576.0000 - mae: 45858.7578 - val_loss: 4518572032.0000 - val_mae: 49854.2812\n",
      "Epoch 38/5000\n",
      "\u001b[1m327/327\u001b[0m \u001b[32m━━━━━━━━━━━━━━━━━━━━\u001b[0m\u001b[37m\u001b[0m \u001b[1m2s\u001b[0m 6ms/step - loss: 4266559744.0000 - mae: 45895.7148 - val_loss: 4147806976.0000 - val_mae: 44409.4883\n",
      "Epoch 39/5000\n",
      "\u001b[1m327/327\u001b[0m \u001b[32m━━━━━━━━━━━━━━━━━━━━\u001b[0m\u001b[37m\u001b[0m \u001b[1m2s\u001b[0m 6ms/step - loss: 4232420096.0000 - mae: 45865.0039 - val_loss: 4079203584.0000 - val_mae: 44493.9453\n",
      "Epoch 40/5000\n",
      "\u001b[1m327/327\u001b[0m \u001b[32m━━━━━━━━━━━━━━━━━━━━\u001b[0m\u001b[37m\u001b[0m \u001b[1m2s\u001b[0m 5ms/step - loss: 4281622528.0000 - mae: 46403.4297 - val_loss: 4069763840.0000 - val_mae: 44896.3672\n",
      "Epoch 41/5000\n",
      "\u001b[1m327/327\u001b[0m \u001b[32m━━━━━━━━━━━━━━━━━━━━\u001b[0m\u001b[37m\u001b[0m \u001b[1m2s\u001b[0m 5ms/step - loss: 4224754176.0000 - mae: 45920.4570 - val_loss: 4071934976.0000 - val_mae: 44805.1758\n",
      "Epoch 42/5000\n",
      "\u001b[1m327/327\u001b[0m \u001b[32m━━━━━━━━━━━━━━━━━━━━\u001b[0m\u001b[37m\u001b[0m \u001b[1m2s\u001b[0m 6ms/step - loss: 4218947328.0000 - mae: 45946.6016 - val_loss: 4124755968.0000 - val_mae: 44160.4688\n",
      "Epoch 43/5000\n",
      "\u001b[1m327/327\u001b[0m \u001b[32m━━━━━━━━━━━━━━━━━━━━\u001b[0m\u001b[37m\u001b[0m \u001b[1m2s\u001b[0m 5ms/step - loss: 4402321920.0000 - mae: 46206.9531 - val_loss: 4165198592.0000 - val_mae: 44134.2891\n",
      "Epoch 44/5000\n",
      "\u001b[1m327/327\u001b[0m \u001b[32m━━━━━━━━━━━━━━━━━━━━\u001b[0m\u001b[37m\u001b[0m \u001b[1m2s\u001b[0m 6ms/step - loss: 4207320320.0000 - mae: 45633.9766 - val_loss: 4081894912.0000 - val_mae: 43788.9766\n",
      "Epoch 45/5000\n",
      "\u001b[1m327/327\u001b[0m \u001b[32m━━━━━━━━━━━━━━━━━━━━\u001b[0m\u001b[37m\u001b[0m \u001b[1m2s\u001b[0m 6ms/step - loss: 4231179520.0000 - mae: 45620.2891 - val_loss: 4035366912.0000 - val_mae: 44100.8320\n",
      "Epoch 46/5000\n"
     ]
    },
    {
     "name": "stdout",
     "output_type": "stream",
     "text": [
      "\u001b[1m327/327\u001b[0m \u001b[32m━━━━━━━━━━━━━━━━━━━━\u001b[0m\u001b[37m\u001b[0m \u001b[1m2s\u001b[0m 5ms/step - loss: 4120782336.0000 - mae: 45326.8945 - val_loss: 4046210304.0000 - val_mae: 44214.8008\n",
      "Epoch 47/5000\n",
      "\u001b[1m327/327\u001b[0m \u001b[32m━━━━━━━━━━━━━━━━━━━━\u001b[0m\u001b[37m\u001b[0m \u001b[1m2s\u001b[0m 5ms/step - loss: 4094255616.0000 - mae: 45140.7383 - val_loss: 4058740224.0000 - val_mae: 45179.7461\n",
      "Epoch 48/5000\n",
      "\u001b[1m327/327\u001b[0m \u001b[32m━━━━━━━━━━━━━━━━━━━━\u001b[0m\u001b[37m\u001b[0m \u001b[1m2s\u001b[0m 5ms/step - loss: 4045835008.0000 - mae: 44747.8359 - val_loss: 4153609216.0000 - val_mae: 46437.1328\n",
      "Epoch 49/5000\n",
      "\u001b[1m327/327\u001b[0m \u001b[32m━━━━━━━━━━━━━━━━━━━━\u001b[0m\u001b[37m\u001b[0m \u001b[1m2s\u001b[0m 5ms/step - loss: 4119644672.0000 - mae: 45164.9453 - val_loss: 4120476928.0000 - val_mae: 45872.3672\n",
      "Epoch 50/5000\n",
      "\u001b[1m327/327\u001b[0m \u001b[32m━━━━━━━━━━━━━━━━━━━━\u001b[0m\u001b[37m\u001b[0m \u001b[1m2s\u001b[0m 5ms/step - loss: 4120348160.0000 - mae: 45141.0469 - val_loss: 3971839232.0000 - val_mae: 43776.7109\n",
      "Epoch 51/5000\n",
      "\u001b[1m327/327\u001b[0m \u001b[32m━━━━━━━━━━━━━━━━━━━━\u001b[0m\u001b[37m\u001b[0m \u001b[1m2s\u001b[0m 5ms/step - loss: 4090997504.0000 - mae: 44796.4219 - val_loss: 4071860736.0000 - val_mae: 43518.4180\n",
      "Epoch 52/5000\n",
      "\u001b[1m327/327\u001b[0m \u001b[32m━━━━━━━━━━━━━━━━━━━━\u001b[0m\u001b[37m\u001b[0m \u001b[1m2s\u001b[0m 5ms/step - loss: 4157864192.0000 - mae: 44790.1328 - val_loss: 4065986048.0000 - val_mae: 43426.9453\n",
      "Epoch 53/5000\n",
      "\u001b[1m327/327\u001b[0m \u001b[32m━━━━━━━━━━━━━━━━━━━━\u001b[0m\u001b[37m\u001b[0m \u001b[1m2s\u001b[0m 5ms/step - loss: 4002016000.0000 - mae: 44288.6367 - val_loss: 3963156992.0000 - val_mae: 43754.0469\n",
      "Epoch 54/5000\n",
      "\u001b[1m327/327\u001b[0m \u001b[32m━━━━━━━━━━━━━━━━━━━━\u001b[0m\u001b[37m\u001b[0m \u001b[1m2s\u001b[0m 5ms/step - loss: 4097426432.0000 - mae: 44939.6992 - val_loss: 4000117760.0000 - val_mae: 44266.5352\n",
      "Epoch 55/5000\n",
      "\u001b[1m327/327\u001b[0m \u001b[32m━━━━━━━━━━━━━━━━━━━━\u001b[0m\u001b[37m\u001b[0m \u001b[1m2s\u001b[0m 5ms/step - loss: 4119467520.0000 - mae: 44819.9258 - val_loss: 4000524544.0000 - val_mae: 43271.8359\n",
      "Epoch 56/5000\n",
      "\u001b[1m327/327\u001b[0m \u001b[32m━━━━━━━━━━━━━━━━━━━━\u001b[0m\u001b[37m\u001b[0m \u001b[1m2s\u001b[0m 5ms/step - loss: 4014807040.0000 - mae: 44625.4180 - val_loss: 4234537472.0000 - val_mae: 46523.3711\n",
      "Epoch 57/5000\n",
      "\u001b[1m327/327\u001b[0m \u001b[32m━━━━━━━━━━━━━━━━━━━━\u001b[0m\u001b[37m\u001b[0m \u001b[1m2s\u001b[0m 5ms/step - loss: 3871709952.0000 - mae: 43759.2578 - val_loss: 3956906752.0000 - val_mae: 43748.3203\n",
      "Epoch 58/5000\n",
      "\u001b[1m327/327\u001b[0m \u001b[32m━━━━━━━━━━━━━━━━━━━━\u001b[0m\u001b[37m\u001b[0m \u001b[1m2s\u001b[0m 5ms/step - loss: 4037830144.0000 - mae: 44347.0625 - val_loss: 3911030016.0000 - val_mae: 43747.7930\n",
      "Epoch 59/5000\n",
      "\u001b[1m327/327\u001b[0m \u001b[32m━━━━━━━━━━━━━━━━━━━━\u001b[0m\u001b[37m\u001b[0m \u001b[1m1s\u001b[0m 4ms/step - loss: 3889571072.0000 - mae: 43795.9492 - val_loss: 3904094464.0000 - val_mae: 43437.0312\n",
      "Epoch 60/5000\n",
      "\u001b[1m327/327\u001b[0m \u001b[32m━━━━━━━━━━━━━━━━━━━━\u001b[0m\u001b[37m\u001b[0m \u001b[1m2s\u001b[0m 5ms/step - loss: 4018754048.0000 - mae: 44244.3281 - val_loss: 3919149312.0000 - val_mae: 43874.1992\n",
      "Epoch 61/5000\n",
      "\u001b[1m327/327\u001b[0m \u001b[32m━━━━━━━━━━━━━━━━━━━━\u001b[0m\u001b[37m\u001b[0m \u001b[1m2s\u001b[0m 5ms/step - loss: 4035478016.0000 - mae: 44595.2891 - val_loss: 3897125888.0000 - val_mae: 43091.7500\n",
      "Epoch 62/5000\n",
      "\u001b[1m327/327\u001b[0m \u001b[32m━━━━━━━━━━━━━━━━━━━━\u001b[0m\u001b[37m\u001b[0m \u001b[1m2s\u001b[0m 5ms/step - loss: 3883059968.0000 - mae: 43694.5078 - val_loss: 3904977664.0000 - val_mae: 43809.0586\n",
      "Epoch 63/5000\n",
      "\u001b[1m327/327\u001b[0m \u001b[32m━━━━━━━━━━━━━━━━━━━━\u001b[0m\u001b[37m\u001b[0m \u001b[1m2s\u001b[0m 5ms/step - loss: 3993118464.0000 - mae: 44311.5508 - val_loss: 3881265920.0000 - val_mae: 43118.3086\n",
      "Epoch 64/5000\n",
      "\u001b[1m327/327\u001b[0m \u001b[32m━━━━━━━━━━━━━━━━━━━━\u001b[0m\u001b[37m\u001b[0m \u001b[1m2s\u001b[0m 5ms/step - loss: 4013084672.0000 - mae: 44016.4180 - val_loss: 3851426304.0000 - val_mae: 42598.3398\n",
      "Epoch 65/5000\n",
      "\u001b[1m327/327\u001b[0m \u001b[32m━━━━━━━━━━━━━━━━━━━━\u001b[0m\u001b[37m\u001b[0m \u001b[1m2s\u001b[0m 5ms/step - loss: 3888745472.0000 - mae: 43589.5625 - val_loss: 3892815616.0000 - val_mae: 42499.2891\n",
      "Epoch 66/5000\n",
      "\u001b[1m327/327\u001b[0m \u001b[32m━━━━━━━━━━━━━━━━━━━━\u001b[0m\u001b[37m\u001b[0m \u001b[1m2s\u001b[0m 5ms/step - loss: 3750992896.0000 - mae: 43071.2461 - val_loss: 3861406976.0000 - val_mae: 42893.9609\n",
      "Epoch 67/5000\n",
      "\u001b[1m327/327\u001b[0m \u001b[32m━━━━━━━━━━━━━━━━━━━━\u001b[0m\u001b[37m\u001b[0m \u001b[1m2s\u001b[0m 5ms/step - loss: 3944712960.0000 - mae: 43744.4961 - val_loss: 3876320000.0000 - val_mae: 42258.1914\n",
      "Epoch 68/5000\n",
      "\u001b[1m327/327\u001b[0m \u001b[32m━━━━━━━━━━━━━━━━━━━━\u001b[0m\u001b[37m\u001b[0m \u001b[1m2s\u001b[0m 5ms/step - loss: 3878275840.0000 - mae: 43531.4375 - val_loss: 3863963904.0000 - val_mae: 43310.9180\n",
      "Epoch 69/5000\n",
      "\u001b[1m327/327\u001b[0m \u001b[32m━━━━━━━━━━━━━━━━━━━━\u001b[0m\u001b[37m\u001b[0m \u001b[1m2s\u001b[0m 5ms/step - loss: 3889728768.0000 - mae: 43498.9805 - val_loss: 3840672000.0000 - val_mae: 43462.5586\n",
      "Epoch 70/5000\n",
      "\u001b[1m327/327\u001b[0m \u001b[32m━━━━━━━━━━━━━━━━━━━━\u001b[0m\u001b[37m\u001b[0m \u001b[1m2s\u001b[0m 5ms/step - loss: 3822532352.0000 - mae: 43314.5781 - val_loss: 3798313728.0000 - val_mae: 42960.4766\n",
      "Epoch 71/5000\n",
      "\u001b[1m327/327\u001b[0m \u001b[32m━━━━━━━━━━━━━━━━━━━━\u001b[0m\u001b[37m\u001b[0m \u001b[1m2s\u001b[0m 5ms/step - loss: 3751918592.0000 - mae: 42817.9727 - val_loss: 3811962624.0000 - val_mae: 42073.3594\n",
      "Epoch 72/5000\n",
      "\u001b[1m327/327\u001b[0m \u001b[32m━━━━━━━━━━━━━━━━━━━━\u001b[0m\u001b[37m\u001b[0m \u001b[1m2s\u001b[0m 5ms/step - loss: 3919032832.0000 - mae: 43497.0781 - val_loss: 3814630400.0000 - val_mae: 43162.0469\n",
      "Epoch 73/5000\n",
      "\u001b[1m327/327\u001b[0m \u001b[32m━━━━━━━━━━━━━━━━━━━━\u001b[0m\u001b[37m\u001b[0m \u001b[1m2s\u001b[0m 5ms/step - loss: 3680053248.0000 - mae: 42349.2461 - val_loss: 3709776128.0000 - val_mae: 41791.9922\n",
      "Epoch 74/5000\n",
      "\u001b[1m327/327\u001b[0m \u001b[32m━━━━━━━━━━━━━━━━━━━━\u001b[0m\u001b[37m\u001b[0m \u001b[1m2s\u001b[0m 5ms/step - loss: 3743324416.0000 - mae: 42856.7617 - val_loss: 3709158400.0000 - val_mae: 41703.1094\n",
      "Epoch 75/5000\n",
      "\u001b[1m327/327\u001b[0m \u001b[32m━━━━━━━━━━━━━━━━━━━━\u001b[0m\u001b[37m\u001b[0m \u001b[1m1s\u001b[0m 4ms/step - loss: 3628281600.0000 - mae: 42163.7539 - val_loss: 3781795328.0000 - val_mae: 43582.8711\n",
      "Epoch 76/5000\n",
      "\u001b[1m327/327\u001b[0m \u001b[32m━━━━━━━━━━━━━━━━━━━━\u001b[0m\u001b[37m\u001b[0m \u001b[1m1s\u001b[0m 5ms/step - loss: 3742632960.0000 - mae: 42682.0352 - val_loss: 3661419264.0000 - val_mae: 41260.6680\n",
      "Epoch 77/5000\n",
      "\u001b[1m327/327\u001b[0m \u001b[32m━━━━━━━━━━━━━━━━━━━━\u001b[0m\u001b[37m\u001b[0m \u001b[1m2s\u001b[0m 5ms/step - loss: 3714377472.0000 - mae: 42400.8242 - val_loss: 3691828480.0000 - val_mae: 42748.8008\n",
      "Epoch 78/5000\n",
      "\u001b[1m327/327\u001b[0m \u001b[32m━━━━━━━━━━━━━━━━━━━━\u001b[0m\u001b[37m\u001b[0m \u001b[1m1s\u001b[0m 5ms/step - loss: 3726686976.0000 - mae: 42237.6484 - val_loss: 3601783808.0000 - val_mae: 41547.7773\n",
      "Epoch 79/5000\n",
      "\u001b[1m327/327\u001b[0m \u001b[32m━━━━━━━━━━━━━━━━━━━━\u001b[0m\u001b[37m\u001b[0m \u001b[1m1s\u001b[0m 4ms/step - loss: 3590217984.0000 - mae: 41456.6641 - val_loss: 3566231552.0000 - val_mae: 41383.9258\n",
      "Epoch 80/5000\n",
      "\u001b[1m327/327\u001b[0m \u001b[32m━━━━━━━━━━━━━━━━━━━━\u001b[0m\u001b[37m\u001b[0m \u001b[1m1s\u001b[0m 4ms/step - loss: 3602532864.0000 - mae: 41512.3867 - val_loss: 4179924224.0000 - val_mae: 46814.1523\n",
      "Epoch 81/5000\n",
      "\u001b[1m327/327\u001b[0m \u001b[32m━━━━━━━━━━━━━━━━━━━━\u001b[0m\u001b[37m\u001b[0m \u001b[1m1s\u001b[0m 4ms/step - loss: 3535115264.0000 - mae: 41400.6172 - val_loss: 3732554240.0000 - val_mae: 42898.0273\n",
      "Epoch 82/5000\n",
      "\u001b[1m327/327\u001b[0m \u001b[32m━━━━━━━━━━━━━━━━━━━━\u001b[0m\u001b[37m\u001b[0m \u001b[1m1s\u001b[0m 4ms/step - loss: 3593328128.0000 - mae: 41570.0781 - val_loss: 3532058368.0000 - val_mae: 40821.0898\n",
      "Epoch 83/5000\n",
      "\u001b[1m327/327\u001b[0m \u001b[32m━━━━━━━━━━━━━━━━━━━━\u001b[0m\u001b[37m\u001b[0m \u001b[1m1s\u001b[0m 4ms/step - loss: 3618394624.0000 - mae: 41608.7812 - val_loss: 3740115200.0000 - val_mae: 43535.3672\n",
      "Epoch 84/5000\n",
      "\u001b[1m327/327\u001b[0m \u001b[32m━━━━━━━━━━━━━━━━━━━━\u001b[0m\u001b[37m\u001b[0m \u001b[1m1s\u001b[0m 4ms/step - loss: 3603307008.0000 - mae: 41460.5273 - val_loss: 3580264192.0000 - val_mae: 40405.9648\n",
      "Epoch 85/5000\n",
      "\u001b[1m327/327\u001b[0m \u001b[32m━━━━━━━━━━━━━━━━━━━━\u001b[0m\u001b[37m\u001b[0m \u001b[1m2s\u001b[0m 5ms/step - loss: 3499482368.0000 - mae: 40513.0820 - val_loss: 3437230336.0000 - val_mae: 39954.2461\n",
      "Epoch 86/5000\n",
      "\u001b[1m327/327\u001b[0m \u001b[32m━━━━━━━━━━━━━━━━━━━━\u001b[0m\u001b[37m\u001b[0m \u001b[1m2s\u001b[0m 5ms/step - loss: 3414505728.0000 - mae: 40662.0078 - val_loss: 3456864256.0000 - val_mae: 40118.7969\n",
      "Epoch 87/5000\n",
      "\u001b[1m327/327\u001b[0m \u001b[32m━━━━━━━━━━━━━━━━━━━━\u001b[0m\u001b[37m\u001b[0m \u001b[1m1s\u001b[0m 5ms/step - loss: 3552825600.0000 - mae: 41089.8594 - val_loss: 3451454976.0000 - val_mae: 41071.5938\n",
      "Epoch 88/5000\n",
      "\u001b[1m327/327\u001b[0m \u001b[32m━━━━━━━━━━━━━━━━━━━━\u001b[0m\u001b[37m\u001b[0m \u001b[1m1s\u001b[0m 5ms/step - loss: 3468073728.0000 - mae: 40470.0781 - val_loss: 3506606592.0000 - val_mae: 41544.0703\n",
      "Epoch 89/5000\n",
      "\u001b[1m327/327\u001b[0m \u001b[32m━━━━━━━━━━━━━━━━━━━━\u001b[0m\u001b[37m\u001b[0m \u001b[1m2s\u001b[0m 5ms/step - loss: 3439973632.0000 - mae: 40600.6758 - val_loss: 3460335616.0000 - val_mae: 41008.4961\n",
      "Epoch 90/5000\n",
      "\u001b[1m327/327\u001b[0m \u001b[32m━━━━━━━━━━━━━━━━━━━━\u001b[0m\u001b[37m\u001b[0m \u001b[1m2s\u001b[0m 5ms/step - loss: 3386236416.0000 - mae: 40184.9844 - val_loss: 3408925440.0000 - val_mae: 40526.0859\n",
      "Epoch 91/5000\n"
     ]
    },
    {
     "name": "stdout",
     "output_type": "stream",
     "text": [
      "\u001b[1m327/327\u001b[0m \u001b[32m━━━━━━━━━━━━━━━━━━━━\u001b[0m\u001b[37m\u001b[0m \u001b[1m1s\u001b[0m 5ms/step - loss: 3448741888.0000 - mae: 40683.8711 - val_loss: 3384096256.0000 - val_mae: 40215.1328\n",
      "Epoch 92/5000\n",
      "\u001b[1m327/327\u001b[0m \u001b[32m━━━━━━━━━━━━━━━━━━━━\u001b[0m\u001b[37m\u001b[0m \u001b[1m1s\u001b[0m 4ms/step - loss: 3353150720.0000 - mae: 40346.1836 - val_loss: 3754527488.0000 - val_mae: 43246.1250\n",
      "Epoch 93/5000\n",
      "\u001b[1m327/327\u001b[0m \u001b[32m━━━━━━━━━━━━━━━━━━━━\u001b[0m\u001b[37m\u001b[0m \u001b[1m1s\u001b[0m 4ms/step - loss: 3518534144.0000 - mae: 40952.2070 - val_loss: 3379114496.0000 - val_mae: 39048.1133\n",
      "Epoch 94/5000\n",
      "\u001b[1m327/327\u001b[0m \u001b[32m━━━━━━━━━━━━━━━━━━━━\u001b[0m\u001b[37m\u001b[0m \u001b[1m1s\u001b[0m 4ms/step - loss: 3401948928.0000 - mae: 40335.1875 - val_loss: 3463399168.0000 - val_mae: 39325.3438\n",
      "Epoch 95/5000\n",
      "\u001b[1m327/327\u001b[0m \u001b[32m━━━━━━━━━━━━━━━━━━━━\u001b[0m\u001b[37m\u001b[0m \u001b[1m2s\u001b[0m 5ms/step - loss: 3325601792.0000 - mae: 39650.4531 - val_loss: 3562246144.0000 - val_mae: 39945.5352\n",
      "Epoch 96/5000\n",
      "\u001b[1m327/327\u001b[0m \u001b[32m━━━━━━━━━━━━━━━━━━━━\u001b[0m\u001b[37m\u001b[0m \u001b[1m1s\u001b[0m 5ms/step - loss: 3240375808.0000 - mae: 39516.1641 - val_loss: 3270554368.0000 - val_mae: 38919.2266\n",
      "Epoch 97/5000\n",
      "\u001b[1m327/327\u001b[0m \u001b[32m━━━━━━━━━━━━━━━━━━━━\u001b[0m\u001b[37m\u001b[0m \u001b[1m1s\u001b[0m 4ms/step - loss: 3304283648.0000 - mae: 39779.8984 - val_loss: 3253662208.0000 - val_mae: 38584.2109\n",
      "Epoch 98/5000\n",
      "\u001b[1m327/327\u001b[0m \u001b[32m━━━━━━━━━━━━━━━━━━━━\u001b[0m\u001b[37m\u001b[0m \u001b[1m1s\u001b[0m 4ms/step - loss: 3247457536.0000 - mae: 39609.4961 - val_loss: 3239238912.0000 - val_mae: 38828.2227\n",
      "Epoch 99/5000\n",
      "\u001b[1m327/327\u001b[0m \u001b[32m━━━━━━━━━━━━━━━━━━━━\u001b[0m\u001b[37m\u001b[0m \u001b[1m1s\u001b[0m 4ms/step - loss: 3404891904.0000 - mae: 40213.2227 - val_loss: 3239484928.0000 - val_mae: 39136.3008\n",
      "Epoch 100/5000\n",
      "\u001b[1m327/327\u001b[0m \u001b[32m━━━━━━━━━━━━━━━━━━━━\u001b[0m\u001b[37m\u001b[0m \u001b[1m1s\u001b[0m 4ms/step - loss: 3368549888.0000 - mae: 39796.6992 - val_loss: 3242703872.0000 - val_mae: 38785.4648\n",
      "Epoch 101/5000\n",
      "\u001b[1m327/327\u001b[0m \u001b[32m━━━━━━━━━━━━━━━━━━━━\u001b[0m\u001b[37m\u001b[0m \u001b[1m1s\u001b[0m 4ms/step - loss: 3258067968.0000 - mae: 39005.9609 - val_loss: 3545601024.0000 - val_mae: 41565.6523\n",
      "Epoch 102/5000\n",
      "\u001b[1m327/327\u001b[0m \u001b[32m━━━━━━━━━━━━━━━━━━━━\u001b[0m\u001b[37m\u001b[0m \u001b[1m1s\u001b[0m 4ms/step - loss: 3377960448.0000 - mae: 40013.7461 - val_loss: 3206119936.0000 - val_mae: 38431.2031\n",
      "Epoch 103/5000\n",
      "\u001b[1m327/327\u001b[0m \u001b[32m━━━━━━━━━━━━━━━━━━━━\u001b[0m\u001b[37m\u001b[0m \u001b[1m1s\u001b[0m 4ms/step - loss: 3299739392.0000 - mae: 39424.5625 - val_loss: 3467834624.0000 - val_mae: 41194.9766\n",
      "Epoch 104/5000\n",
      "\u001b[1m327/327\u001b[0m \u001b[32m━━━━━━━━━━━━━━━━━━━━\u001b[0m\u001b[37m\u001b[0m \u001b[1m1s\u001b[0m 4ms/step - loss: 3334371072.0000 - mae: 39676.6953 - val_loss: 3471504640.0000 - val_mae: 41922.6875\n",
      "Epoch 105/5000\n",
      "\u001b[1m327/327\u001b[0m \u001b[32m━━━━━━━━━━━━━━━━━━━━\u001b[0m\u001b[37m\u001b[0m \u001b[1m1s\u001b[0m 4ms/step - loss: 3294485504.0000 - mae: 39659.0742 - val_loss: 3211267072.0000 - val_mae: 38723.3750\n",
      "Epoch 106/5000\n",
      "\u001b[1m327/327\u001b[0m \u001b[32m━━━━━━━━━━━━━━━━━━━━\u001b[0m\u001b[37m\u001b[0m \u001b[1m1s\u001b[0m 4ms/step - loss: 3264059648.0000 - mae: 39405.9844 - val_loss: 3195094272.0000 - val_mae: 38195.3906\n",
      "Epoch 107/5000\n",
      "\u001b[1m327/327\u001b[0m \u001b[32m━━━━━━━━━━━━━━━━━━━━\u001b[0m\u001b[37m\u001b[0m \u001b[1m1s\u001b[0m 4ms/step - loss: 3294816768.0000 - mae: 39445.4141 - val_loss: 3251406848.0000 - val_mae: 38440.3359\n",
      "Epoch 108/5000\n",
      "\u001b[1m327/327\u001b[0m \u001b[32m━━━━━━━━━━━━━━━━━━━━\u001b[0m\u001b[37m\u001b[0m \u001b[1m1s\u001b[0m 4ms/step - loss: 3240032000.0000 - mae: 39186.9375 - val_loss: 3193752576.0000 - val_mae: 38957.7461\n",
      "Epoch 109/5000\n",
      "\u001b[1m327/327\u001b[0m \u001b[32m━━━━━━━━━━━━━━━━━━━━\u001b[0m\u001b[37m\u001b[0m \u001b[1m1s\u001b[0m 4ms/step - loss: 3328061440.0000 - mae: 39535.6406 - val_loss: 3315899136.0000 - val_mae: 39664.7695\n",
      "Epoch 110/5000\n",
      "\u001b[1m327/327\u001b[0m \u001b[32m━━━━━━━━━━━━━━━━━━━━\u001b[0m\u001b[37m\u001b[0m \u001b[1m1s\u001b[0m 4ms/step - loss: 3244468992.0000 - mae: 39217.5273 - val_loss: 3370649600.0000 - val_mae: 39100.4688\n",
      "Epoch 111/5000\n",
      "\u001b[1m327/327\u001b[0m \u001b[32m━━━━━━━━━━━━━━━━━━━━\u001b[0m\u001b[37m\u001b[0m \u001b[1m1s\u001b[0m 4ms/step - loss: 3207610624.0000 - mae: 39291.0352 - val_loss: 3265017856.0000 - val_mae: 40044.4141\n",
      "Epoch 112/5000\n",
      "\u001b[1m327/327\u001b[0m \u001b[32m━━━━━━━━━━━━━━━━━━━━\u001b[0m\u001b[37m\u001b[0m \u001b[1m1s\u001b[0m 4ms/step - loss: 3148029952.0000 - mae: 38560.0000 - val_loss: 3162871296.0000 - val_mae: 39394.7617\n",
      "Epoch 113/5000\n",
      "\u001b[1m327/327\u001b[0m \u001b[32m━━━━━━━━━━━━━━━━━━━━\u001b[0m\u001b[37m\u001b[0m \u001b[1m1s\u001b[0m 4ms/step - loss: 3272052224.0000 - mae: 39383.9062 - val_loss: 3194296320.0000 - val_mae: 39405.4961\n",
      "Epoch 114/5000\n",
      "\u001b[1m327/327\u001b[0m \u001b[32m━━━━━━━━━━━━━━━━━━━━\u001b[0m\u001b[37m\u001b[0m \u001b[1m1s\u001b[0m 4ms/step - loss: 3231166208.0000 - mae: 39305.2266 - val_loss: 3151604992.0000 - val_mae: 38797.0625\n",
      "Epoch 115/5000\n",
      "\u001b[1m327/327\u001b[0m \u001b[32m━━━━━━━━━━━━━━━━━━━━\u001b[0m\u001b[37m\u001b[0m \u001b[1m1s\u001b[0m 4ms/step - loss: 3207605760.0000 - mae: 39116.2617 - val_loss: 3098258688.0000 - val_mae: 38094.3438\n",
      "Epoch 116/5000\n",
      "\u001b[1m327/327\u001b[0m \u001b[32m━━━━━━━━━━━━━━━━━━━━\u001b[0m\u001b[37m\u001b[0m \u001b[1m1s\u001b[0m 4ms/step - loss: 3140935168.0000 - mae: 38499.3633 - val_loss: 3139817216.0000 - val_mae: 37611.3242\n",
      "Epoch 117/5000\n",
      "\u001b[1m327/327\u001b[0m \u001b[32m━━━━━━━━━━━━━━━━━━━━\u001b[0m\u001b[37m\u001b[0m \u001b[1m1s\u001b[0m 4ms/step - loss: 3140605440.0000 - mae: 38402.4062 - val_loss: 3310311424.0000 - val_mae: 40715.2148\n",
      "Epoch 118/5000\n",
      "\u001b[1m327/327\u001b[0m \u001b[32m━━━━━━━━━━━━━━━━━━━━\u001b[0m\u001b[37m\u001b[0m \u001b[1m1s\u001b[0m 4ms/step - loss: 3202983168.0000 - mae: 38560.4492 - val_loss: 3131100928.0000 - val_mae: 38041.1016\n",
      "Epoch 119/5000\n",
      "\u001b[1m327/327\u001b[0m \u001b[32m━━━━━━━━━━━━━━━━━━━━\u001b[0m\u001b[37m\u001b[0m \u001b[1m1s\u001b[0m 4ms/step - loss: 3250316032.0000 - mae: 39123.0000 - val_loss: 3067410688.0000 - val_mae: 37295.2422\n",
      "Epoch 120/5000\n",
      "\u001b[1m327/327\u001b[0m \u001b[32m━━━━━━━━━━━━━━━━━━━━\u001b[0m\u001b[37m\u001b[0m \u001b[1m1s\u001b[0m 4ms/step - loss: 3192668416.0000 - mae: 38747.5391 - val_loss: 3135408128.0000 - val_mae: 38099.8828\n",
      "Epoch 121/5000\n",
      "\u001b[1m327/327\u001b[0m \u001b[32m━━━━━━━━━━━━━━━━━━━━\u001b[0m\u001b[37m\u001b[0m \u001b[1m1s\u001b[0m 4ms/step - loss: 3225900032.0000 - mae: 38623.0547 - val_loss: 3481123072.0000 - val_mae: 41328.1758\n",
      "Epoch 122/5000\n",
      "\u001b[1m327/327\u001b[0m \u001b[32m━━━━━━━━━━━━━━━━━━━━\u001b[0m\u001b[37m\u001b[0m \u001b[1m1s\u001b[0m 4ms/step - loss: 3174608640.0000 - mae: 38796.0938 - val_loss: 3077716224.0000 - val_mae: 37310.8203\n",
      "Epoch 123/5000\n",
      "\u001b[1m327/327\u001b[0m \u001b[32m━━━━━━━━━━━━━━━━━━━━\u001b[0m\u001b[37m\u001b[0m \u001b[1m1s\u001b[0m 4ms/step - loss: 3014829824.0000 - mae: 37565.3789 - val_loss: 3091832832.0000 - val_mae: 38209.7852\n",
      "Epoch 124/5000\n",
      "\u001b[1m327/327\u001b[0m \u001b[32m━━━━━━━━━━━━━━━━━━━━\u001b[0m\u001b[37m\u001b[0m \u001b[1m1s\u001b[0m 4ms/step - loss: 3122805760.0000 - mae: 38635.6406 - val_loss: 3126547968.0000 - val_mae: 37989.6328\n",
      "Epoch 125/5000\n",
      "\u001b[1m327/327\u001b[0m \u001b[32m━━━━━━━━━━━━━━━━━━━━\u001b[0m\u001b[37m\u001b[0m \u001b[1m1s\u001b[0m 4ms/step - loss: 3231052544.0000 - mae: 38953.9570 - val_loss: 3048208896.0000 - val_mae: 37280.6562\n",
      "Epoch 126/5000\n",
      "\u001b[1m327/327\u001b[0m \u001b[32m━━━━━━━━━━━━━━━━━━━━\u001b[0m\u001b[37m\u001b[0m \u001b[1m1s\u001b[0m 4ms/step - loss: 3065605632.0000 - mae: 37709.5000 - val_loss: 3415898112.0000 - val_mae: 41869.9258\n",
      "Epoch 127/5000\n",
      "\u001b[1m327/327\u001b[0m \u001b[32m━━━━━━━━━━━━━━━━━━━━\u001b[0m\u001b[37m\u001b[0m \u001b[1m1s\u001b[0m 4ms/step - loss: 3131388928.0000 - mae: 38390.7500 - val_loss: 3063046656.0000 - val_mae: 36942.8477\n",
      "Epoch 128/5000\n",
      "\u001b[1m327/327\u001b[0m \u001b[32m━━━━━━━━━━━━━━━━━━━━\u001b[0m\u001b[37m\u001b[0m \u001b[1m1s\u001b[0m 4ms/step - loss: 2958206464.0000 - mae: 37071.5977 - val_loss: 3044448000.0000 - val_mae: 38133.9102\n",
      "Epoch 129/5000\n",
      "\u001b[1m327/327\u001b[0m \u001b[32m━━━━━━━━━━━━━━━━━━━━\u001b[0m\u001b[37m\u001b[0m \u001b[1m1s\u001b[0m 4ms/step - loss: 3117787136.0000 - mae: 38449.6680 - val_loss: 3193428992.0000 - val_mae: 39707.8906\n",
      "Epoch 130/5000\n",
      "\u001b[1m327/327\u001b[0m \u001b[32m━━━━━━━━━━━━━━━━━━━━\u001b[0m\u001b[37m\u001b[0m \u001b[1m1s\u001b[0m 4ms/step - loss: 3142931968.0000 - mae: 38314.1641 - val_loss: 2999182336.0000 - val_mae: 36766.3516\n",
      "Epoch 131/5000\n",
      "\u001b[1m327/327\u001b[0m \u001b[32m━━━━━━━━━━━━━━━━━━━━\u001b[0m\u001b[37m\u001b[0m \u001b[1m1s\u001b[0m 4ms/step - loss: 3081285888.0000 - mae: 38111.9297 - val_loss: 3257825024.0000 - val_mae: 40535.0977\n",
      "Epoch 132/5000\n",
      "\u001b[1m327/327\u001b[0m \u001b[32m━━━━━━━━━━━━━━━━━━━━\u001b[0m\u001b[37m\u001b[0m \u001b[1m1s\u001b[0m 4ms/step - loss: 3132252160.0000 - mae: 38405.4062 - val_loss: 3122810624.0000 - val_mae: 38549.5117\n",
      "Epoch 133/5000\n",
      "\u001b[1m327/327\u001b[0m \u001b[32m━━━━━━━━━━━━━━━━━━━━\u001b[0m\u001b[37m\u001b[0m \u001b[1m1s\u001b[0m 4ms/step - loss: 2948092160.0000 - mae: 37606.5977 - val_loss: 3351509504.0000 - val_mae: 40918.0781\n",
      "Epoch 134/5000\n",
      "\u001b[1m327/327\u001b[0m \u001b[32m━━━━━━━━━━━━━━━━━━━━\u001b[0m\u001b[37m\u001b[0m \u001b[1m1s\u001b[0m 4ms/step - loss: 2999897856.0000 - mae: 37780.5820 - val_loss: 3059409664.0000 - val_mae: 37996.2539\n",
      "Epoch 135/5000\n",
      "\u001b[1m327/327\u001b[0m \u001b[32m━━━━━━━━━━━━━━━━━━━━\u001b[0m\u001b[37m\u001b[0m \u001b[1m1s\u001b[0m 4ms/step - loss: 2996039168.0000 - mae: 37493.1211 - val_loss: 3018574592.0000 - val_mae: 37261.8906\n",
      "Epoch 136/5000\n"
     ]
    },
    {
     "name": "stdout",
     "output_type": "stream",
     "text": [
      "\u001b[1m327/327\u001b[0m \u001b[32m━━━━━━━━━━━━━━━━━━━━\u001b[0m\u001b[37m\u001b[0m \u001b[1m1s\u001b[0m 4ms/step - loss: 3020825600.0000 - mae: 37785.5156 - val_loss: 3020236288.0000 - val_mae: 36749.3086\n",
      "Epoch 137/5000\n",
      "\u001b[1m327/327\u001b[0m \u001b[32m━━━━━━━━━━━━━━━━━━━━\u001b[0m\u001b[37m\u001b[0m \u001b[1m1s\u001b[0m 4ms/step - loss: 3029351168.0000 - mae: 37944.6992 - val_loss: 3307515136.0000 - val_mae: 40020.6836\n",
      "Epoch 138/5000\n",
      "\u001b[1m327/327\u001b[0m \u001b[32m━━━━━━━━━━━━━━━━━━━━\u001b[0m\u001b[37m\u001b[0m \u001b[1m1s\u001b[0m 4ms/step - loss: 3126132992.0000 - mae: 38130.8359 - val_loss: 3061204992.0000 - val_mae: 38119.7422\n",
      "Epoch 139/5000\n",
      "\u001b[1m327/327\u001b[0m \u001b[32m━━━━━━━━━━━━━━━━━━━━\u001b[0m\u001b[37m\u001b[0m \u001b[1m1s\u001b[0m 4ms/step - loss: 3047521280.0000 - mae: 37792.1289 - val_loss: 3077697792.0000 - val_mae: 37922.7578\n",
      "Epoch 140/5000\n",
      "\u001b[1m327/327\u001b[0m \u001b[32m━━━━━━━━━━━━━━━━━━━━\u001b[0m\u001b[37m\u001b[0m \u001b[1m1s\u001b[0m 4ms/step - loss: 3126963712.0000 - mae: 37931.9258 - val_loss: 2994575616.0000 - val_mae: 36598.6328\n",
      "Epoch 141/5000\n",
      "\u001b[1m327/327\u001b[0m \u001b[32m━━━━━━━━━━━━━━━━━━━━\u001b[0m\u001b[37m\u001b[0m \u001b[1m1s\u001b[0m 4ms/step - loss: 2976523520.0000 - mae: 37493.1836 - val_loss: 3124309760.0000 - val_mae: 37123.9727\n",
      "Epoch 142/5000\n",
      "\u001b[1m327/327\u001b[0m \u001b[32m━━━━━━━━━━━━━━━━━━━━\u001b[0m\u001b[37m\u001b[0m \u001b[1m1s\u001b[0m 4ms/step - loss: 2823393280.0000 - mae: 36470.6953 - val_loss: 3105832192.0000 - val_mae: 39352.5703\n",
      "Epoch 143/5000\n",
      "\u001b[1m327/327\u001b[0m \u001b[32m━━━━━━━━━━━━━━━━━━━━\u001b[0m\u001b[37m\u001b[0m \u001b[1m1s\u001b[0m 4ms/step - loss: 3065767424.0000 - mae: 37912.5703 - val_loss: 3176053504.0000 - val_mae: 39547.0117\n",
      "Epoch 144/5000\n",
      "\u001b[1m327/327\u001b[0m \u001b[32m━━━━━━━━━━━━━━━━━━━━\u001b[0m\u001b[37m\u001b[0m \u001b[1m1s\u001b[0m 4ms/step - loss: 3062364928.0000 - mae: 38065.4531 - val_loss: 3041287936.0000 - val_mae: 36590.8867\n",
      "Epoch 145/5000\n",
      "\u001b[1m327/327\u001b[0m \u001b[32m━━━━━━━━━━━━━━━━━━━━\u001b[0m\u001b[37m\u001b[0m \u001b[1m1s\u001b[0m 4ms/step - loss: 3120242176.0000 - mae: 38082.5781 - val_loss: 2943104256.0000 - val_mae: 36301.3633\n",
      "Epoch 146/5000\n",
      "\u001b[1m327/327\u001b[0m \u001b[32m━━━━━━━━━━━━━━━━━━━━\u001b[0m\u001b[37m\u001b[0m \u001b[1m1s\u001b[0m 4ms/step - loss: 2937528064.0000 - mae: 37122.7539 - val_loss: 3221109504.0000 - val_mae: 38028.6445\n",
      "Epoch 147/5000\n",
      "\u001b[1m327/327\u001b[0m \u001b[32m━━━━━━━━━━━━━━━━━━━━\u001b[0m\u001b[37m\u001b[0m \u001b[1m1s\u001b[0m 4ms/step - loss: 2945410048.0000 - mae: 37200.4453 - val_loss: 3221703424.0000 - val_mae: 37808.7695\n",
      "Epoch 148/5000\n",
      "\u001b[1m327/327\u001b[0m \u001b[32m━━━━━━━━━━━━━━━━━━━━\u001b[0m\u001b[37m\u001b[0m \u001b[1m1s\u001b[0m 4ms/step - loss: 2973443840.0000 - mae: 37285.3242 - val_loss: 2923996672.0000 - val_mae: 36595.5430\n",
      "Epoch 149/5000\n",
      "\u001b[1m327/327\u001b[0m \u001b[32m━━━━━━━━━━━━━━━━━━━━\u001b[0m\u001b[37m\u001b[0m \u001b[1m1s\u001b[0m 4ms/step - loss: 2941240064.0000 - mae: 37216.9688 - val_loss: 3956731904.0000 - val_mae: 47912.8750\n",
      "Epoch 150/5000\n",
      "\u001b[1m327/327\u001b[0m \u001b[32m━━━━━━━━━━━━━━━━━━━━\u001b[0m\u001b[37m\u001b[0m \u001b[1m1s\u001b[0m 4ms/step - loss: 2998166784.0000 - mae: 37565.0156 - val_loss: 2980792320.0000 - val_mae: 37098.4531\n",
      "Epoch 151/5000\n",
      "\u001b[1m327/327\u001b[0m \u001b[32m━━━━━━━━━━━━━━━━━━━━\u001b[0m\u001b[37m\u001b[0m \u001b[1m1s\u001b[0m 4ms/step - loss: 2982800128.0000 - mae: 37161.6484 - val_loss: 3065936640.0000 - val_mae: 36943.3359\n",
      "Epoch 152/5000\n",
      "\u001b[1m327/327\u001b[0m \u001b[32m━━━━━━━━━━━━━━━━━━━━\u001b[0m\u001b[37m\u001b[0m \u001b[1m1s\u001b[0m 4ms/step - loss: 3029767680.0000 - mae: 37436.9766 - val_loss: 3576654080.0000 - val_mae: 43724.8867\n",
      "Epoch 153/5000\n",
      "\u001b[1m327/327\u001b[0m \u001b[32m━━━━━━━━━━━━━━━━━━━━\u001b[0m\u001b[37m\u001b[0m \u001b[1m1s\u001b[0m 4ms/step - loss: 2956018688.0000 - mae: 37440.6680 - val_loss: 3039170560.0000 - val_mae: 37390.4492\n",
      "Epoch 154/5000\n",
      "\u001b[1m327/327\u001b[0m \u001b[32m━━━━━━━━━━━━━━━━━━━━\u001b[0m\u001b[37m\u001b[0m \u001b[1m1s\u001b[0m 4ms/step - loss: 2951062272.0000 - mae: 37225.8789 - val_loss: 3123398656.0000 - val_mae: 37637.9570\n",
      "Epoch 155/5000\n",
      "\u001b[1m327/327\u001b[0m \u001b[32m━━━━━━━━━━━━━━━━━━━━\u001b[0m\u001b[37m\u001b[0m \u001b[1m1s\u001b[0m 4ms/step - loss: 3143554048.0000 - mae: 38202.3711 - val_loss: 2973403392.0000 - val_mae: 36250.4023\n",
      "Epoch 156/5000\n",
      "\u001b[1m327/327\u001b[0m \u001b[32m━━━━━━━━━━━━━━━━━━━━\u001b[0m\u001b[37m\u001b[0m \u001b[1m1s\u001b[0m 4ms/step - loss: 2963119104.0000 - mae: 37140.4922 - val_loss: 3068136960.0000 - val_mae: 37183.8438\n",
      "Epoch 157/5000\n",
      "\u001b[1m327/327\u001b[0m \u001b[32m━━━━━━━━━━━━━━━━━━━━\u001b[0m\u001b[37m\u001b[0m \u001b[1m1s\u001b[0m 4ms/step - loss: 3000257536.0000 - mae: 37243.9844 - val_loss: 2922682368.0000 - val_mae: 36733.7109\n",
      "Epoch 158/5000\n",
      "\u001b[1m327/327\u001b[0m \u001b[32m━━━━━━━━━━━━━━━━━━━━\u001b[0m\u001b[37m\u001b[0m \u001b[1m1s\u001b[0m 4ms/step - loss: 2927089408.0000 - mae: 37356.0586 - val_loss: 3525618432.0000 - val_mae: 43781.0625\n",
      "Epoch 159/5000\n",
      "\u001b[1m327/327\u001b[0m \u001b[32m━━━━━━━━━━━━━━━━━━━━\u001b[0m\u001b[37m\u001b[0m \u001b[1m1s\u001b[0m 4ms/step - loss: 2947451648.0000 - mae: 37164.9688 - val_loss: 3157542912.0000 - val_mae: 37303.9844\n",
      "Epoch 160/5000\n",
      "\u001b[1m327/327\u001b[0m \u001b[32m━━━━━━━━━━━━━━━━━━━━\u001b[0m\u001b[37m\u001b[0m \u001b[1m1s\u001b[0m 4ms/step - loss: 2886738176.0000 - mae: 36817.8008 - val_loss: 2877344256.0000 - val_mae: 35846.0586\n",
      "Epoch 161/5000\n",
      "\u001b[1m327/327\u001b[0m \u001b[32m━━━━━━━━━━━━━━━━━━━━\u001b[0m\u001b[37m\u001b[0m \u001b[1m1s\u001b[0m 4ms/step - loss: 2920700672.0000 - mae: 36860.4570 - val_loss: 3283547904.0000 - val_mae: 40708.5664\n",
      "Epoch 162/5000\n",
      "\u001b[1m327/327\u001b[0m \u001b[32m━━━━━━━━━━━━━━━━━━━━\u001b[0m\u001b[37m\u001b[0m \u001b[1m1s\u001b[0m 4ms/step - loss: 2995883264.0000 - mae: 37394.2734 - val_loss: 3282876672.0000 - val_mae: 41453.1719\n",
      "Epoch 163/5000\n",
      "\u001b[1m327/327\u001b[0m \u001b[32m━━━━━━━━━━━━━━━━━━━━\u001b[0m\u001b[37m\u001b[0m \u001b[1m1s\u001b[0m 4ms/step - loss: 2853866240.0000 - mae: 36557.0703 - val_loss: 2951230464.0000 - val_mae: 37103.3086\n",
      "Epoch 164/5000\n",
      "\u001b[1m327/327\u001b[0m \u001b[32m━━━━━━━━━━━━━━━━━━━━\u001b[0m\u001b[37m\u001b[0m \u001b[1m1s\u001b[0m 4ms/step - loss: 2956632832.0000 - mae: 37105.6445 - val_loss: 3076730368.0000 - val_mae: 36829.6406\n",
      "Epoch 165/5000\n",
      "\u001b[1m327/327\u001b[0m \u001b[32m━━━━━━━━━━━━━━━━━━━━\u001b[0m\u001b[37m\u001b[0m \u001b[1m1s\u001b[0m 4ms/step - loss: 2825197056.0000 - mae: 36571.5781 - val_loss: 3543986944.0000 - val_mae: 40494.2070\n",
      "Epoch 166/5000\n",
      "\u001b[1m327/327\u001b[0m \u001b[32m━━━━━━━━━━━━━━━━━━━━\u001b[0m\u001b[37m\u001b[0m \u001b[1m1s\u001b[0m 4ms/step - loss: 2878472448.0000 - mae: 36520.7188 - val_loss: 3115124992.0000 - val_mae: 39844.9805\n",
      "Epoch 167/5000\n",
      "\u001b[1m327/327\u001b[0m \u001b[32m━━━━━━━━━━━━━━━━━━━━\u001b[0m\u001b[37m\u001b[0m \u001b[1m1s\u001b[0m 4ms/step - loss: 2840037632.0000 - mae: 36221.6523 - val_loss: 3181043456.0000 - val_mae: 39420.4375\n",
      "Epoch 168/5000\n",
      "\u001b[1m327/327\u001b[0m \u001b[32m━━━━━━━━━━━━━━━━━━━━\u001b[0m\u001b[37m\u001b[0m \u001b[1m1s\u001b[0m 4ms/step - loss: 2907540992.0000 - mae: 37080.6289 - val_loss: 2941293568.0000 - val_mae: 36171.6250\n",
      "Epoch 169/5000\n",
      "\u001b[1m327/327\u001b[0m \u001b[32m━━━━━━━━━━━━━━━━━━━━\u001b[0m\u001b[37m\u001b[0m \u001b[1m1s\u001b[0m 4ms/step - loss: 2973572608.0000 - mae: 36850.3672 - val_loss: 2823390208.0000 - val_mae: 36005.1953\n",
      "Epoch 170/5000\n",
      "\u001b[1m327/327\u001b[0m \u001b[32m━━━━━━━━━━━━━━━━━━━━\u001b[0m\u001b[37m\u001b[0m \u001b[1m1s\u001b[0m 4ms/step - loss: 2971111680.0000 - mae: 37148.1562 - val_loss: 2841317376.0000 - val_mae: 35634.3672\n",
      "Epoch 171/5000\n",
      "\u001b[1m327/327\u001b[0m \u001b[32m━━━━━━━━━━━━━━━━━━━━\u001b[0m\u001b[37m\u001b[0m \u001b[1m1s\u001b[0m 4ms/step - loss: 2894536960.0000 - mae: 36580.0742 - val_loss: 2926575872.0000 - val_mae: 36094.8984\n",
      "Epoch 172/5000\n",
      "\u001b[1m327/327\u001b[0m \u001b[32m━━━━━━━━━━━━━━━━━━━━\u001b[0m\u001b[37m\u001b[0m \u001b[1m1s\u001b[0m 4ms/step - loss: 2964753152.0000 - mae: 37032.0273 - val_loss: 2837151488.0000 - val_mae: 35532.0586\n",
      "Epoch 173/5000\n",
      "\u001b[1m327/327\u001b[0m \u001b[32m━━━━━━━━━━━━━━━━━━━━\u001b[0m\u001b[37m\u001b[0m \u001b[1m1s\u001b[0m 4ms/step - loss: 2995116032.0000 - mae: 36994.3750 - val_loss: 3067204352.0000 - val_mae: 37949.6133\n",
      "Epoch 174/5000\n",
      "\u001b[1m327/327\u001b[0m \u001b[32m━━━━━━━━━━━━━━━━━━━━\u001b[0m\u001b[37m\u001b[0m \u001b[1m1s\u001b[0m 4ms/step - loss: 2800292096.0000 - mae: 35792.2266 - val_loss: 3265304320.0000 - val_mae: 40130.3828\n",
      "Epoch 175/5000\n",
      "\u001b[1m327/327\u001b[0m \u001b[32m━━━━━━━━━━━━━━━━━━━━\u001b[0m\u001b[37m\u001b[0m \u001b[1m1s\u001b[0m 4ms/step - loss: 2947976704.0000 - mae: 36857.6719 - val_loss: 3023425024.0000 - val_mae: 37797.8984\n",
      "Epoch 176/5000\n",
      "\u001b[1m327/327\u001b[0m \u001b[32m━━━━━━━━━━━━━━━━━━━━\u001b[0m\u001b[37m\u001b[0m \u001b[1m1s\u001b[0m 4ms/step - loss: 2906994688.0000 - mae: 36756.6094 - val_loss: 2945984768.0000 - val_mae: 37651.5664\n",
      "Epoch 177/5000\n",
      "\u001b[1m327/327\u001b[0m \u001b[32m━━━━━━━━━━━━━━━━━━━━\u001b[0m\u001b[37m\u001b[0m \u001b[1m1s\u001b[0m 4ms/step - loss: 2754784768.0000 - mae: 35689.1680 - val_loss: 2838496256.0000 - val_mae: 35806.8633\n",
      "Epoch 178/5000\n",
      "\u001b[1m327/327\u001b[0m \u001b[32m━━━━━━━━━━━━━━━━━━━━\u001b[0m\u001b[37m\u001b[0m \u001b[1m1s\u001b[0m 4ms/step - loss: 2876906752.0000 - mae: 36522.4648 - val_loss: 2892636160.0000 - val_mae: 36195.8594\n",
      "Epoch 179/5000\n",
      "\u001b[1m327/327\u001b[0m \u001b[32m━━━━━━━━━━━━━━━━━━━━\u001b[0m\u001b[37m\u001b[0m \u001b[1m1s\u001b[0m 4ms/step - loss: 2983826176.0000 - mae: 37139.3906 - val_loss: 2791672832.0000 - val_mae: 35506.9180\n",
      "Epoch 180/5000\n",
      "\u001b[1m327/327\u001b[0m \u001b[32m━━━━━━━━━━━━━━━━━━━━\u001b[0m\u001b[37m\u001b[0m \u001b[1m1s\u001b[0m 4ms/step - loss: 2841445376.0000 - mae: 36438.1406 - val_loss: 2806548480.0000 - val_mae: 35181.1484\n",
      "Epoch 181/5000\n"
     ]
    },
    {
     "name": "stdout",
     "output_type": "stream",
     "text": [
      "\u001b[1m327/327\u001b[0m \u001b[32m━━━━━━━━━━━━━━━━━━━━\u001b[0m\u001b[37m\u001b[0m \u001b[1m1s\u001b[0m 4ms/step - loss: 2836149248.0000 - mae: 35973.8828 - val_loss: 2890539520.0000 - val_mae: 35898.7617\n",
      "Epoch 182/5000\n",
      "\u001b[1m327/327\u001b[0m \u001b[32m━━━━━━━━━━━━━━━━━━━━\u001b[0m\u001b[37m\u001b[0m \u001b[1m1s\u001b[0m 4ms/step - loss: 2783193856.0000 - mae: 36107.0234 - val_loss: 2874939904.0000 - val_mae: 36428.6289\n",
      "Epoch 183/5000\n",
      "\u001b[1m327/327\u001b[0m \u001b[32m━━━━━━━━━━━━━━━━━━━━\u001b[0m\u001b[37m\u001b[0m \u001b[1m1s\u001b[0m 4ms/step - loss: 2817771776.0000 - mae: 36169.7227 - val_loss: 3082049792.0000 - val_mae: 36841.7812\n",
      "Epoch 184/5000\n",
      "\u001b[1m327/327\u001b[0m \u001b[32m━━━━━━━━━━━━━━━━━━━━\u001b[0m\u001b[37m\u001b[0m \u001b[1m1s\u001b[0m 4ms/step - loss: 2936570368.0000 - mae: 36867.1406 - val_loss: 2818905344.0000 - val_mae: 35332.6680\n",
      "Epoch 185/5000\n",
      "\u001b[1m327/327\u001b[0m \u001b[32m━━━━━━━━━━━━━━━━━━━━\u001b[0m\u001b[37m\u001b[0m \u001b[1m1s\u001b[0m 4ms/step - loss: 2778538240.0000 - mae: 36120.4180 - val_loss: 3311120640.0000 - val_mae: 41523.4609\n",
      "Epoch 186/5000\n",
      "\u001b[1m327/327\u001b[0m \u001b[32m━━━━━━━━━━━━━━━━━━━━\u001b[0m\u001b[37m\u001b[0m \u001b[1m1s\u001b[0m 4ms/step - loss: 2818590464.0000 - mae: 36097.6250 - val_loss: 2853488128.0000 - val_mae: 36122.5039\n",
      "Epoch 187/5000\n",
      "\u001b[1m327/327\u001b[0m \u001b[32m━━━━━━━━━━━━━━━━━━━━\u001b[0m\u001b[37m\u001b[0m \u001b[1m1s\u001b[0m 4ms/step - loss: 2802533632.0000 - mae: 35824.8359 - val_loss: 3408937472.0000 - val_mae: 41621.1602\n",
      "Epoch 188/5000\n",
      "\u001b[1m327/327\u001b[0m \u001b[32m━━━━━━━━━━━━━━━━━━━━\u001b[0m\u001b[37m\u001b[0m \u001b[1m1s\u001b[0m 4ms/step - loss: 2843781632.0000 - mae: 36032.7852 - val_loss: 2915807744.0000 - val_mae: 36829.9023\n",
      "Epoch 189/5000\n",
      "\u001b[1m327/327\u001b[0m \u001b[32m━━━━━━━━━━━━━━━━━━━━\u001b[0m\u001b[37m\u001b[0m \u001b[1m1s\u001b[0m 4ms/step - loss: 2855623680.0000 - mae: 36286.3008 - val_loss: 2950111744.0000 - val_mae: 37604.3438\n",
      "Epoch 190/5000\n",
      "\u001b[1m327/327\u001b[0m \u001b[32m━━━━━━━━━━━━━━━━━━━━\u001b[0m\u001b[37m\u001b[0m \u001b[1m1s\u001b[0m 4ms/step - loss: 2923383296.0000 - mae: 36733.4258 - val_loss: 2851933184.0000 - val_mae: 36302.3594\n",
      "Epoch 191/5000\n",
      "\u001b[1m327/327\u001b[0m \u001b[32m━━━━━━━━━━━━━━━━━━━━\u001b[0m\u001b[37m\u001b[0m \u001b[1m1s\u001b[0m 4ms/step - loss: 2840550656.0000 - mae: 36341.6328 - val_loss: 2837985792.0000 - val_mae: 35245.0703\n",
      "Epoch 192/5000\n",
      "\u001b[1m327/327\u001b[0m \u001b[32m━━━━━━━━━━━━━━━━━━━━\u001b[0m\u001b[37m\u001b[0m \u001b[1m1s\u001b[0m 4ms/step - loss: 2762434304.0000 - mae: 35642.8711 - val_loss: 2764420352.0000 - val_mae: 35002.3945\n",
      "Epoch 193/5000\n",
      "\u001b[1m327/327\u001b[0m \u001b[32m━━━━━━━━━━━━━━━━━━━━\u001b[0m\u001b[37m\u001b[0m \u001b[1m1s\u001b[0m 4ms/step - loss: 2888996864.0000 - mae: 36293.2695 - val_loss: 2822783488.0000 - val_mae: 35527.5000\n",
      "Epoch 194/5000\n",
      "\u001b[1m327/327\u001b[0m \u001b[32m━━━━━━━━━━━━━━━━━━━━\u001b[0m\u001b[37m\u001b[0m \u001b[1m1s\u001b[0m 4ms/step - loss: 2824178688.0000 - mae: 36371.3828 - val_loss: 2763999232.0000 - val_mae: 35756.6406\n",
      "Epoch 195/5000\n",
      "\u001b[1m327/327\u001b[0m \u001b[32m━━━━━━━━━━━━━━━━━━━━\u001b[0m\u001b[37m\u001b[0m \u001b[1m1s\u001b[0m 4ms/step - loss: 2868556800.0000 - mae: 36454.6289 - val_loss: 3020339968.0000 - val_mae: 38968.3906\n",
      "Epoch 196/5000\n",
      "\u001b[1m327/327\u001b[0m \u001b[32m━━━━━━━━━━━━━━━━━━━━\u001b[0m\u001b[37m\u001b[0m \u001b[1m1s\u001b[0m 4ms/step - loss: 2762009088.0000 - mae: 36106.3359 - val_loss: 2785073408.0000 - val_mae: 36154.0898\n",
      "Epoch 197/5000\n",
      "\u001b[1m327/327\u001b[0m \u001b[32m━━━━━━━━━━━━━━━━━━━━\u001b[0m\u001b[37m\u001b[0m \u001b[1m1s\u001b[0m 4ms/step - loss: 2838626048.0000 - mae: 36508.9648 - val_loss: 2903174912.0000 - val_mae: 37499.9375\n",
      "Epoch 198/5000\n",
      "\u001b[1m327/327\u001b[0m \u001b[32m━━━━━━━━━━━━━━━━━━━━\u001b[0m\u001b[37m\u001b[0m \u001b[1m2s\u001b[0m 5ms/step - loss: 2831277056.0000 - mae: 35947.1484 - val_loss: 2846569216.0000 - val_mae: 36748.9336\n",
      "Epoch 199/5000\n",
      "\u001b[1m327/327\u001b[0m \u001b[32m━━━━━━━━━━━━━━━━━━━━\u001b[0m\u001b[37m\u001b[0m \u001b[1m2s\u001b[0m 5ms/step - loss: 2753352960.0000 - mae: 35734.1641 - val_loss: 3184271872.0000 - val_mae: 37323.3711\n",
      "Epoch 200/5000\n",
      "\u001b[1m327/327\u001b[0m \u001b[32m━━━━━━━━━━━━━━━━━━━━\u001b[0m\u001b[37m\u001b[0m \u001b[1m2s\u001b[0m 5ms/step - loss: 2827058688.0000 - mae: 36123.4336 - val_loss: 2778359296.0000 - val_mae: 35039.5625\n",
      "Epoch 201/5000\n",
      "\u001b[1m327/327\u001b[0m \u001b[32m━━━━━━━━━━━━━━━━━━━━\u001b[0m\u001b[37m\u001b[0m \u001b[1m2s\u001b[0m 5ms/step - loss: 2712679168.0000 - mae: 35641.8438 - val_loss: 2911531008.0000 - val_mae: 35541.0586\n",
      "Epoch 202/5000\n",
      "\u001b[1m327/327\u001b[0m \u001b[32m━━━━━━━━━━━━━━━━━━━━\u001b[0m\u001b[37m\u001b[0m \u001b[1m1s\u001b[0m 4ms/step - loss: 2825592576.0000 - mae: 36014.6953 - val_loss: 2817840384.0000 - val_mae: 36351.6211\n",
      "Epoch 203/5000\n",
      "\u001b[1m327/327\u001b[0m \u001b[32m━━━━━━━━━━━━━━━━━━━━\u001b[0m\u001b[37m\u001b[0m \u001b[1m1s\u001b[0m 4ms/step - loss: 2819666176.0000 - mae: 35751.9492 - val_loss: 3063088128.0000 - val_mae: 38500.0234\n",
      "Epoch 204/5000\n",
      "\u001b[1m327/327\u001b[0m \u001b[32m━━━━━━━━━━━━━━━━━━━━\u001b[0m\u001b[37m\u001b[0m \u001b[1m1s\u001b[0m 4ms/step - loss: 2678405888.0000 - mae: 35543.6328 - val_loss: 3589759488.0000 - val_mae: 40190.0234\n",
      "Epoch 205/5000\n",
      "\u001b[1m327/327\u001b[0m \u001b[32m━━━━━━━━━━━━━━━━━━━━\u001b[0m\u001b[37m\u001b[0m \u001b[1m1s\u001b[0m 4ms/step - loss: 2779052032.0000 - mae: 35778.7617 - val_loss: 2733600000.0000 - val_mae: 35169.9336\n",
      "Epoch 206/5000\n",
      "\u001b[1m327/327\u001b[0m \u001b[32m━━━━━━━━━━━━━━━━━━━━\u001b[0m\u001b[37m\u001b[0m \u001b[1m1s\u001b[0m 4ms/step - loss: 2895339776.0000 - mae: 36495.3125 - val_loss: 2821541632.0000 - val_mae: 35462.4375\n",
      "Epoch 207/5000\n",
      "\u001b[1m327/327\u001b[0m \u001b[32m━━━━━━━━━━━━━━━━━━━━\u001b[0m\u001b[37m\u001b[0m \u001b[1m1s\u001b[0m 4ms/step - loss: 2618121984.0000 - mae: 35044.9023 - val_loss: 2777949184.0000 - val_mae: 34914.8672\n",
      "Epoch 208/5000\n",
      "\u001b[1m327/327\u001b[0m \u001b[32m━━━━━━━━━━━━━━━━━━━━\u001b[0m\u001b[37m\u001b[0m \u001b[1m1s\u001b[0m 4ms/step - loss: 2700870656.0000 - mae: 35572.7383 - val_loss: 2933166592.0000 - val_mae: 36149.3984\n",
      "Epoch 209/5000\n",
      "\u001b[1m327/327\u001b[0m \u001b[32m━━━━━━━━━━━━━━━━━━━━\u001b[0m\u001b[37m\u001b[0m \u001b[1m1s\u001b[0m 4ms/step - loss: 2660611328.0000 - mae: 34872.2422 - val_loss: 2848131328.0000 - val_mae: 36559.8242\n",
      "Epoch 210/5000\n",
      "\u001b[1m327/327\u001b[0m \u001b[32m━━━━━━━━━━━━━━━━━━━━\u001b[0m\u001b[37m\u001b[0m \u001b[1m1s\u001b[0m 4ms/step - loss: 2788461824.0000 - mae: 35906.5742 - val_loss: 2768127232.0000 - val_mae: 34641.5703\n",
      "Epoch 211/5000\n",
      "\u001b[1m327/327\u001b[0m \u001b[32m━━━━━━━━━━━━━━━━━━━━\u001b[0m\u001b[37m\u001b[0m \u001b[1m1s\u001b[0m 4ms/step - loss: 2697511680.0000 - mae: 35115.3516 - val_loss: 2708215040.0000 - val_mae: 34898.3203\n",
      "Epoch 212/5000\n",
      "\u001b[1m327/327\u001b[0m \u001b[32m━━━━━━━━━━━━━━━━━━━━\u001b[0m\u001b[37m\u001b[0m \u001b[1m1s\u001b[0m 4ms/step - loss: 2696145664.0000 - mae: 35545.0352 - val_loss: 3467441920.0000 - val_mae: 42010.2344\n",
      "Epoch 213/5000\n",
      "\u001b[1m327/327\u001b[0m \u001b[32m━━━━━━━━━━━━━━━━━━━━\u001b[0m\u001b[37m\u001b[0m \u001b[1m1s\u001b[0m 4ms/step - loss: 2713811712.0000 - mae: 35518.5312 - val_loss: 3078597120.0000 - val_mae: 36616.1367\n",
      "Epoch 214/5000\n",
      "\u001b[1m327/327\u001b[0m \u001b[32m━━━━━━━━━━━━━━━━━━━━\u001b[0m\u001b[37m\u001b[0m \u001b[1m1s\u001b[0m 4ms/step - loss: 2769625088.0000 - mae: 35835.9102 - val_loss: 2732654080.0000 - val_mae: 35570.4766\n",
      "Epoch 215/5000\n",
      "\u001b[1m327/327\u001b[0m \u001b[32m━━━━━━━━━━━━━━━━━━━━\u001b[0m\u001b[37m\u001b[0m \u001b[1m1s\u001b[0m 4ms/step - loss: 2709621760.0000 - mae: 34944.1641 - val_loss: 2699897344.0000 - val_mae: 35142.9727\n",
      "Epoch 216/5000\n",
      "\u001b[1m327/327\u001b[0m \u001b[32m━━━━━━━━━━━━━━━━━━━━\u001b[0m\u001b[37m\u001b[0m \u001b[1m1s\u001b[0m 4ms/step - loss: 2764549376.0000 - mae: 35610.8789 - val_loss: 2802797568.0000 - val_mae: 34798.8164\n",
      "Epoch 217/5000\n",
      "\u001b[1m327/327\u001b[0m \u001b[32m━━━━━━━━━━━━━━━━━━━━\u001b[0m\u001b[37m\u001b[0m \u001b[1m1s\u001b[0m 4ms/step - loss: 2665888000.0000 - mae: 34987.3398 - val_loss: 2768408832.0000 - val_mae: 36159.4258\n",
      "Epoch 218/5000\n",
      "\u001b[1m327/327\u001b[0m \u001b[32m━━━━━━━━━━━━━━━━━━━━\u001b[0m\u001b[37m\u001b[0m \u001b[1m1s\u001b[0m 4ms/step - loss: 2758788608.0000 - mae: 35629.8438 - val_loss: 2741670912.0000 - val_mae: 35586.5977\n",
      "Epoch 219/5000\n",
      "\u001b[1m327/327\u001b[0m \u001b[32m━━━━━━━━━━━━━━━━━━━━\u001b[0m\u001b[37m\u001b[0m \u001b[1m1s\u001b[0m 4ms/step - loss: 2835219968.0000 - mae: 35789.0117 - val_loss: 2726171136.0000 - val_mae: 35161.2930\n",
      "Epoch 220/5000\n",
      "\u001b[1m327/327\u001b[0m \u001b[32m━━━━━━━━━━━━━━━━━━━━\u001b[0m\u001b[37m\u001b[0m \u001b[1m1s\u001b[0m 4ms/step - loss: 2690921472.0000 - mae: 35229.3594 - val_loss: 2728421632.0000 - val_mae: 34733.2734\n",
      "Epoch 221/5000\n",
      "\u001b[1m327/327\u001b[0m \u001b[32m━━━━━━━━━━━━━━━━━━━━\u001b[0m\u001b[37m\u001b[0m \u001b[1m1s\u001b[0m 4ms/step - loss: 2708257024.0000 - mae: 35196.4688 - val_loss: 3489971456.0000 - val_mae: 42274.6094\n",
      "Epoch 222/5000\n",
      "\u001b[1m327/327\u001b[0m \u001b[32m━━━━━━━━━━━━━━━━━━━━\u001b[0m\u001b[37m\u001b[0m \u001b[1m1s\u001b[0m 4ms/step - loss: 2722682368.0000 - mae: 35437.8164 - val_loss: 2794586624.0000 - val_mae: 34864.7930\n",
      "Epoch 223/5000\n",
      "\u001b[1m327/327\u001b[0m \u001b[32m━━━━━━━━━━━━━━━━━━━━\u001b[0m\u001b[37m\u001b[0m \u001b[1m1s\u001b[0m 4ms/step - loss: 2716274432.0000 - mae: 35493.8008 - val_loss: 2842228224.0000 - val_mae: 34990.4219\n",
      "Epoch 224/5000\n",
      "\u001b[1m327/327\u001b[0m \u001b[32m━━━━━━━━━━━━━━━━━━━━\u001b[0m\u001b[37m\u001b[0m \u001b[1m1s\u001b[0m 4ms/step - loss: 2643709696.0000 - mae: 35085.0273 - val_loss: 2728383744.0000 - val_mae: 35742.9648\n",
      "Epoch 225/5000\n",
      "\u001b[1m327/327\u001b[0m \u001b[32m━━━━━━━━━━━━━━━━━━━━\u001b[0m\u001b[37m\u001b[0m \u001b[1m1s\u001b[0m 4ms/step - loss: 2795784192.0000 - mae: 35556.8906 - val_loss: 2699063040.0000 - val_mae: 34251.0039\n",
      "Epoch 226/5000\n"
     ]
    },
    {
     "name": "stdout",
     "output_type": "stream",
     "text": [
      "\u001b[1m327/327\u001b[0m \u001b[32m━━━━━━━━━━━━━━━━━━━━\u001b[0m\u001b[37m\u001b[0m \u001b[1m1s\u001b[0m 4ms/step - loss: 2706005760.0000 - mae: 35036.6797 - val_loss: 2746008576.0000 - val_mae: 34792.3828\n",
      "Epoch 227/5000\n",
      "\u001b[1m327/327\u001b[0m \u001b[32m━━━━━━━━━━━━━━━━━━━━\u001b[0m\u001b[37m\u001b[0m \u001b[1m1s\u001b[0m 4ms/step - loss: 2655136768.0000 - mae: 34989.1719 - val_loss: 2891763712.0000 - val_mae: 37040.3906\n",
      "Epoch 228/5000\n",
      "\u001b[1m327/327\u001b[0m \u001b[32m━━━━━━━━━━━━━━━━━━━━\u001b[0m\u001b[37m\u001b[0m \u001b[1m1s\u001b[0m 4ms/step - loss: 2709169408.0000 - mae: 35645.8047 - val_loss: 2763038464.0000 - val_mae: 34819.8359\n",
      "Epoch 229/5000\n",
      "\u001b[1m327/327\u001b[0m \u001b[32m━━━━━━━━━━━━━━━━━━━━\u001b[0m\u001b[37m\u001b[0m \u001b[1m1s\u001b[0m 4ms/step - loss: 2812516864.0000 - mae: 35687.6641 - val_loss: 2929611520.0000 - val_mae: 35694.8398\n",
      "Epoch 230/5000\n",
      "\u001b[1m327/327\u001b[0m \u001b[32m━━━━━━━━━━━━━━━━━━━━\u001b[0m\u001b[37m\u001b[0m \u001b[1m1s\u001b[0m 4ms/step - loss: 2714759424.0000 - mae: 35248.9453 - val_loss: 2797949696.0000 - val_mae: 35104.4375\n",
      "Epoch 231/5000\n",
      "\u001b[1m327/327\u001b[0m \u001b[32m━━━━━━━━━━━━━━━━━━━━\u001b[0m\u001b[37m\u001b[0m \u001b[1m1s\u001b[0m 4ms/step - loss: 2643447040.0000 - mae: 34964.1953 - val_loss: 2729349888.0000 - val_mae: 34568.4102\n",
      "Epoch 232/5000\n",
      "\u001b[1m327/327\u001b[0m \u001b[32m━━━━━━━━━━━━━━━━━━━━\u001b[0m\u001b[37m\u001b[0m \u001b[1m1s\u001b[0m 4ms/step - loss: 2717616640.0000 - mae: 35340.5391 - val_loss: 2734820352.0000 - val_mae: 35790.0469\n",
      "Epoch 233/5000\n",
      "\u001b[1m327/327\u001b[0m \u001b[32m━━━━━━━━━━━━━━━━━━━━\u001b[0m\u001b[37m\u001b[0m \u001b[1m1s\u001b[0m 4ms/step - loss: 2656332032.0000 - mae: 35171.9766 - val_loss: 2827163392.0000 - val_mae: 34969.1562\n",
      "Epoch 234/5000\n",
      "\u001b[1m327/327\u001b[0m \u001b[32m━━━━━━━━━━━━━━━━━━━━\u001b[0m\u001b[37m\u001b[0m \u001b[1m1s\u001b[0m 4ms/step - loss: 2690193408.0000 - mae: 35178.9766 - val_loss: 2788699392.0000 - val_mae: 36049.1406\n",
      "Epoch 235/5000\n",
      "\u001b[1m327/327\u001b[0m \u001b[32m━━━━━━━━━━━━━━━━━━━━\u001b[0m\u001b[37m\u001b[0m \u001b[1m1s\u001b[0m 4ms/step - loss: 2610659840.0000 - mae: 34689.8945 - val_loss: 2723539200.0000 - val_mae: 34675.2109\n",
      "Epoch 236/5000\n",
      "\u001b[1m327/327\u001b[0m \u001b[32m━━━━━━━━━━━━━━━━━━━━\u001b[0m\u001b[37m\u001b[0m \u001b[1m1s\u001b[0m 4ms/step - loss: 2744690688.0000 - mae: 35443.4297 - val_loss: 2887445504.0000 - val_mae: 37424.3945\n",
      "Epoch 237/5000\n",
      "\u001b[1m327/327\u001b[0m \u001b[32m━━━━━━━━━━━━━━━━━━━━\u001b[0m\u001b[37m\u001b[0m \u001b[1m1s\u001b[0m 4ms/step - loss: 2650978048.0000 - mae: 35152.6914 - val_loss: 2781675008.0000 - val_mae: 34666.0664\n",
      "Epoch 238/5000\n",
      "\u001b[1m327/327\u001b[0m \u001b[32m━━━━━━━━━━━━━━━━━━━━\u001b[0m\u001b[37m\u001b[0m \u001b[1m1s\u001b[0m 4ms/step - loss: 2706146048.0000 - mae: 35429.3945 - val_loss: 2787921920.0000 - val_mae: 34501.0039\n",
      "Epoch 239/5000\n",
      "\u001b[1m327/327\u001b[0m \u001b[32m━━━━━━━━━━━━━━━━━━━━\u001b[0m\u001b[37m\u001b[0m \u001b[1m1s\u001b[0m 4ms/step - loss: 2609545728.0000 - mae: 34692.2461 - val_loss: 3081865472.0000 - val_mae: 38994.9531\n",
      "Epoch 240/5000\n",
      "\u001b[1m327/327\u001b[0m \u001b[32m━━━━━━━━━━━━━━━━━━━━\u001b[0m\u001b[37m\u001b[0m \u001b[1m1s\u001b[0m 4ms/step - loss: 2664615936.0000 - mae: 35044.4258 - val_loss: 2677234688.0000 - val_mae: 34300.9727\n",
      "Epoch 241/5000\n",
      "\u001b[1m327/327\u001b[0m \u001b[32m━━━━━━━━━━━━━━━━━━━━\u001b[0m\u001b[37m\u001b[0m \u001b[1m1s\u001b[0m 4ms/step - loss: 2717299456.0000 - mae: 35042.3125 - val_loss: 2713109760.0000 - val_mae: 35733.6680\n",
      "Epoch 242/5000\n",
      "\u001b[1m327/327\u001b[0m \u001b[32m━━━━━━━━━━━━━━━━━━━━\u001b[0m\u001b[37m\u001b[0m \u001b[1m1s\u001b[0m 4ms/step - loss: 2721504768.0000 - mae: 35312.1484 - val_loss: 2663862528.0000 - val_mae: 34295.6016\n",
      "Epoch 243/5000\n",
      "\u001b[1m327/327\u001b[0m \u001b[32m━━━━━━━━━━━━━━━━━━━━\u001b[0m\u001b[37m\u001b[0m \u001b[1m1s\u001b[0m 4ms/step - loss: 2568655616.0000 - mae: 34483.6680 - val_loss: 2765764096.0000 - val_mae: 35769.7539\n",
      "Epoch 244/5000\n",
      "\u001b[1m327/327\u001b[0m \u001b[32m━━━━━━━━━━━━━━━━━━━━\u001b[0m\u001b[37m\u001b[0m \u001b[1m1s\u001b[0m 4ms/step - loss: 2598735872.0000 - mae: 34207.5391 - val_loss: 2723823616.0000 - val_mae: 35615.4062\n",
      "Epoch 245/5000\n",
      "\u001b[1m327/327\u001b[0m \u001b[32m━━━━━━━━━━━━━━━━━━━━\u001b[0m\u001b[37m\u001b[0m \u001b[1m1s\u001b[0m 4ms/step - loss: 2531258624.0000 - mae: 34048.8086 - val_loss: 2770319360.0000 - val_mae: 35833.2266\n",
      "Epoch 246/5000\n",
      "\u001b[1m327/327\u001b[0m \u001b[32m━━━━━━━━━━━━━━━━━━━━\u001b[0m\u001b[37m\u001b[0m \u001b[1m1s\u001b[0m 4ms/step - loss: 2703864064.0000 - mae: 35571.7305 - val_loss: 2820888832.0000 - val_mae: 35704.2852\n",
      "Epoch 247/5000\n",
      "\u001b[1m327/327\u001b[0m \u001b[32m━━━━━━━━━━━━━━━━━━━━\u001b[0m\u001b[37m\u001b[0m \u001b[1m1s\u001b[0m 4ms/step - loss: 2620826112.0000 - mae: 34890.6406 - val_loss: 2654928384.0000 - val_mae: 33944.3281\n",
      "Epoch 248/5000\n",
      "\u001b[1m327/327\u001b[0m \u001b[32m━━━━━━━━━━━━━━━━━━━━\u001b[0m\u001b[37m\u001b[0m \u001b[1m1s\u001b[0m 4ms/step - loss: 2530299392.0000 - mae: 34268.7422 - val_loss: 2700304896.0000 - val_mae: 34213.1016\n",
      "Epoch 249/5000\n",
      "\u001b[1m327/327\u001b[0m \u001b[32m━━━━━━━━━━━━━━━━━━━━\u001b[0m\u001b[37m\u001b[0m \u001b[1m1s\u001b[0m 4ms/step - loss: 2673248512.0000 - mae: 34783.0195 - val_loss: 2647830016.0000 - val_mae: 34787.8828\n",
      "Epoch 250/5000\n",
      "\u001b[1m327/327\u001b[0m \u001b[32m━━━━━━━━━━━━━━━━━━━━\u001b[0m\u001b[37m\u001b[0m \u001b[1m1s\u001b[0m 4ms/step - loss: 2647664640.0000 - mae: 35012.8008 - val_loss: 2837153792.0000 - val_mae: 36833.0352\n",
      "Epoch 251/5000\n",
      "\u001b[1m327/327\u001b[0m \u001b[32m━━━━━━━━━━━━━━━━━━━━\u001b[0m\u001b[37m\u001b[0m \u001b[1m1s\u001b[0m 4ms/step - loss: 2614023424.0000 - mae: 34489.0117 - val_loss: 2693432064.0000 - val_mae: 36069.1445\n",
      "Epoch 252/5000\n",
      "\u001b[1m327/327\u001b[0m \u001b[32m━━━━━━━━━━━━━━━━━━━━\u001b[0m\u001b[37m\u001b[0m \u001b[1m1s\u001b[0m 4ms/step - loss: 2704029440.0000 - mae: 34915.1797 - val_loss: 2697007360.0000 - val_mae: 34682.0195\n",
      "Epoch 253/5000\n",
      "\u001b[1m327/327\u001b[0m \u001b[32m━━━━━━━━━━━━━━━━━━━━\u001b[0m\u001b[37m\u001b[0m \u001b[1m1s\u001b[0m 4ms/step - loss: 2668540160.0000 - mae: 34998.6133 - val_loss: 2656041472.0000 - val_mae: 34035.8711\n",
      "Epoch 254/5000\n",
      "\u001b[1m327/327\u001b[0m \u001b[32m━━━━━━━━━━━━━━━━━━━━\u001b[0m\u001b[37m\u001b[0m \u001b[1m1s\u001b[0m 4ms/step - loss: 2673321984.0000 - mae: 34747.4922 - val_loss: 2720755712.0000 - val_mae: 34229.1484\n",
      "Epoch 255/5000\n",
      "\u001b[1m327/327\u001b[0m \u001b[32m━━━━━━━━━━━━━━━━━━━━\u001b[0m\u001b[37m\u001b[0m \u001b[1m1s\u001b[0m 4ms/step - loss: 2581092864.0000 - mae: 34460.3672 - val_loss: 2654891008.0000 - val_mae: 34268.9961\n",
      "Epoch 256/5000\n",
      "\u001b[1m327/327\u001b[0m \u001b[32m━━━━━━━━━━━━━━━━━━━━\u001b[0m\u001b[37m\u001b[0m \u001b[1m1s\u001b[0m 4ms/step - loss: 2562544896.0000 - mae: 34353.3242 - val_loss: 2709519104.0000 - val_mae: 34653.7891\n",
      "Epoch 257/5000\n",
      "\u001b[1m327/327\u001b[0m \u001b[32m━━━━━━━━━━━━━━━━━━━━\u001b[0m\u001b[37m\u001b[0m \u001b[1m1s\u001b[0m 4ms/step - loss: 2554434048.0000 - mae: 34379.6406 - val_loss: 2714354176.0000 - val_mae: 34178.0508\n",
      "Epoch 258/5000\n",
      "\u001b[1m327/327\u001b[0m \u001b[32m━━━━━━━━━━━━━━━━━━━━\u001b[0m\u001b[37m\u001b[0m \u001b[1m1s\u001b[0m 4ms/step - loss: 2633006336.0000 - mae: 34717.9727 - val_loss: 2926682624.0000 - val_mae: 38408.6719\n",
      "Epoch 259/5000\n",
      "\u001b[1m327/327\u001b[0m \u001b[32m━━━━━━━━━━━━━━━━━━━━\u001b[0m\u001b[37m\u001b[0m \u001b[1m1s\u001b[0m 4ms/step - loss: 2644917248.0000 - mae: 34963.2461 - val_loss: 2694928640.0000 - val_mae: 34199.4336\n",
      "Epoch 260/5000\n",
      "\u001b[1m327/327\u001b[0m \u001b[32m━━━━━━━━━━━━━━━━━━━━\u001b[0m\u001b[37m\u001b[0m \u001b[1m1s\u001b[0m 4ms/step - loss: 2654751744.0000 - mae: 35011.3008 - val_loss: 2848353536.0000 - val_mae: 35116.9297\n",
      "Epoch 261/5000\n",
      "\u001b[1m327/327\u001b[0m \u001b[32m━━━━━━━━━━━━━━━━━━━━\u001b[0m\u001b[37m\u001b[0m \u001b[1m1s\u001b[0m 4ms/step - loss: 2693930496.0000 - mae: 35024.1406 - val_loss: 2716407552.0000 - val_mae: 34313.7852\n",
      "Epoch 262/5000\n",
      "\u001b[1m327/327\u001b[0m \u001b[32m━━━━━━━━━━━━━━━━━━━━\u001b[0m\u001b[37m\u001b[0m \u001b[1m1s\u001b[0m 4ms/step - loss: 2585800192.0000 - mae: 34403.4297 - val_loss: 2742636032.0000 - val_mae: 34715.8984\n",
      "Epoch 263/5000\n",
      "\u001b[1m327/327\u001b[0m \u001b[32m━━━━━━━━━━━━━━━━━━━━\u001b[0m\u001b[37m\u001b[0m \u001b[1m1s\u001b[0m 4ms/step - loss: 2625446144.0000 - mae: 34743.1445 - val_loss: 2730068992.0000 - val_mae: 34747.9688\n",
      "Epoch 264/5000\n",
      "\u001b[1m327/327\u001b[0m \u001b[32m━━━━━━━━━━━━━━━━━━━━\u001b[0m\u001b[37m\u001b[0m \u001b[1m1s\u001b[0m 4ms/step - loss: 2586988544.0000 - mae: 34585.4453 - val_loss: 2779222272.0000 - val_mae: 36048.2109\n",
      "Epoch 265/5000\n",
      "\u001b[1m327/327\u001b[0m \u001b[32m━━━━━━━━━━━━━━━━━━━━\u001b[0m\u001b[37m\u001b[0m \u001b[1m1s\u001b[0m 4ms/step - loss: 2690390016.0000 - mae: 35265.7930 - val_loss: 2769771264.0000 - val_mae: 35554.8867\n",
      "Epoch 266/5000\n",
      "\u001b[1m327/327\u001b[0m \u001b[32m━━━━━━━━━━━━━━━━━━━━\u001b[0m\u001b[37m\u001b[0m \u001b[1m1s\u001b[0m 4ms/step - loss: 2642624256.0000 - mae: 34874.4102 - val_loss: 2637630464.0000 - val_mae: 34197.8398\n",
      "Epoch 267/5000\n",
      "\u001b[1m327/327\u001b[0m \u001b[32m━━━━━━━━━━━━━━━━━━━━\u001b[0m\u001b[37m\u001b[0m \u001b[1m1s\u001b[0m 4ms/step - loss: 2664844288.0000 - mae: 34824.0039 - val_loss: 2633034752.0000 - val_mae: 33987.1211\n",
      "Epoch 268/5000\n",
      "\u001b[1m327/327\u001b[0m \u001b[32m━━━━━━━━━━━━━━━━━━━━\u001b[0m\u001b[37m\u001b[0m \u001b[1m1s\u001b[0m 4ms/step - loss: 2651849216.0000 - mae: 34787.8438 - val_loss: 2645340160.0000 - val_mae: 34703.5469\n",
      "Epoch 269/5000\n",
      "\u001b[1m327/327\u001b[0m \u001b[32m━━━━━━━━━━━━━━━━━━━━\u001b[0m\u001b[37m\u001b[0m \u001b[1m1s\u001b[0m 4ms/step - loss: 2530845952.0000 - mae: 34003.5742 - val_loss: 2914294528.0000 - val_mae: 37166.9219\n",
      "Epoch 270/5000\n",
      "\u001b[1m327/327\u001b[0m \u001b[32m━━━━━━━━━━━━━━━━━━━━\u001b[0m\u001b[37m\u001b[0m \u001b[1m1s\u001b[0m 4ms/step - loss: 2698343168.0000 - mae: 34959.0703 - val_loss: 2800450048.0000 - val_mae: 34691.0039\n",
      "Epoch 271/5000\n"
     ]
    },
    {
     "name": "stdout",
     "output_type": "stream",
     "text": [
      "\u001b[1m327/327\u001b[0m \u001b[32m━━━━━━━━━━━━━━━━━━━━\u001b[0m\u001b[37m\u001b[0m \u001b[1m1s\u001b[0m 4ms/step - loss: 2660221184.0000 - mae: 34765.3633 - val_loss: 2605555712.0000 - val_mae: 34602.3125\n",
      "Epoch 272/5000\n",
      "\u001b[1m327/327\u001b[0m \u001b[32m━━━━━━━━━━━━━━━━━━━━\u001b[0m\u001b[37m\u001b[0m \u001b[1m1s\u001b[0m 4ms/step - loss: 2607181312.0000 - mae: 34424.6289 - val_loss: 2660809472.0000 - val_mae: 34505.5938\n",
      "Epoch 273/5000\n",
      "\u001b[1m327/327\u001b[0m \u001b[32m━━━━━━━━━━━━━━━━━━━━\u001b[0m\u001b[37m\u001b[0m \u001b[1m1s\u001b[0m 4ms/step - loss: 2593894912.0000 - mae: 34415.6523 - val_loss: 2630236928.0000 - val_mae: 34355.7617\n",
      "Epoch 274/5000\n",
      "\u001b[1m327/327\u001b[0m \u001b[32m━━━━━━━━━━━━━━━━━━━━\u001b[0m\u001b[37m\u001b[0m \u001b[1m1s\u001b[0m 4ms/step - loss: 2522081536.0000 - mae: 34092.7773 - val_loss: 2689225216.0000 - val_mae: 34185.7930\n",
      "Epoch 275/5000\n",
      "\u001b[1m327/327\u001b[0m \u001b[32m━━━━━━━━━━━━━━━━━━━━\u001b[0m\u001b[37m\u001b[0m \u001b[1m1s\u001b[0m 4ms/step - loss: 2572820480.0000 - mae: 34543.9102 - val_loss: 2799248128.0000 - val_mae: 36467.7812\n",
      "Epoch 276/5000\n",
      "\u001b[1m327/327\u001b[0m \u001b[32m━━━━━━━━━━━━━━━━━━━━\u001b[0m\u001b[37m\u001b[0m \u001b[1m1s\u001b[0m 4ms/step - loss: 2544739072.0000 - mae: 34325.8203 - val_loss: 2693320960.0000 - val_mae: 34292.5977\n",
      "Epoch 277/5000\n",
      "\u001b[1m327/327\u001b[0m \u001b[32m━━━━━━━━━━━━━━━━━━━━\u001b[0m\u001b[37m\u001b[0m \u001b[1m1s\u001b[0m 4ms/step - loss: 2568354816.0000 - mae: 34115.1328 - val_loss: 2766694656.0000 - val_mae: 34631.0039\n",
      "Epoch 278/5000\n",
      "\u001b[1m327/327\u001b[0m \u001b[32m━━━━━━━━━━━━━━━━━━━━\u001b[0m\u001b[37m\u001b[0m \u001b[1m1s\u001b[0m 4ms/step - loss: 2520491520.0000 - mae: 33903.3086 - val_loss: 2718787584.0000 - val_mae: 36079.6016\n",
      "Epoch 279/5000\n",
      "\u001b[1m327/327\u001b[0m \u001b[32m━━━━━━━━━━━━━━━━━━━━\u001b[0m\u001b[37m\u001b[0m \u001b[1m1s\u001b[0m 4ms/step - loss: 2531183360.0000 - mae: 34178.9375 - val_loss: 2613243136.0000 - val_mae: 33597.8438\n",
      "Epoch 280/5000\n",
      "\u001b[1m327/327\u001b[0m \u001b[32m━━━━━━━━━━━━━━━━━━━━\u001b[0m\u001b[37m\u001b[0m \u001b[1m1s\u001b[0m 4ms/step - loss: 2588654848.0000 - mae: 34470.8672 - val_loss: 2675557120.0000 - val_mae: 34805.6445\n",
      "Epoch 281/5000\n",
      "\u001b[1m327/327\u001b[0m \u001b[32m━━━━━━━━━━━━━━━━━━━━\u001b[0m\u001b[37m\u001b[0m \u001b[1m1s\u001b[0m 4ms/step - loss: 2616788224.0000 - mae: 34580.8945 - val_loss: 3036866816.0000 - val_mae: 38855.8828\n",
      "Epoch 282/5000\n",
      "\u001b[1m327/327\u001b[0m \u001b[32m━━━━━━━━━━━━━━━━━━━━\u001b[0m\u001b[37m\u001b[0m \u001b[1m1s\u001b[0m 4ms/step - loss: 2629437440.0000 - mae: 34574.8008 - val_loss: 2659748864.0000 - val_mae: 34896.2500\n",
      "Epoch 283/5000\n",
      "\u001b[1m327/327\u001b[0m \u001b[32m━━━━━━━━━━━━━━━━━━━━\u001b[0m\u001b[37m\u001b[0m \u001b[1m1s\u001b[0m 4ms/step - loss: 2491039232.0000 - mae: 34252.6328 - val_loss: 3017358848.0000 - val_mae: 39779.3086\n",
      "Epoch 284/5000\n",
      "\u001b[1m327/327\u001b[0m \u001b[32m━━━━━━━━━━━━━━━━━━━━\u001b[0m\u001b[37m\u001b[0m \u001b[1m1s\u001b[0m 4ms/step - loss: 2585717504.0000 - mae: 34364.3242 - val_loss: 2770966016.0000 - val_mae: 35152.7305\n",
      "Epoch 285/5000\n",
      "\u001b[1m327/327\u001b[0m \u001b[32m━━━━━━━━━━━━━━━━━━━━\u001b[0m\u001b[37m\u001b[0m \u001b[1m1s\u001b[0m 4ms/step - loss: 2526291712.0000 - mae: 34088.3047 - val_loss: 2627849472.0000 - val_mae: 34088.1836\n",
      "Epoch 286/5000\n",
      "\u001b[1m327/327\u001b[0m \u001b[32m━━━━━━━━━━━━━━━━━━━━\u001b[0m\u001b[37m\u001b[0m \u001b[1m1s\u001b[0m 4ms/step - loss: 2613149696.0000 - mae: 34571.0039 - val_loss: 2966472960.0000 - val_mae: 35735.2500\n",
      "Epoch 287/5000\n",
      "\u001b[1m327/327\u001b[0m \u001b[32m━━━━━━━━━━━━━━━━━━━━\u001b[0m\u001b[37m\u001b[0m \u001b[1m1s\u001b[0m 4ms/step - loss: 2682334208.0000 - mae: 34957.7773 - val_loss: 2697427456.0000 - val_mae: 34063.8555\n",
      "Epoch 288/5000\n",
      "\u001b[1m327/327\u001b[0m \u001b[32m━━━━━━━━━━━━━━━━━━━━\u001b[0m\u001b[37m\u001b[0m \u001b[1m1s\u001b[0m 4ms/step - loss: 2526523904.0000 - mae: 33907.7148 - val_loss: 2649168128.0000 - val_mae: 34189.5156\n",
      "Epoch 289/5000\n",
      "\u001b[1m327/327\u001b[0m \u001b[32m━━━━━━━━━━━━━━━━━━━━\u001b[0m\u001b[37m\u001b[0m \u001b[1m1s\u001b[0m 4ms/step - loss: 2625916416.0000 - mae: 34503.7812 - val_loss: 2584515328.0000 - val_mae: 33614.1133\n",
      "Epoch 290/5000\n",
      "\u001b[1m327/327\u001b[0m \u001b[32m━━━━━━━━━━━━━━━━━━━━\u001b[0m\u001b[37m\u001b[0m \u001b[1m1s\u001b[0m 4ms/step - loss: 2536090112.0000 - mae: 34196.7070 - val_loss: 2869016832.0000 - val_mae: 35354.6133\n",
      "Epoch 291/5000\n",
      "\u001b[1m327/327\u001b[0m \u001b[32m━━━━━━━━━━━━━━━━━━━━\u001b[0m\u001b[37m\u001b[0m \u001b[1m1s\u001b[0m 4ms/step - loss: 2547264512.0000 - mae: 34361.5586 - val_loss: 2621318656.0000 - val_mae: 33700.7656\n",
      "Epoch 292/5000\n",
      "\u001b[1m327/327\u001b[0m \u001b[32m━━━━━━━━━━━━━━━━━━━━\u001b[0m\u001b[37m\u001b[0m \u001b[1m1s\u001b[0m 4ms/step - loss: 2565730304.0000 - mae: 34294.1094 - val_loss: 2608580608.0000 - val_mae: 33579.5039\n",
      "Epoch 293/5000\n",
      "\u001b[1m327/327\u001b[0m \u001b[32m━━━━━━━━━━━━━━━━━━━━\u001b[0m\u001b[37m\u001b[0m \u001b[1m1s\u001b[0m 4ms/step - loss: 2525915904.0000 - mae: 33975.3164 - val_loss: 2721980416.0000 - val_mae: 34941.5078\n",
      "Epoch 294/5000\n",
      "\u001b[1m327/327\u001b[0m \u001b[32m━━━━━━━━━━━━━━━━━━━━\u001b[0m\u001b[37m\u001b[0m \u001b[1m1s\u001b[0m 4ms/step - loss: 2638957824.0000 - mae: 34449.7070 - val_loss: 2607360256.0000 - val_mae: 34095.3281\n",
      "Epoch 295/5000\n",
      "\u001b[1m327/327\u001b[0m \u001b[32m━━━━━━━━━━━━━━━━━━━━\u001b[0m\u001b[37m\u001b[0m \u001b[1m1s\u001b[0m 4ms/step - loss: 2472516864.0000 - mae: 33925.9297 - val_loss: 2610454784.0000 - val_mae: 33576.3125\n",
      "Epoch 296/5000\n",
      "\u001b[1m327/327\u001b[0m \u001b[32m━━━━━━━━━━━━━━━━━━━━\u001b[0m\u001b[37m\u001b[0m \u001b[1m1s\u001b[0m 4ms/step - loss: 2612843008.0000 - mae: 34331.4492 - val_loss: 2695739648.0000 - val_mae: 34287.1758\n",
      "Epoch 297/5000\n",
      "\u001b[1m327/327\u001b[0m \u001b[32m━━━━━━━━━━━━━━━━━━━━\u001b[0m\u001b[37m\u001b[0m \u001b[1m1s\u001b[0m 4ms/step - loss: 2562091776.0000 - mae: 34329.8516 - val_loss: 3253025536.0000 - val_mae: 40412.6875\n",
      "Epoch 298/5000\n",
      "\u001b[1m327/327\u001b[0m \u001b[32m━━━━━━━━━━━━━━━━━━━━\u001b[0m\u001b[37m\u001b[0m \u001b[1m1s\u001b[0m 4ms/step - loss: 2565122304.0000 - mae: 34333.5977 - val_loss: 2658822144.0000 - val_mae: 33861.3945\n",
      "Epoch 299/5000\n",
      "\u001b[1m327/327\u001b[0m \u001b[32m━━━━━━━━━━━━━━━━━━━━\u001b[0m\u001b[37m\u001b[0m \u001b[1m1s\u001b[0m 4ms/step - loss: 2561687296.0000 - mae: 34433.5234 - val_loss: 2657657344.0000 - val_mae: 33996.6445\n",
      "Epoch 300/5000\n",
      "\u001b[1m327/327\u001b[0m \u001b[32m━━━━━━━━━━━━━━━━━━━━\u001b[0m\u001b[37m\u001b[0m \u001b[1m1s\u001b[0m 4ms/step - loss: 2545027072.0000 - mae: 34224.1680 - val_loss: 2726510336.0000 - val_mae: 35510.1641\n",
      "Epoch 301/5000\n",
      "\u001b[1m327/327\u001b[0m \u001b[32m━━━━━━━━━━━━━━━━━━━━\u001b[0m\u001b[37m\u001b[0m \u001b[1m1s\u001b[0m 4ms/step - loss: 2550092032.0000 - mae: 33986.0859 - val_loss: 2714216192.0000 - val_mae: 34017.7070\n",
      "Epoch 302/5000\n",
      "\u001b[1m327/327\u001b[0m \u001b[32m━━━━━━━━━━━━━━━━━━━━\u001b[0m\u001b[37m\u001b[0m \u001b[1m1s\u001b[0m 4ms/step - loss: 2581537536.0000 - mae: 34307.7891 - val_loss: 2722512128.0000 - val_mae: 34194.8086\n",
      "Epoch 303/5000\n",
      "\u001b[1m327/327\u001b[0m \u001b[32m━━━━━━━━━━━━━━━━━━━━\u001b[0m\u001b[37m\u001b[0m \u001b[1m1s\u001b[0m 4ms/step - loss: 2497297408.0000 - mae: 33849.5469 - val_loss: 2607223552.0000 - val_mae: 33559.4766\n",
      "Epoch 304/5000\n",
      "\u001b[1m327/327\u001b[0m \u001b[32m━━━━━━━━━━━━━━━━━━━━\u001b[0m\u001b[37m\u001b[0m \u001b[1m1s\u001b[0m 4ms/step - loss: 2524890112.0000 - mae: 34107.8672 - val_loss: 2682452224.0000 - val_mae: 35405.8359\n",
      "Epoch 305/5000\n",
      "\u001b[1m327/327\u001b[0m \u001b[32m━━━━━━━━━━━━━━━━━━━━\u001b[0m\u001b[37m\u001b[0m \u001b[1m1s\u001b[0m 4ms/step - loss: 2571835648.0000 - mae: 34385.3320 - val_loss: 2658843136.0000 - val_mae: 33919.4570\n",
      "Epoch 306/5000\n",
      "\u001b[1m327/327\u001b[0m \u001b[32m━━━━━━━━━━━━━━━━━━━━\u001b[0m\u001b[37m\u001b[0m \u001b[1m1s\u001b[0m 4ms/step - loss: 2487024128.0000 - mae: 33678.9727 - val_loss: 2556870400.0000 - val_mae: 33659.9961\n",
      "Epoch 307/5000\n",
      "\u001b[1m327/327\u001b[0m \u001b[32m━━━━━━━━━━━━━━━━━━━━\u001b[0m\u001b[37m\u001b[0m \u001b[1m1s\u001b[0m 4ms/step - loss: 2586134784.0000 - mae: 33897.1406 - val_loss: 2706425856.0000 - val_mae: 34916.6445\n",
      "Epoch 308/5000\n",
      "\u001b[1m327/327\u001b[0m \u001b[32m━━━━━━━━━━━━━━━━━━━━\u001b[0m\u001b[37m\u001b[0m \u001b[1m1s\u001b[0m 4ms/step - loss: 2534294016.0000 - mae: 34260.9102 - val_loss: 2897354752.0000 - val_mae: 35146.3789\n",
      "Epoch 309/5000\n",
      "\u001b[1m327/327\u001b[0m \u001b[32m━━━━━━━━━━━━━━━━━━━━\u001b[0m\u001b[37m\u001b[0m \u001b[1m1s\u001b[0m 4ms/step - loss: 2593487872.0000 - mae: 34221.1836 - val_loss: 2706231808.0000 - val_mae: 35101.7422\n",
      "Epoch 310/5000\n",
      "\u001b[1m327/327\u001b[0m \u001b[32m━━━━━━━━━━━━━━━━━━━━\u001b[0m\u001b[37m\u001b[0m \u001b[1m1s\u001b[0m 4ms/step - loss: 2547271936.0000 - mae: 34320.8281 - val_loss: 2765491712.0000 - val_mae: 35645.2188\n",
      "Epoch 311/5000\n",
      "\u001b[1m327/327\u001b[0m \u001b[32m━━━━━━━━━━━━━━━━━━━━\u001b[0m\u001b[37m\u001b[0m \u001b[1m1s\u001b[0m 4ms/step - loss: 2460113920.0000 - mae: 33675.5742 - val_loss: 2578048256.0000 - val_mae: 34039.6836\n",
      "Epoch 312/5000\n",
      "\u001b[1m327/327\u001b[0m \u001b[32m━━━━━━━━━━━━━━━━━━━━\u001b[0m\u001b[37m\u001b[0m \u001b[1m1s\u001b[0m 4ms/step - loss: 2448780032.0000 - mae: 33418.1602 - val_loss: 2624198400.0000 - val_mae: 33692.8125\n",
      "Epoch 313/5000\n",
      "\u001b[1m327/327\u001b[0m \u001b[32m━━━━━━━━━━━━━━━━━━━━\u001b[0m\u001b[37m\u001b[0m \u001b[1m1s\u001b[0m 4ms/step - loss: 2586338560.0000 - mae: 34257.1992 - val_loss: 2798710528.0000 - val_mae: 34570.8047\n",
      "Epoch 314/5000\n",
      "\u001b[1m327/327\u001b[0m \u001b[32m━━━━━━━━━━━━━━━━━━━━\u001b[0m\u001b[37m\u001b[0m \u001b[1m1s\u001b[0m 4ms/step - loss: 2570269440.0000 - mae: 34247.9414 - val_loss: 2650893312.0000 - val_mae: 34887.8281\n",
      "Epoch 315/5000\n",
      "\u001b[1m327/327\u001b[0m \u001b[32m━━━━━━━━━━━━━━━━━━━━\u001b[0m\u001b[37m\u001b[0m \u001b[1m1s\u001b[0m 4ms/step - loss: 2496868096.0000 - mae: 33696.2930 - val_loss: 2558060032.0000 - val_mae: 33259.8555\n",
      "Epoch 316/5000\n"
     ]
    },
    {
     "name": "stdout",
     "output_type": "stream",
     "text": [
      "\u001b[1m327/327\u001b[0m \u001b[32m━━━━━━━━━━━━━━━━━━━━\u001b[0m\u001b[37m\u001b[0m \u001b[1m1s\u001b[0m 4ms/step - loss: 2510819840.0000 - mae: 33932.6172 - val_loss: 2991411968.0000 - val_mae: 36022.3438\n",
      "Epoch 317/5000\n",
      "\u001b[1m327/327\u001b[0m \u001b[32m━━━━━━━━━━━━━━━━━━━━\u001b[0m\u001b[37m\u001b[0m \u001b[1m1s\u001b[0m 4ms/step - loss: 2518084096.0000 - mae: 34076.0859 - val_loss: 2581765120.0000 - val_mae: 33845.8438\n",
      "Epoch 318/5000\n",
      "\u001b[1m327/327\u001b[0m \u001b[32m━━━━━━━━━━━━━━━━━━━━\u001b[0m\u001b[37m\u001b[0m \u001b[1m1s\u001b[0m 4ms/step - loss: 2511156224.0000 - mae: 33943.0391 - val_loss: 2570253056.0000 - val_mae: 33521.8906\n",
      "Epoch 319/5000\n",
      "\u001b[1m327/327\u001b[0m \u001b[32m━━━━━━━━━━━━━━━━━━━━\u001b[0m\u001b[37m\u001b[0m \u001b[1m1s\u001b[0m 4ms/step - loss: 2511989504.0000 - mae: 33780.0781 - val_loss: 2715702784.0000 - val_mae: 36091.0000\n",
      "Epoch 320/5000\n",
      "\u001b[1m327/327\u001b[0m \u001b[32m━━━━━━━━━━━━━━━━━━━━\u001b[0m\u001b[37m\u001b[0m \u001b[1m1s\u001b[0m 4ms/step - loss: 2482426112.0000 - mae: 33803.4102 - val_loss: 2833562880.0000 - val_mae: 37374.0273\n",
      "Epoch 321/5000\n",
      "\u001b[1m327/327\u001b[0m \u001b[32m━━━━━━━━━━━━━━━━━━━━\u001b[0m\u001b[37m\u001b[0m \u001b[1m1s\u001b[0m 4ms/step - loss: 2404070656.0000 - mae: 33246.7031 - val_loss: 2560945664.0000 - val_mae: 34059.9336\n",
      "Epoch 322/5000\n",
      "\u001b[1m327/327\u001b[0m \u001b[32m━━━━━━━━━━━━━━━━━━━━\u001b[0m\u001b[37m\u001b[0m \u001b[1m1s\u001b[0m 4ms/step - loss: 2539414784.0000 - mae: 34054.7617 - val_loss: 2793661440.0000 - val_mae: 35580.6055\n",
      "Epoch 323/5000\n",
      "\u001b[1m327/327\u001b[0m \u001b[32m━━━━━━━━━━━━━━━━━━━━\u001b[0m\u001b[37m\u001b[0m \u001b[1m1s\u001b[0m 4ms/step - loss: 2415232512.0000 - mae: 33664.3516 - val_loss: 2587246848.0000 - val_mae: 34368.2891\n",
      "Epoch 324/5000\n",
      "\u001b[1m327/327\u001b[0m \u001b[32m━━━━━━━━━━━━━━━━━━━━\u001b[0m\u001b[37m\u001b[0m \u001b[1m1s\u001b[0m 4ms/step - loss: 2627702272.0000 - mae: 34480.0859 - val_loss: 2922799360.0000 - val_mae: 35544.9375\n",
      "Epoch 325/5000\n",
      "\u001b[1m327/327\u001b[0m \u001b[32m━━━━━━━━━━━━━━━━━━━━\u001b[0m\u001b[37m\u001b[0m \u001b[1m1s\u001b[0m 4ms/step - loss: 2572042752.0000 - mae: 34206.6172 - val_loss: 2679706624.0000 - val_mae: 35172.4961\n",
      "Epoch 326/5000\n",
      "\u001b[1m327/327\u001b[0m \u001b[32m━━━━━━━━━━━━━━━━━━━━\u001b[0m\u001b[37m\u001b[0m \u001b[1m1s\u001b[0m 4ms/step - loss: 2475858176.0000 - mae: 33779.2461 - val_loss: 2637954560.0000 - val_mae: 33656.1172\n",
      "Epoch 327/5000\n",
      "\u001b[1m327/327\u001b[0m \u001b[32m━━━━━━━━━━━━━━━━━━━━\u001b[0m\u001b[37m\u001b[0m \u001b[1m1s\u001b[0m 4ms/step - loss: 2483435264.0000 - mae: 33749.1133 - val_loss: 2541161728.0000 - val_mae: 33153.0469\n",
      "Epoch 328/5000\n",
      "\u001b[1m327/327\u001b[0m \u001b[32m━━━━━━━━━━━━━━━━━━━━\u001b[0m\u001b[37m\u001b[0m \u001b[1m1s\u001b[0m 4ms/step - loss: 2487435776.0000 - mae: 33991.4805 - val_loss: 2571657984.0000 - val_mae: 33907.0273\n",
      "Epoch 329/5000\n",
      "\u001b[1m327/327\u001b[0m \u001b[32m━━━━━━━━━━━━━━━━━━━━\u001b[0m\u001b[37m\u001b[0m \u001b[1m1s\u001b[0m 4ms/step - loss: 2492459008.0000 - mae: 33563.6680 - val_loss: 2894412288.0000 - val_mae: 37205.1523\n",
      "Epoch 330/5000\n",
      "\u001b[1m327/327\u001b[0m \u001b[32m━━━━━━━━━━━━━━━━━━━━\u001b[0m\u001b[37m\u001b[0m \u001b[1m1s\u001b[0m 4ms/step - loss: 2465689600.0000 - mae: 33305.6680 - val_loss: 2595521536.0000 - val_mae: 33771.5430\n",
      "Epoch 331/5000\n",
      "\u001b[1m327/327\u001b[0m \u001b[32m━━━━━━━━━━━━━━━━━━━━\u001b[0m\u001b[37m\u001b[0m \u001b[1m1s\u001b[0m 4ms/step - loss: 2510341376.0000 - mae: 33993.2656 - val_loss: 2589304576.0000 - val_mae: 33458.0430\n",
      "Epoch 332/5000\n",
      "\u001b[1m327/327\u001b[0m \u001b[32m━━━━━━━━━━━━━━━━━━━━\u001b[0m\u001b[37m\u001b[0m \u001b[1m1s\u001b[0m 4ms/step - loss: 2493367808.0000 - mae: 33356.0938 - val_loss: 2804814336.0000 - val_mae: 34713.2852\n",
      "Epoch 333/5000\n",
      "\u001b[1m327/327\u001b[0m \u001b[32m━━━━━━━━━━━━━━━━━━━━\u001b[0m\u001b[37m\u001b[0m \u001b[1m1s\u001b[0m 4ms/step - loss: 2408105216.0000 - mae: 33270.2891 - val_loss: 2652118784.0000 - val_mae: 34402.3516\n",
      "Epoch 334/5000\n",
      "\u001b[1m327/327\u001b[0m \u001b[32m━━━━━━━━━━━━━━━━━━━━\u001b[0m\u001b[37m\u001b[0m \u001b[1m1s\u001b[0m 4ms/step - loss: 2437652480.0000 - mae: 33389.4766 - val_loss: 2585753344.0000 - val_mae: 33409.6172\n",
      "Epoch 335/5000\n",
      "\u001b[1m327/327\u001b[0m \u001b[32m━━━━━━━━━━━━━━━━━━━━\u001b[0m\u001b[37m\u001b[0m \u001b[1m1s\u001b[0m 4ms/step - loss: 2487397632.0000 - mae: 33658.2656 - val_loss: 2597110784.0000 - val_mae: 33889.9297\n",
      "Epoch 336/5000\n",
      "\u001b[1m327/327\u001b[0m \u001b[32m━━━━━━━━━━━━━━━━━━━━\u001b[0m\u001b[37m\u001b[0m \u001b[1m1s\u001b[0m 4ms/step - loss: 2441345024.0000 - mae: 33514.2148 - val_loss: 2658814208.0000 - val_mae: 34274.3516\n",
      "Epoch 337/5000\n",
      "\u001b[1m327/327\u001b[0m \u001b[32m━━━━━━━━━━━━━━━━━━━━\u001b[0m\u001b[37m\u001b[0m \u001b[1m1s\u001b[0m 4ms/step - loss: 2535927040.0000 - mae: 34073.1172 - val_loss: 2929045248.0000 - val_mae: 37599.2422\n",
      "Epoch 338/5000\n",
      "\u001b[1m327/327\u001b[0m \u001b[32m━━━━━━━━━━━━━━━━━━━━\u001b[0m\u001b[37m\u001b[0m \u001b[1m1s\u001b[0m 4ms/step - loss: 2493611776.0000 - mae: 33497.3906 - val_loss: 2559640064.0000 - val_mae: 34146.0039\n",
      "Epoch 339/5000\n",
      "\u001b[1m327/327\u001b[0m \u001b[32m━━━━━━━━━━━━━━━━━━━━\u001b[0m\u001b[37m\u001b[0m \u001b[1m1s\u001b[0m 4ms/step - loss: 2555987968.0000 - mae: 34200.3945 - val_loss: 2795627008.0000 - val_mae: 35825.3789\n",
      "Epoch 340/5000\n",
      "\u001b[1m327/327\u001b[0m \u001b[32m━━━━━━━━━━━━━━━━━━━━\u001b[0m\u001b[37m\u001b[0m \u001b[1m1s\u001b[0m 4ms/step - loss: 2452265728.0000 - mae: 33647.4336 - val_loss: 2585848576.0000 - val_mae: 33397.7617\n",
      "Epoch 341/5000\n",
      "\u001b[1m327/327\u001b[0m \u001b[32m━━━━━━━━━━━━━━━━━━━━\u001b[0m\u001b[37m\u001b[0m \u001b[1m1s\u001b[0m 4ms/step - loss: 2476407808.0000 - mae: 33565.1250 - val_loss: 2640001536.0000 - val_mae: 33563.0234\n",
      "Epoch 342/5000\n",
      "\u001b[1m327/327\u001b[0m \u001b[32m━━━━━━━━━━━━━━━━━━━━\u001b[0m\u001b[37m\u001b[0m \u001b[1m1s\u001b[0m 4ms/step - loss: 2570657536.0000 - mae: 34294.7188 - val_loss: 2617887232.0000 - val_mae: 34086.9102\n",
      "Epoch 343/5000\n",
      "\u001b[1m327/327\u001b[0m \u001b[32m━━━━━━━━━━━━━━━━━━━━\u001b[0m\u001b[37m\u001b[0m \u001b[1m1s\u001b[0m 4ms/step - loss: 2388091648.0000 - mae: 33099.9844 - val_loss: 3284220160.0000 - val_mae: 42160.6406\n",
      "Epoch 344/5000\n",
      "\u001b[1m327/327\u001b[0m \u001b[32m━━━━━━━━━━━━━━━━━━━━\u001b[0m\u001b[37m\u001b[0m \u001b[1m1s\u001b[0m 4ms/step - loss: 2445626624.0000 - mae: 33519.1289 - val_loss: 2729248000.0000 - val_mae: 35665.2305\n",
      "Epoch 345/5000\n",
      "\u001b[1m327/327\u001b[0m \u001b[32m━━━━━━━━━━━━━━━━━━━━\u001b[0m\u001b[37m\u001b[0m \u001b[1m1s\u001b[0m 4ms/step - loss: 2548020480.0000 - mae: 34125.0430 - val_loss: 2677046016.0000 - val_mae: 33870.6719\n",
      "Epoch 346/5000\n",
      "\u001b[1m327/327\u001b[0m \u001b[32m━━━━━━━━━━━━━━━━━━━━\u001b[0m\u001b[37m\u001b[0m \u001b[1m1s\u001b[0m 4ms/step - loss: 2438742528.0000 - mae: 33425.5195 - val_loss: 2862872320.0000 - val_mae: 36535.1211\n",
      "Epoch 347/5000\n",
      "\u001b[1m327/327\u001b[0m \u001b[32m━━━━━━━━━━━━━━━━━━━━\u001b[0m\u001b[37m\u001b[0m \u001b[1m1s\u001b[0m 4ms/step - loss: 2447646208.0000 - mae: 33253.1055 - val_loss: 2703175168.0000 - val_mae: 35523.1250\n",
      "Epoch 348/5000\n",
      "\u001b[1m327/327\u001b[0m \u001b[32m━━━━━━━━━━━━━━━━━━━━\u001b[0m\u001b[37m\u001b[0m \u001b[1m1s\u001b[0m 4ms/step - loss: 2522927104.0000 - mae: 33754.4688 - val_loss: 2769712640.0000 - val_mae: 35485.4414\n",
      "Epoch 349/5000\n",
      "\u001b[1m327/327\u001b[0m \u001b[32m━━━━━━━━━━━━━━━━━━━━\u001b[0m\u001b[37m\u001b[0m \u001b[1m1s\u001b[0m 4ms/step - loss: 2518144256.0000 - mae: 33723.9062 - val_loss: 2575853568.0000 - val_mae: 33788.7031\n",
      "Epoch 350/5000\n",
      "\u001b[1m327/327\u001b[0m \u001b[32m━━━━━━━━━━━━━━━━━━━━\u001b[0m\u001b[37m\u001b[0m \u001b[1m1s\u001b[0m 4ms/step - loss: 2333741568.0000 - mae: 32720.0391 - val_loss: 2640542464.0000 - val_mae: 33703.0977\n",
      "Epoch 351/5000\n",
      "\u001b[1m327/327\u001b[0m \u001b[32m━━━━━━━━━━━━━━━━━━━━\u001b[0m\u001b[37m\u001b[0m \u001b[1m1s\u001b[0m 4ms/step - loss: 2414414848.0000 - mae: 33179.2148 - val_loss: 3410649600.0000 - val_mae: 41974.1523\n",
      "Epoch 352/5000\n",
      "\u001b[1m327/327\u001b[0m \u001b[32m━━━━━━━━━━━━━━━━━━━━\u001b[0m\u001b[37m\u001b[0m \u001b[1m1s\u001b[0m 4ms/step - loss: 2414482432.0000 - mae: 33215.6602 - val_loss: 2558281472.0000 - val_mae: 33396.0742\n",
      "Epoch 353/5000\n",
      "\u001b[1m327/327\u001b[0m \u001b[32m━━━━━━━━━━━━━━━━━━━━\u001b[0m\u001b[37m\u001b[0m \u001b[1m1s\u001b[0m 4ms/step - loss: 2503950080.0000 - mae: 33587.3320 - val_loss: 2667087104.0000 - val_mae: 33563.1211\n",
      "Epoch 354/5000\n",
      "\u001b[1m327/327\u001b[0m \u001b[32m━━━━━━━━━━━━━━━━━━━━\u001b[0m\u001b[37m\u001b[0m \u001b[1m1s\u001b[0m 4ms/step - loss: 2460030464.0000 - mae: 33672.6523 - val_loss: 2641633024.0000 - val_mae: 34348.3555\n",
      "Epoch 355/5000\n",
      "\u001b[1m327/327\u001b[0m \u001b[32m━━━━━━━━━━━━━━━━━━━━\u001b[0m\u001b[37m\u001b[0m \u001b[1m1s\u001b[0m 4ms/step - loss: 2500579072.0000 - mae: 33818.3516 - val_loss: 2925620224.0000 - val_mae: 36569.6289\n",
      "Epoch 356/5000\n",
      "\u001b[1m327/327\u001b[0m \u001b[32m━━━━━━━━━━━━━━━━━━━━\u001b[0m\u001b[37m\u001b[0m \u001b[1m1s\u001b[0m 4ms/step - loss: 2403241216.0000 - mae: 33252.9922 - val_loss: 2726131712.0000 - val_mae: 34956.1797\n",
      "Epoch 357/5000\n",
      "\u001b[1m327/327\u001b[0m \u001b[32m━━━━━━━━━━━━━━━━━━━━\u001b[0m\u001b[37m\u001b[0m \u001b[1m1s\u001b[0m 4ms/step - loss: 2502171904.0000 - mae: 33592.6562 - val_loss: 2600741632.0000 - val_mae: 33847.7656\n",
      "Epoch 358/5000\n",
      "\u001b[1m327/327\u001b[0m \u001b[32m━━━━━━━━━━━━━━━━━━━━\u001b[0m\u001b[37m\u001b[0m \u001b[1m1s\u001b[0m 4ms/step - loss: 2462655488.0000 - mae: 33275.8711 - val_loss: 2667908864.0000 - val_mae: 35234.3242\n",
      "Epoch 359/5000\n",
      "\u001b[1m327/327\u001b[0m \u001b[32m━━━━━━━━━━━━━━━━━━━━\u001b[0m\u001b[37m\u001b[0m \u001b[1m1s\u001b[0m 4ms/step - loss: 2394821376.0000 - mae: 33235.6523 - val_loss: 3121310720.0000 - val_mae: 39380.7344\n",
      "Epoch 360/5000\n",
      "\u001b[1m327/327\u001b[0m \u001b[32m━━━━━━━━━━━━━━━━━━━━\u001b[0m\u001b[37m\u001b[0m \u001b[1m1s\u001b[0m 4ms/step - loss: 2509622784.0000 - mae: 33803.9531 - val_loss: 2652488192.0000 - val_mae: 33578.5391\n",
      "Epoch 361/5000\n"
     ]
    },
    {
     "name": "stdout",
     "output_type": "stream",
     "text": [
      "\u001b[1m327/327\u001b[0m \u001b[32m━━━━━━━━━━━━━━━━━━━━\u001b[0m\u001b[37m\u001b[0m \u001b[1m1s\u001b[0m 4ms/step - loss: 2391959040.0000 - mae: 33006.8047 - val_loss: 2562443520.0000 - val_mae: 34162.7656\n",
      "Epoch 362/5000\n",
      "\u001b[1m327/327\u001b[0m \u001b[32m━━━━━━━━━━━━━━━━━━━━\u001b[0m\u001b[37m\u001b[0m \u001b[1m1s\u001b[0m 4ms/step - loss: 2479020288.0000 - mae: 33584.5039 - val_loss: 2582791936.0000 - val_mae: 33684.7812\n",
      "Epoch 363/5000\n",
      "\u001b[1m327/327\u001b[0m \u001b[32m━━━━━━━━━━━━━━━━━━━━\u001b[0m\u001b[37m\u001b[0m \u001b[1m1s\u001b[0m 4ms/step - loss: 2398618624.0000 - mae: 33070.3867 - val_loss: 2599847424.0000 - val_mae: 33588.6875\n",
      "Epoch 364/5000\n",
      "\u001b[1m327/327\u001b[0m \u001b[32m━━━━━━━━━━━━━━━━━━━━\u001b[0m\u001b[37m\u001b[0m \u001b[1m1s\u001b[0m 4ms/step - loss: 2472437504.0000 - mae: 33281.9414 - val_loss: 2616040448.0000 - val_mae: 34104.2539\n",
      "Epoch 365/5000\n",
      "\u001b[1m327/327\u001b[0m \u001b[32m━━━━━━━━━━━━━━━━━━━━\u001b[0m\u001b[37m\u001b[0m \u001b[1m1s\u001b[0m 4ms/step - loss: 2421487616.0000 - mae: 32977.2539 - val_loss: 2557825280.0000 - val_mae: 33197.4688\n",
      "Epoch 366/5000\n",
      "\u001b[1m327/327\u001b[0m \u001b[32m━━━━━━━━━━━━━━━━━━━━\u001b[0m\u001b[37m\u001b[0m \u001b[1m1s\u001b[0m 4ms/step - loss: 2422536192.0000 - mae: 33238.6562 - val_loss: 2688991744.0000 - val_mae: 34008.8828\n",
      "Epoch 367/5000\n",
      "\u001b[1m327/327\u001b[0m \u001b[32m━━━━━━━━━━━━━━━━━━━━\u001b[0m\u001b[37m\u001b[0m \u001b[1m1s\u001b[0m 3ms/step - loss: 2357182976.0000 - mae: 32985.8945 - val_loss: 2745905664.0000 - val_mae: 35525.2188\n",
      "Epoch 368/5000\n",
      "\u001b[1m327/327\u001b[0m \u001b[32m━━━━━━━━━━━━━━━━━━━━\u001b[0m\u001b[37m\u001b[0m \u001b[1m1s\u001b[0m 4ms/step - loss: 2396347136.0000 - mae: 33184.3594 - val_loss: 3123022592.0000 - val_mae: 38876.4453\n",
      "Epoch 369/5000\n",
      "\u001b[1m327/327\u001b[0m \u001b[32m━━━━━━━━━━━━━━━━━━━━\u001b[0m\u001b[37m\u001b[0m \u001b[1m1s\u001b[0m 4ms/step - loss: 2422964480.0000 - mae: 33331.3867 - val_loss: 2636493824.0000 - val_mae: 34146.9023\n",
      "Epoch 370/5000\n",
      "\u001b[1m327/327\u001b[0m \u001b[32m━━━━━━━━━━━━━━━━━━━━\u001b[0m\u001b[37m\u001b[0m \u001b[1m1s\u001b[0m 4ms/step - loss: 2495008256.0000 - mae: 33632.4844 - val_loss: 2567794944.0000 - val_mae: 33967.9883\n",
      "Epoch 371/5000\n",
      "\u001b[1m327/327\u001b[0m \u001b[32m━━━━━━━━━━━━━━━━━━━━\u001b[0m\u001b[37m\u001b[0m \u001b[1m1s\u001b[0m 4ms/step - loss: 2445972224.0000 - mae: 33481.9688 - val_loss: 2637752832.0000 - val_mae: 34738.3516\n",
      "Epoch 372/5000\n",
      "\u001b[1m327/327\u001b[0m \u001b[32m━━━━━━━━━━━━━━━━━━━━\u001b[0m\u001b[37m\u001b[0m \u001b[1m1s\u001b[0m 4ms/step - loss: 2347042560.0000 - mae: 32715.5312 - val_loss: 2674344448.0000 - val_mae: 33696.2148\n",
      "Epoch 373/5000\n",
      "\u001b[1m327/327\u001b[0m \u001b[32m━━━━━━━━━━━━━━━━━━━━\u001b[0m\u001b[37m\u001b[0m \u001b[1m2s\u001b[0m 5ms/step - loss: 2330176512.0000 - mae: 32734.2949 - val_loss: 2544740864.0000 - val_mae: 33287.8047\n",
      "Epoch 374/5000\n",
      "\u001b[1m327/327\u001b[0m \u001b[32m━━━━━━━━━━━━━━━━━━━━\u001b[0m\u001b[37m\u001b[0m \u001b[1m1s\u001b[0m 4ms/step - loss: 2381657088.0000 - mae: 32840.0117 - val_loss: 2726100480.0000 - val_mae: 36124.6953\n",
      "Epoch 375/5000\n",
      "\u001b[1m327/327\u001b[0m \u001b[32m━━━━━━━━━━━━━━━━━━━━\u001b[0m\u001b[37m\u001b[0m \u001b[1m1s\u001b[0m 4ms/step - loss: 2340438272.0000 - mae: 32706.3359 - val_loss: 2581299968.0000 - val_mae: 33635.8438\n",
      "Epoch 376/5000\n",
      "\u001b[1m327/327\u001b[0m \u001b[32m━━━━━━━━━━━━━━━━━━━━\u001b[0m\u001b[37m\u001b[0m \u001b[1m1s\u001b[0m 4ms/step - loss: 2343021568.0000 - mae: 32834.0195 - val_loss: 2752481536.0000 - val_mae: 36744.6758\n",
      "Epoch 377/5000\n",
      "\u001b[1m327/327\u001b[0m \u001b[32m━━━━━━━━━━━━━━━━━━━━\u001b[0m\u001b[37m\u001b[0m \u001b[1m1s\u001b[0m 4ms/step - loss: 2375843072.0000 - mae: 32747.7520 - val_loss: 2679114752.0000 - val_mae: 33930.4023\n"
     ]
    }
   ],
   "source": [
    "history = model.fit(X_train, y_train,\n",
    "                    validation_data = (X_test, y_test),\n",
    "                    callbacks=[es],\n",
    "                    epochs=5000,\n",
    "                    batch_size=50,\n",
    "                    verbose=1)\n"
   ]
  },
  {
   "cell_type": "markdown",
   "id": "43d6f5d8",
   "metadata": {},
   "source": [
    "### Graficamos"
   ]
  },
  {
   "cell_type": "code",
   "execution_count": 20,
   "id": "b1b90c5a",
   "metadata": {},
   "outputs": [
    {
     "data": {
      "image/png": "[encoded data removed]",
      "text/plain": [
       "<Figure size 432x288 with 1 Axes>"
      ]
     },
     "metadata": {
      "needs_background": "light"
     },
     "output_type": "display_data"
    }
   ],
   "source": [
    "history_dict = history.history\n",
    "loss_values = history_dict['loss'] \n",
    "val_loss_values = history_dict['val_loss']\n",
    "epochs = range(1, len(loss_values) + 1) # Numero de Epochs, para X\n",
    "plt.plot(epochs, loss_values, 'bo', label='Training loss')\n",
    "plt.plot(epochs, val_loss_values, 'orange', label='Validation loss')\n",
    "plt.title('Training and validation loss')\n",
    "plt.xlabel('Epochs')\n",
    "plt.ylabel('Loss')\n",
    "plt.legend()\n",
    "plt.show()"
   ]
  },
  {
   "cell_type": "code",
   "execution_count": 39,
   "id": "f70704ea",
   "metadata": {},
   "outputs": [
    {
     "name": "stdout",
     "output_type": "stream",
     "text": [
      "\u001b[1m511/511\u001b[0m \u001b[32m━━━━━━━━━━━━━━━━━━━━\u001b[0m\u001b[37m\u001b[0m \u001b[1m0s\u001b[0m 676us/step\n",
      "\u001b[1m128/128\u001b[0m \u001b[32m━━━━━━━━━━━━━━━━━━━━\u001b[0m\u001b[37m\u001b[0m \u001b[1m0s\u001b[0m 692us/step\n"
     ]
    },
    {
     "data": {
      "image/png": "[encoded data removed]",
      "text/plain": [
       "<Figure size 432x288 with 2 Axes>"
      ]
     },
     "metadata": {
      "needs_background": "light"
     },
     "output_type": "display_data"
    }
   ],
   "source": [
    "fig, axes = plt.subplots(1,2) # 1 fila, dos columnas\n",
    "\n",
    "\n",
    "# Entrenamiento\n",
    "axes[0].scatter(x=y_train, y=model.predict(X_train)) #first row, first entry (left top)\n",
    "axes[0].set_xlabel(\"Actual\", fontsize=10)\n",
    "axes[0].set_ylabel(\"Predicted\",  fontsize=10)\n",
    "axes[0].set_title(\"Training\")\n",
    "# Linea de 45 grados\n",
    "x = np.linspace(*axes[0].get_xlim())\n",
    "axes[0].plot(x, x, color='red')\n",
    "# Validacion\n",
    "axes[1].scatter(x=y_test, y=model.predict(X_test)) # first row, second entry (right top)\n",
    "axes[1].set_xlabel(\"Actual\", fontsize=10)\n",
    "axes[1].set_ylabel(\"Predicted\",  fontsize=10)\n",
    "axes[1].set_title(\"Validation\")\n",
    "# Linea de 45 grados\n",
    "x = np.linspace(*axes[1].get_xlim())\n",
    "axes[1].plot(x, x, color='red')\n",
    "# Pequeña separación entre gráficas.\n",
    "fig.tight_layout()\n",
    "\n",
    "\n"
   ]
  },
  {
   "cell_type": "markdown",
   "id": "2ee04545",
   "metadata": {},
   "source": [
    "# 4. Predecimos"
   ]
  },
  {
   "cell_type": "code",
   "execution_count": 24,
   "id": "8028e777",
   "metadata": {},
   "outputs": [
    {
     "name": "stdout",
     "output_type": "stream",
     "text": [
      "\u001b[1m128/128\u001b[0m \u001b[32m━━━━━━━━━━━━━━━━━━━━\u001b[0m\u001b[37m\u001b[0m \u001b[1m0s\u001b[0m 873us/step\n"
     ]
    },
    {
     "data": {
      "text/plain": [
       "array([[165840.31],\n",
       "       [130271.96],\n",
       "       [ 67782.52],\n",
       "       ...,\n",
       "       [213650.75],\n",
       "       [308183.25],\n",
       "       [236336.  ]], dtype=float32)"
      ]
     },
     "execution_count": 24,
     "metadata": {},
     "output_type": "execute_result"
    }
   ],
   "source": [
    "\n",
    "pred = model.predict(X_test)\n",
    "pred"
   ]
  },
  {
   "cell_type": "markdown",
   "id": "ae557ad9",
   "metadata": {},
   "source": [
    "# 5. Métricas"
   ]
  },
  {
   "cell_type": "code",
   "execution_count": 27,
   "id": "52e5e6ac",
   "metadata": {},
   "outputs": [
    {
     "name": "stdout",
     "output_type": "stream",
     "text": [
      "\u001b[1m511/511\u001b[0m \u001b[32m━━━━━━━━━━━━━━━━━━━━\u001b[0m\u001b[37m\u001b[0m \u001b[1m0s\u001b[0m 782us/step\n",
      "MAE Entrenamiento:  32449.718281374266\n",
      "MAE Prueba:  33153.041688012294\n"
     ]
    }
   ],
   "source": [
    "\n",
    "\n",
    "trainpreds = model.predict(X_train)\n",
    "\n",
    "print(\"MAE Entrenamiento: \",mean_absolute_error(y_train, trainpreds)) # Entrenamiento\n",
    "print(\"MAE Prueba: \",mean_absolute_error(y_test, pred)) # Prueba"
   ]
  },
  {
   "cell_type": "code",
   "execution_count": 34,
   "id": "85db7194",
   "metadata": {},
   "outputs": [
    {
     "name": "stdout",
     "output_type": "stream",
     "text": [
      "MSE:  2541162185.400551\n"
     ]
    }
   ],
   "source": [
    "mse = mean_squared_error(y_test, pred)\n",
    "print(\"MSE: \",mse)"
   ]
  },
  {
   "cell_type": "code",
   "execution_count": 37,
   "id": "0bf2bd9d",
   "metadata": {},
   "outputs": [
    {
     "name": "stdout",
     "output_type": "stream",
     "text": [
      "R²:  0.8018098527597155\n"
     ]
    }
   ],
   "source": [
    "r2 = r2_score(y_test, pred)\n",
    "print(\"R²: \", r2)\n"
   ]
  },
  {
   "cell_type": "markdown",
   "id": "68a49409",
   "metadata": {},
   "source": [
    "# 6. Analisis"
   ]
  },
  {
   "cell_type": "markdown",
   "id": "f7ef9867",
   "metadata": {},
   "source": [
    "#### MAE es el error promedio de las predicciones de mi modelo. El hecho de que ambos sean muy similiares es un indicador que no tengo sobreajuste en mi modelo y es consistente al generalizar"
   ]
  },
  {
   "cell_type": "markdown",
   "id": "70392dd9",
   "metadata": {},
   "source": [
    "#### MSE en este caso queda relativamente grande reflejando la variabilidad de los errores en las predicciones y que los errores grandes son penalizados más severamente. "
   ]
  },
  {
   "cell_type": "markdown",
   "id": "a188b124",
   "metadata": {},
   "source": [
    "#### R² de 0.8018 indica que aproximadamente el 80.18% de la variabilidad en la variable dependiente es explicada por el modelo. El modelo tiene buen ajuste a los datos."
   ]
  },
  {
   "cell_type": "code",
   "execution_count": null,
   "id": "f3a5759d",
   "metadata": {},
   "outputs": [],
   "source": []
  }
 ],
 "metadata": {
  "kernelspec": {
   "display_name": "Python 3 (ipykernel)",
   "language": "python",
   "name": "python3"
  },
  "language_info": {
   "codemirror_mode": {
    "name": "ipython",
    "version": 3
   },
   "file_extension": ".py",
   "mimetype": "text/x-python",
   "name": "python",
   "nbconvert_exporter": "python",
   "pygments_lexer": "ipython3",
   "version": "3.10.5"
  }
 },
 "nbformat": 4,
 "nbformat_minor": 5
}
